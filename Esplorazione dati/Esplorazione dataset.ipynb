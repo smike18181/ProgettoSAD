{
 "cells": [
  {
   "cell_type": "markdown",
   "id": "f8f729b6-c4f5-4127-ab58-0e1740edd375",
   "metadata": {},
   "source": [
    "# Analisi e Studio del dataset"
   ]
  },
  {
   "cell_type": "markdown",
   "id": "c8fb8350-db9b-4d8b-a07a-d334c54d2339",
   "metadata": {},
   "source": [
    "## 1) Esplorazione dataset"
   ]
  },
  {
   "cell_type": "markdown",
   "id": "717012bf-ecbd-4bb8-82c0-efd01adfcc0a",
   "metadata": {},
   "source": [
    "### 1.1) Esportazione"
   ]
  },
  {
   "cell_type": "code",
   "execution_count": 1,
   "id": "b377d1be-5d5e-4b80-9aab-97641e7fcd8d",
   "metadata": {},
   "outputs": [
    {
     "name": "stdout",
     "output_type": "stream",
     "text": [
      "Il file è stato trovato: Dataset/Sentiment_en_tweet_2023.csv \n",
      "Contenuto del file CSV:\n",
      "        userid        username\n",
      "1 2.224061e+07   AlArabiya_Eng\n",
      "2 1.252283e+08     apple2hotel\n",
      "3 1.365269e+18 TerryTheTipste1\n",
      "4 1.295405e+18 MayadeenEnglish\n",
      "5 1.508116e+18   FloranceOlman\n",
      "6 1.616511e+18  NUHerbalHealth\n",
      "                                                                                                                                                   acctdesc\n",
      "1                                                                                             The Arab worldâ\\200\\231s leading source of global news and opinion.\n",
      "2                                    Travel bookings can be made online through a travel  website through a traditional travel agent.\\n#travel #travelbuddy\n",
      "3            Sports Nut, Tipping Enthusiast. 80s music addict who loves betting on horses and all sport. Follow for FREE Betting Tips on variety of Sports.\n",
      "4                                                                                                  The official Twitter page of Al Mayadeen English Website\n",
      "5                                                  ð\\235\\231\\201ð\\235\\231\\215ð\\235\\231\\200ð\\235\\231\\200 ð\\235\\231Žð\\235\\231‹ð\\235\\231„ð\\235\\231‰ð\\235\\231Ž ð\\235\\230¾ð\\235\\231Šð\\235\\231„ð\\235\\231‰ ð\\235\\231\\210ð\\235\\230¼ð\\235\\231Žð\\235\\231\\217ð\\235\\231\\200ð\\235\\231\\215\\nhttps://t.co/tXeaFea755\n",
      "6 Nu Herbal Health is a herbal supplement company based in Atlanta, \\nGeorgia. Our focus is to supplement our customers with products \\nthat will help them\n",
      "                  location following followers totaltweets       usercreatedts\n",
      "1                    Dubai        46    927188      337714 2009-02-28 08:31:32\n",
      "2 United States of America        93        36         335 2010-03-22 04:00:31\n",
      "3             South Africa      4122      1973       23131 2021-02-26 11:55:09\n",
      "4                                  7     18833       40331 2020-08-17 17:01:18\n",
      "5                                 75     29350        8148 2022-03-27 16:20:00\n",
      "6            United States         9         1          18 2023-01-20 19:00:51\n",
      "      tweetid      tweetcreatedts retweetcount\n",
      "1 1.62927e+18 2023-02-25 00:00:01            2\n",
      "2 1.62927e+18 2023-02-25 00:00:01            0\n",
      "3 1.62927e+18 2023-02-25 00:00:01            0\n",
      "4 1.62927e+18 2023-02-25 00:00:01            4\n",
      "5 1.62927e+18 2023-02-25 00:00:02            0\n",
      "6 1.62927e+18 2023-02-25 00:00:02            0\n",
      "                                                                                                                                                                                                                                                                                                                      text\n",
      "1                                        ICYMI: Former Russian President Dmitry Medvedev says that the only way for #Moscow to ensure a lasting peace with Ukraine was to push back the borders of hostile states as far as possible, even if that meant the frontiers of #NATO member #Poland.\\n\\nhttps://t.co/X6UUkw4rbx\n",
      "2                                                                                                                                                                                                     Explore the History and Culture of Moskva, Russia.\\n#Moskva #Russia\\nhttps://t.co/gqFzH951af https://t.co/dz55XUPOxa\n",
      "3                                                                                   NHL\\nWINNIPEG JETS 1.41\\nbeat\\nCOLORADO AVALANCHE\\nHollywoodbets https://t.co/8oX1W4SWBY    \\n\\n#Gamblingtwitter #BNB #ETH #Bitcoin #BTC #loveisland #BBTaitans #Crypto #Horses #NFT #Ukraine #Russia  #sports https://t.co/CcqrLJ5NUA\n",
      "4                                                                                         On the one-year anniversary of the start of the #Ukraine war, #French right-wing leader Marine Le Pen suggested in a letter that her country should host a peace conference between Ukraine and #Russia. https://t.co/hqKhUpMjC1\n",
      "5 GIVEAWAY Free 125K Spins ðŸŽ‰\\nIt's 100% working\\n\\n1- Comment ( spin )\\n2- Retweet Post\\n3- Like\\n4- Collect Here:  https://t.co/hUJNUZk4j3\\n\\n#coinmaster #coinmasterfreespins #coinmasterfreespinslink #CoinMasterspins #coinmasterofficial #coinmasters #coinmasterrewards #USA #uk #Germany https://t.co/EMdsaFu0RJ\n",
      "6               Optimize is synthesized utilizing grass-fed collagen peptides from healthy cows and provides nutrient-rich type I and III collagen peptides.\\nShop Now: https://t.co/xaDTMwK4cE\\n#heartattack #UkraineRussianWar #Pikachu #NewCoke #NewCoke #Pikachu #health #healthfoodie #health https://t.co/ny82tMoM0G\n",
      "                                                                                                                                                                                                                                                                                                                                                                                                                                                                                                                                                                              hashtags\n",
      "1                                                                                                                                                                                                                                                                                                                                                                                                                                                        [{'text': 'Moscow', 'indices': [75, 82]}, {'text': 'NATO', 'indices': [225, 230]}, {'text': 'Poland', 'indices': [238, 245]}]\n",
      "2                                                                                                                                                                                                                                                                                                                                                                                                                                                                                                   [{'text': 'Moskva', 'indices': [51, 58]}, {'text': 'Russia', 'indices': [59, 66]}]\n",
      "3 [{'text': 'Gamblingtwitter', 'indices': [90, 106]}, {'text': 'BNB', 'indices': [107, 111]}, {'text': 'ETH', 'indices': [112, 116]}, {'text': 'Bitcoin', 'indices': [117, 125]}, {'text': 'BTC', 'indices': [126, 130]}, {'text': 'loveisland', 'indices': [131, 142]}, {'text': 'BBTaitans', 'indices': [143, 153]}, {'text': 'Crypto', 'indices': [154, 161]}, {'text': 'Horses', 'indices': [162, 169]}, {'text': 'NFT', 'indices': [170, 174]}, {'text': 'Ukraine', 'indices': [175, 183]}, {'text': 'Russia', 'indices': [184, 191]}, {'text': 'sports', 'indices': [193, 200]}]\n",
      "4                                                                                                                                                                                                                                                                                                                                                                                                                                                       [{'text': 'Ukraine', 'indices': [48, 56]}, {'text': 'French', 'indices': [62, 69]}, {'text': 'Russia', 'indices': [192, 199]}]\n",
      "5                                                                      [{'text': 'coinmaster', 'indices': [133, 144]}, {'text': 'coinmasterfreespins', 'indices': [145, 165]}, {'text': 'coinmasterfreespinslink', 'indices': [166, 190]}, {'text': 'CoinMasterspins', 'indices': [191, 207]}, {'text': 'coinmasterofficial', 'indices': [208, 227]}, {'text': 'coinmasters', 'indices': [228, 240]}, {'text': 'coinmasterrewards', 'indices': [241, 259]}, {'text': 'USA', 'indices': [260, 264]}, {'text': 'uk', 'indices': [265, 268]}, {'text': 'Germany', 'indices': [269, 277]}]\n",
      "6                                                                                                                                                        [{'text': 'heartattack', 'indices': [175, 187]}, {'text': 'UkraineRussianWar', 'indices': [188, 206]}, {'text': 'Pikachu', 'indices': [207, 215]}, {'text': 'NewCoke', 'indices': [216, 224]}, {'text': 'NewCoke', 'indices': [225, 233]}, {'text': 'Pikachu', 'indices': [234, 242]}, {'text': 'health', 'indices': [243, 250]}, {'text': 'healthfoodie', 'indices': [251, 264]}, {'text': 'health', 'indices': [265, 272]}]\n",
      "  language coordinates favorite_count is_retweet original_tweet_id\n",
      "1       en                          4      False                 0\n",
      "2       en                          0      False                 0\n",
      "3       en                          3      False                 0\n",
      "4       en                          4      False                 0\n",
      "5       en                          0      False                 0\n",
      "6       en                          0      False                 0\n",
      "  original_tweet_userid original_tweet_username in_reply_to_status_id\n",
      "1                     0                                             0\n",
      "2                     0                                             0\n",
      "3                     0                                             0\n",
      "4                     0                                             0\n",
      "5                     0                                             0\n",
      "6                     0                                             0\n",
      "  in_reply_to_user_id in_reply_to_screen_name is_quote_status quoted_status_id\n",
      "1                   0                                   False                0\n",
      "2                   0                                   False                0\n",
      "3                   0                                   False                0\n",
      "4                   0                                   False                0\n",
      "5                   0                                   False                0\n",
      "6                   0                                   False                0\n",
      "  quoted_status_userid quoted_status_username                extractedts\n",
      "1                    0                        2023-02-25 04:10:46.294831\n",
      "2                    0                        2023-02-25 04:35:32.939981\n",
      "3                    0                        2023-02-25 04:35:32.930885\n",
      "4                    0                        2023-02-25 04:35:32.912346\n",
      "5                    0                        2023-02-25 00:36:59.975706\n",
      "6                    0                        2023-02-25 07:05:49.179112\n",
      "  sentiment     score\n",
      "1       neu 0.4416097\n",
      "2       neu 0.8274779\n",
      "3       neu 0.8024696\n",
      "4       neu 0.5783824\n",
      "5       neu 0.7964669\n",
      "6       neu 0.5695367\n"
     ]
    }
   ],
   "source": [
    "# Controllo se il file CSV esiste\n",
    "file_path <- \"Dataset/Sentiment_en_tweet_2023.csv\"\n",
    "\n",
    "if (file.exists(file_path)) {\n",
    "  cat(\"Il file è stato trovato:\", file_path, \"\\n\")\n",
    "  \n",
    "  # Provo a leggere il file CSV con il separatore ';'\n",
    "  df_imported <- try(read.csv(file_path, sep = \";\"))\n",
    "  \n",
    "  # Verifico se ci sono stati errori nel caricamento\n",
    "  if (inherits(df_imported, \"try-error\")) {\n",
    "    cat(\"Errore nel caricamento del file. Potrebbero esserci righe malformattate o vuote.\\n\")\n",
    "  } else {\n",
    "    cat(\"Contenuto del file CSV:\\n\")\n",
    "    print(head(df_imported))  # Visualizzo le prime righe del DataFrame\n",
    "  }\n",
    "} else {\n",
    "  cat(\"Il file non è stato trovato:\", file_path, \"\\n\")\n",
    "}\n"
   ]
  },
  {
   "cell_type": "code",
   "execution_count": 17,
   "id": "3457f4ab-92c7-4c63-8519-f72615303a70",
   "metadata": {},
   "outputs": [
    {
     "data": {
      "text/html": [
       "<table>\n",
       "<thead><tr><th scope=col>userid</th><th scope=col>username</th><th scope=col>acctdesc</th><th scope=col>location</th><th scope=col>following</th><th scope=col>followers</th><th scope=col>totaltweets</th><th scope=col>usercreatedts</th><th scope=col>tweetid</th><th scope=col>tweetcreatedts</th><th scope=col>...</th><th scope=col>in_reply_to_status_id</th><th scope=col>in_reply_to_user_id</th><th scope=col>in_reply_to_screen_name</th><th scope=col>is_quote_status</th><th scope=col>quoted_status_id</th><th scope=col>quoted_status_userid</th><th scope=col>quoted_status_username</th><th scope=col>extractedts</th><th scope=col>sentiment</th><th scope=col>score</th></tr></thead>\n",
       "<tbody>\n",
       "\t<tr><td>1.562506e+18                                                                                                                                                                   </td><td>SanazMaghsoudi                                                                                                                                                                 </td><td>ðŸ–¤Ø²Ù† Ø²Ù†Ø¯Ú¯ÛŒ Ø¢Ø²Ø§Ø¯ÛŒðŸ–¤\n",
       "\n",
       "Iranian-Canadian writer and abstract painter, author of \"Me, the bullies, and Saddam Hussein,\" member of The Creative Academy for Writers</td><td>Vancouver, BC                                                                                                                                                                  </td><td>2606                                                                                                                                                                           </td><td> 2534                                                                                                                                                                          </td><td> 5911                                                                                                                                                                          </td><td>2022-08-24 18:23:59                                                                                                                                                            </td><td>1.630091e+18                                                                                                                                                                   </td><td>2023-02-27 06:23:52                                                                                                                                                            </td><td>...                                                                                                                                                                            </td><td>0                                                                                                                                                                              </td><td>0                                                                                                                                                                              </td><td>                                                                                                                                                                               </td><td>False                                                                                                                                                                          </td><td>0.000000e+00                                                                                                                                                                   </td><td>0.000000e+00                                                                                                                                                                   </td><td>                                                                                                                                                                               </td><td>2023-02-27 08:21:02.357870                                                                                                                                                     </td><td>neu                                                                                                                                                                            </td><td>0.4984705                                                                                                                                                                      </td></tr>\n",
       "\t<tr><td>3.263105e+07                                                                                                                                                                   </td><td>MustafaSala7                                                                                                                                                                   </td><td>I Love Gaming, Reading, Psychology                                                                                                                                             </td><td>                                                                                                                                                                               </td><td> 400                                                                                                                                                                           </td><td>  180                                                                                                                                                                          </td><td>12629                                                                                                                                                                          </td><td>2009-04-17 22:34:30                                                                                                                                                            </td><td>1.629957e+18                                                                                                                                                                   </td><td>2023-02-26 21:29:28                                                                                                                                                            </td><td>...                                                                                                                                                                            </td><td>0                                                                                                                                                                              </td><td>0                                                                                                                                                                              </td><td>                                                                                                                                                                               </td><td>False                                                                                                                                                                          </td><td>0.000000e+00                                                                                                                                                                   </td><td>0.000000e+00                                                                                                                                                                   </td><td>                                                                                                                                                                               </td><td>2023-02-26 21:30:58.840803                                                                                                                                                     </td><td>neu                                                                                                                                                                            </td><td>0.8143747                                                                                                                                                                      </td></tr>\n",
       "\t<tr><td>9.330797e+07                                                                                                                                                                   </td><td>maggiemelindama                                                                                                                                                                </td><td>housewife                                                                                                                                                                      </td><td>Pacific northwest                                                                                                                                                              </td><td> 466                                                                                                                                                                           </td><td>  132                                                                                                                                                                          </td><td>19702                                                                                                                                                                          </td><td>2009-11-29 02:31:52                                                                                                                                                            </td><td>1.629895e+18                                                                                                                                                                   </td><td>2023-02-26 17:22:17                                                                                                                                                            </td><td>...                                                                                                                                                                            </td><td>0                                                                                                                                                                              </td><td>0                                                                                                                                                                              </td><td>                                                                                                                                                                               </td><td>False                                                                                                                                                                          </td><td>0.000000e+00                                                                                                                                                                   </td><td>0.000000e+00                                                                                                                                                                   </td><td>                                                                                                                                                                               </td><td>2023-02-26 17:40:16.882852                                                                                                                                                     </td><td>neg                                                                                                                                                                            </td><td>0.5364190                                                                                                                                                                      </td></tr>\n",
       "\t<tr><td>8.199719e+17                                                                                                                                                                   </td><td>SAM_Volhov                                                                                                                                                                     </td><td>#fakenews (the real ones and the Truth marked so) ARE the new fog of war. (Re)tweets about military /security issues and... life (mostly from Earth)...                        </td><td>Eastern Europe                                                                                                                                                                 </td><td>1564                                                                                                                                                                           </td><td> 2098                                                                                                                                                                          </td><td>91176                                                                                                                                                                          </td><td>2017-01-13 18:18:38                                                                                                                                                            </td><td>1.629400e+18                                                                                                                                                                   </td><td>2023-02-25 08:38:29                                                                                                                                                            </td><td>...                                                                                                                                                                            </td><td>0                                                                                                                                                                              </td><td>0                                                                                                                                                                              </td><td>                                                                                                                                                                               </td><td>False                                                                                                                                                                          </td><td>0.000000e+00                                                                                                                                                                   </td><td>0.000000e+00                                                                                                                                                                   </td><td>                                                                                                                                                                               </td><td>2023-02-25 10:17:04.348192                                                                                                                                                     </td><td>pos                                                                                                                                                                            </td><td>0.4358384                                                                                                                                                                      </td></tr>\n",
       "\t<tr><td>1.483463e+18                                                                                                                                                                   </td><td>juliefounddead                                                                                                                                                                 </td><td>Ð£ÐºÑ€Ð°Ñ—Ð½Ñ†Ñ– Ñ Ð² Ð·Ð°Ñ…Ð²Ð°Ñ‚Ñ– Ð· Ð½Ð°Ñ, ÑÐºÑ– Ð¼Ð¸ Ð¿Ñ€Ð¸ÐºÐ¾Ð»ÑŒÐ½Ñ– , Ð° Ð²Ð¾Ð½Ð¸ Ñ…Ð¾Ñ‚ÑÑ‚ÑŒ Ñƒ Ð½Ð°Ñ Ñ‰Ð¾ÑÑŒ Ð²Ñ–Ð´Ñ–Ð±Ñ€Ð°Ñ‚Ð¸.                              </td><td>ÑÐµÐ»Ð¾ Ð²ÐµÐ»Ð¸ÐºÑ– Ð²Ð°Ð½Ò‘ÐµÑ€Ð¸                                                                                                                                           </td><td> 432                                                                                                                                                                           </td><td> 1830                                                                                                                                                                          </td><td>20960                                                                                                                                                                          </td><td>2022-01-18 15:34:21                                                                                                                                                            </td><td>1.631163e+18                                                                                                                                                                   </td><td>2023-03-02 05:20:28                                                                                                                                                            </td><td>...                                                                                                                                                                            </td><td>0                                                                                                                                                                              </td><td>0                                                                                                                                                                              </td><td>                                                                                                                                                                               </td><td>False                                                                                                                                                                          </td><td>0.000000e+00                                                                                                                                                                   </td><td>0.000000e+00                                                                                                                                                                   </td><td>                                                                                                                                                                               </td><td>2023-03-02 06:07:39.696227                                                                                                                                                     </td><td>neg                                                                                                                                                                            </td><td>0.8909803                                                                                                                                                                      </td></tr>\n",
       "\t<tr><td>1.471509e+18                                                                                                                                                                   </td><td>WhereisRussia                                                                                                                                                                  </td><td>Casting a light on global Russian Military activity.\n",
       "Where they are and what they are up to.\n",
       "\n",
       "Find us: https://t.co/ez1rLWmVsf                                              </td><td>                                                                                                                                                                               </td><td> 268                                                                                                                                                                           </td><td>26598                                                                                                                                                                          </td><td> 2698                                                                                                                                                                          </td><td>2021-12-16 15:56:33                                                                                                                                                            </td><td>1.630228e+18                                                                                                                                                                   </td><td>2023-02-27 15:27:40                                                                                                                                                            </td><td>...                                                                                                                                                                            </td><td>0                                                                                                                                                                              </td><td>0                                                                                                                                                                              </td><td>                                                                                                                                                                               </td><td>True                                                                                                                                                                           </td><td>1.630121e+18                                                                                                                                                                   </td><td>1.471509e+18                                                                                                                                                                   </td><td>WhereisRussia                                                                                                                                                                  </td><td>2023-02-27 18:11:06.438799                                                                                                                                                     </td><td>neg                                                                                                                                                                            </td><td>0.7699143                                                                                                                                                                      </td></tr>\n",
       "</tbody>\n",
       "</table>\n"
      ],
      "text/latex": [
       "\\begin{tabular}{r|llllllllllllllllllllllllllllll}\n",
       " userid & username & acctdesc & location & following & followers & totaltweets & usercreatedts & tweetid & tweetcreatedts & ... & in\\_reply\\_to\\_status\\_id & in\\_reply\\_to\\_user\\_id & in\\_reply\\_to\\_screen\\_name & is\\_quote\\_status & quoted\\_status\\_id & quoted\\_status\\_userid & quoted\\_status\\_username & extractedts & sentiment & score\\\\\n",
       "\\hline\n",
       "\t 1.562506e+18                                                                                                                                                                    & SanazMaghsoudi                                                                                                                                                                  & ðŸ–¤Ø²Ù† Ø²Ù†Ø¯Ú¯ÛŒ Ø¢Ø²Ø§Ø¯ÛŒðŸ–¤\n",
       "\n",
       "Iranian-Canadian writer and abstract painter, author of \"Me, the bullies, and Saddam Hussein,\" member of The Creative Academy for Writers & Vancouver, BC                                                                                                                                                                   & 2606                                                                                                                                                                            &  2534                                                                                                                                                                           &  5911                                                                                                                                                                           & 2022-08-24 18:23:59                                                                                                                                                             & 1.630091e+18                                                                                                                                                                    & 2023-02-27 06:23:52                                                                                                                                                             & ...                                                                                                                                                                             & 0                                                                                                                                                                               & 0                                                                                                                                                                               &                                                                                                                                                                                 & False                                                                                                                                                                           & 0.000000e+00                                                                                                                                                                    & 0.000000e+00                                                                                                                                                                    &                                                                                                                                                                                 & 2023-02-27 08:21:02.357870                                                                                                                                                      & neu                                                                                                                                                                             & 0.4984705                                                                                                                                                                      \\\\\n",
       "\t 3.263105e+07                                                                                                                                                                    & MustafaSala7                                                                                                                                                                    & I Love Gaming, Reading, Psychology                                                                                                                                              &                                                                                                                                                                                 &  400                                                                                                                                                                            &   180                                                                                                                                                                           & 12629                                                                                                                                                                           & 2009-04-17 22:34:30                                                                                                                                                             & 1.629957e+18                                                                                                                                                                    & 2023-02-26 21:29:28                                                                                                                                                             & ...                                                                                                                                                                             & 0                                                                                                                                                                               & 0                                                                                                                                                                               &                                                                                                                                                                                 & False                                                                                                                                                                           & 0.000000e+00                                                                                                                                                                    & 0.000000e+00                                                                                                                                                                    &                                                                                                                                                                                 & 2023-02-26 21:30:58.840803                                                                                                                                                      & neu                                                                                                                                                                             & 0.8143747                                                                                                                                                                      \\\\\n",
       "\t 9.330797e+07                                                                                                                                                                    & maggiemelindama                                                                                                                                                                 & housewife                                                                                                                                                                       & Pacific northwest                                                                                                                                                               &  466                                                                                                                                                                            &   132                                                                                                                                                                           & 19702                                                                                                                                                                           & 2009-11-29 02:31:52                                                                                                                                                             & 1.629895e+18                                                                                                                                                                    & 2023-02-26 17:22:17                                                                                                                                                             & ...                                                                                                                                                                             & 0                                                                                                                                                                               & 0                                                                                                                                                                               &                                                                                                                                                                                 & False                                                                                                                                                                           & 0.000000e+00                                                                                                                                                                    & 0.000000e+00                                                                                                                                                                    &                                                                                                                                                                                 & 2023-02-26 17:40:16.882852                                                                                                                                                      & neg                                                                                                                                                                             & 0.5364190                                                                                                                                                                      \\\\\n",
       "\t 8.199719e+17                                                                                                                                                                      & SAM\\_Volhov                                                                                                                                                                      & \\#fakenews (the real ones and the Truth marked so) ARE the new fog of war. (Re)tweets about military /security issues and... life (mostly from Earth)...                         & Eastern Europe                                                                                                                                                                    & 1564                                                                                                                                                                              &  2098                                                                                                                                                                             & 91176                                                                                                                                                                             & 2017-01-13 18:18:38                                                                                                                                                               & 1.629400e+18                                                                                                                                                                      & 2023-02-25 08:38:29                                                                                                                                                               & ...                                                                                                                                                                               & 0                                                                                                                                                                                 & 0                                                                                                                                                                                 &                                                                                                                                                                                   & False                                                                                                                                                                             & 0.000000e+00                                                                                                                                                                      & 0.000000e+00                                                                                                                                                                      &                                                                                                                                                                                   & 2023-02-25 10:17:04.348192                                                                                                                                                        & pos                                                                                                                                                                               & 0.4358384                                                                                                                                                                        \\\\\n",
       "\t 1.483463e+18                                                                                                                                                                    & juliefounddead                                                                                                                                                                  & Ð£ÐºÑ€Ð°Ñ—Ð½Ñ†Ñ– Ñ Ð² Ð·Ð°Ñ…Ð²Ð°Ñ‚Ñ– Ð· Ð½Ð°Ñ, ÑÐºÑ– Ð¼Ð¸ Ð¿Ñ€Ð¸ÐºÐ¾Ð»ÑŒÐ½Ñ– , Ð° Ð²Ð¾Ð½Ð¸ Ñ…Ð¾Ñ‚ÑÑ‚ÑŒ Ñƒ Ð½Ð°Ñ Ñ‰Ð¾ÑÑŒ Ð²Ñ–Ð´Ñ–Ð±Ñ€Ð°Ñ‚Ð¸.                               & ÑÐµÐ»Ð¾ Ð²ÐµÐ»Ð¸ÐºÑ– Ð²Ð°Ð½Ò‘ÐµÑ€Ð¸                                                                                                                                            &  432                                                                                                                                                                            &  1830                                                                                                                                                                           & 20960                                                                                                                                                                           & 2022-01-18 15:34:21                                                                                                                                                             & 1.631163e+18                                                                                                                                                                    & 2023-03-02 05:20:28                                                                                                                                                             & ...                                                                                                                                                                             & 0                                                                                                                                                                               & 0                                                                                                                                                                               &                                                                                                                                                                                 & False                                                                                                                                                                           & 0.000000e+00                                                                                                                                                                    & 0.000000e+00                                                                                                                                                                    &                                                                                                                                                                                 & 2023-03-02 06:07:39.696227                                                                                                                                                      & neg                                                                                                                                                                             & 0.8909803                                                                                                                                                                      \\\\\n",
       "\t 1.471509e+18                                                                                                                                                                    & WhereisRussia                                                                                                                                                                   & Casting a light on global Russian Military activity.\n",
       "Where they are and what they are up to.\n",
       "\n",
       "Find us: https://t.co/ez1rLWmVsf                                               &                                                                                                                                                                                 &  268                                                                                                                                                                            & 26598                                                                                                                                                                           &  2698                                                                                                                                                                           & 2021-12-16 15:56:33                                                                                                                                                             & 1.630228e+18                                                                                                                                                                    & 2023-02-27 15:27:40                                                                                                                                                             & ...                                                                                                                                                                             & 0                                                                                                                                                                               & 0                                                                                                                                                                               &                                                                                                                                                                                 & True                                                                                                                                                                            & 1.630121e+18                                                                                                                                                                    & 1.471509e+18                                                                                                                                                                    & WhereisRussia                                                                                                                                                                   & 2023-02-27 18:11:06.438799                                                                                                                                                      & neg                                                                                                                                                                             & 0.7699143                                                                                                                                                                      \\\\\n",
       "\\end{tabular}\n"
      ],
      "text/markdown": [
       "\n",
       "| userid | username | acctdesc | location | following | followers | totaltweets | usercreatedts | tweetid | tweetcreatedts | ... | in_reply_to_status_id | in_reply_to_user_id | in_reply_to_screen_name | is_quote_status | quoted_status_id | quoted_status_userid | quoted_status_username | extractedts | sentiment | score |\n",
       "|---|---|---|---|---|---|---|---|---|---|---|---|---|---|---|---|---|---|---|---|---|\n",
       "| 1.562506e+18                                                                                                                                                                    | SanazMaghsoudi                                                                                                                                                                  | ðŸ–¤Ø²Ù† Ø²Ù†Ø¯Ú¯ÛŒ Ø¢Ø²Ø§Ø¯ÛŒðŸ–¤\n",
       "\n",
       "Iranian-Canadian writer and abstract painter, author of \"Me, the bullies, and Saddam Hussein,\" member of The Creative Academy for Writers | Vancouver, BC                                                                                                                                                                   | 2606                                                                                                                                                                            |  2534                                                                                                                                                                           |  5911                                                                                                                                                                           | 2022-08-24 18:23:59                                                                                                                                                             | 1.630091e+18                                                                                                                                                                    | 2023-02-27 06:23:52                                                                                                                                                             | ...                                                                                                                                                                             | 0                                                                                                                                                                               | 0                                                                                                                                                                               |                                                                                                                                                                                 | False                                                                                                                                                                           | 0.000000e+00                                                                                                                                                                    | 0.000000e+00                                                                                                                                                                    |                                                                                                                                                                                 | 2023-02-27 08:21:02.357870                                                                                                                                                      | neu                                                                                                                                                                             | 0.4984705                                                                                                                                                                       |\n",
       "| 3.263105e+07                                                                                                                                                                    | MustafaSala7                                                                                                                                                                    | I Love Gaming, Reading, Psychology                                                                                                                                              |                                                                                                                                                                                 |  400                                                                                                                                                                            |   180                                                                                                                                                                           | 12629                                                                                                                                                                           | 2009-04-17 22:34:30                                                                                                                                                             | 1.629957e+18                                                                                                                                                                    | 2023-02-26 21:29:28                                                                                                                                                             | ...                                                                                                                                                                             | 0                                                                                                                                                                               | 0                                                                                                                                                                               |                                                                                                                                                                                 | False                                                                                                                                                                           | 0.000000e+00                                                                                                                                                                    | 0.000000e+00                                                                                                                                                                    |                                                                                                                                                                                 | 2023-02-26 21:30:58.840803                                                                                                                                                      | neu                                                                                                                                                                             | 0.8143747                                                                                                                                                                       |\n",
       "| 9.330797e+07                                                                                                                                                                    | maggiemelindama                                                                                                                                                                 | housewife                                                                                                                                                                       | Pacific northwest                                                                                                                                                               |  466                                                                                                                                                                            |   132                                                                                                                                                                           | 19702                                                                                                                                                                           | 2009-11-29 02:31:52                                                                                                                                                             | 1.629895e+18                                                                                                                                                                    | 2023-02-26 17:22:17                                                                                                                                                             | ...                                                                                                                                                                             | 0                                                                                                                                                                               | 0                                                                                                                                                                               |                                                                                                                                                                                 | False                                                                                                                                                                           | 0.000000e+00                                                                                                                                                                    | 0.000000e+00                                                                                                                                                                    |                                                                                                                                                                                 | 2023-02-26 17:40:16.882852                                                                                                                                                      | neg                                                                                                                                                                             | 0.5364190                                                                                                                                                                       |\n",
       "| 8.199719e+17                                                                                                                                                                    | SAM_Volhov                                                                                                                                                                      | #fakenews (the real ones and the Truth marked so) ARE the new fog of war. (Re)tweets about military /security issues and... life (mostly from Earth)...                         | Eastern Europe                                                                                                                                                                  | 1564                                                                                                                                                                            |  2098                                                                                                                                                                           | 91176                                                                                                                                                                           | 2017-01-13 18:18:38                                                                                                                                                             | 1.629400e+18                                                                                                                                                                    | 2023-02-25 08:38:29                                                                                                                                                             | ...                                                                                                                                                                             | 0                                                                                                                                                                               | 0                                                                                                                                                                               |                                                                                                                                                                                 | False                                                                                                                                                                           | 0.000000e+00                                                                                                                                                                    | 0.000000e+00                                                                                                                                                                    |                                                                                                                                                                                 | 2023-02-25 10:17:04.348192                                                                                                                                                      | pos                                                                                                                                                                             | 0.4358384                                                                                                                                                                       |\n",
       "| 1.483463e+18                                                                                                                                                                    | juliefounddead                                                                                                                                                                  | Ð£ÐºÑ€Ð°Ñ—Ð½Ñ†Ñ– Ñ Ð² Ð·Ð°Ñ…Ð²Ð°Ñ‚Ñ– Ð· Ð½Ð°Ñ, ÑÐºÑ– Ð¼Ð¸ Ð¿Ñ€Ð¸ÐºÐ¾Ð»ÑŒÐ½Ñ– , Ð° Ð²Ð¾Ð½Ð¸ Ñ…Ð¾Ñ‚ÑÑ‚ÑŒ Ñƒ Ð½Ð°Ñ Ñ‰Ð¾ÑÑŒ Ð²Ñ–Ð´Ñ–Ð±Ñ€Ð°Ñ‚Ð¸.                               | ÑÐµÐ»Ð¾ Ð²ÐµÐ»Ð¸ÐºÑ– Ð²Ð°Ð½Ò‘ÐµÑ€Ð¸                                                                                                                                            |  432                                                                                                                                                                            |  1830                                                                                                                                                                           | 20960                                                                                                                                                                           | 2022-01-18 15:34:21                                                                                                                                                             | 1.631163e+18                                                                                                                                                                    | 2023-03-02 05:20:28                                                                                                                                                             | ...                                                                                                                                                                             | 0                                                                                                                                                                               | 0                                                                                                                                                                               |                                                                                                                                                                                 | False                                                                                                                                                                           | 0.000000e+00                                                                                                                                                                    | 0.000000e+00                                                                                                                                                                    |                                                                                                                                                                                 | 2023-03-02 06:07:39.696227                                                                                                                                                      | neg                                                                                                                                                                             | 0.8909803                                                                                                                                                                       |\n",
       "| 1.471509e+18                                                                                                                                                                    | WhereisRussia                                                                                                                                                                   | Casting a light on global Russian Military activity.\n",
       "Where they are and what they are up to.\n",
       "\n",
       "Find us: https://t.co/ez1rLWmVsf                                               |                                                                                                                                                                                 |  268                                                                                                                                                                            | 26598                                                                                                                                                                           |  2698                                                                                                                                                                           | 2021-12-16 15:56:33                                                                                                                                                             | 1.630228e+18                                                                                                                                                                    | 2023-02-27 15:27:40                                                                                                                                                             | ...                                                                                                                                                                             | 0                                                                                                                                                                               | 0                                                                                                                                                                               |                                                                                                                                                                                 | True                                                                                                                                                                            | 1.630121e+18                                                                                                                                                                    | 1.471509e+18                                                                                                                                                                    | WhereisRussia                                                                                                                                                                   | 2023-02-27 18:11:06.438799                                                                                                                                                      | neg                                                                                                                                                                             | 0.7699143                                                                                                                                                                       |\n",
       "\n"
      ],
      "text/plain": [
       "  userid       username       \n",
       "1 1.562506e+18 SanazMaghsoudi \n",
       "2 3.263105e+07 MustafaSala7   \n",
       "3 9.330797e+07 maggiemelindama\n",
       "4 8.199719e+17 SAM_Volhov     \n",
       "5 1.483463e+18 juliefounddead \n",
       "6 1.471509e+18 WhereisRussia  \n",
       "  acctdesc                                                                                                                                                                       \n",
       "1 ðŸ–¤Ø²Ù† Ø²Ù†Ø¯Ú¯ÛŒ Ø¢Ø²Ø§Ø¯ÛŒðŸ–¤\\n\\nIranian-Canadian writer and abstract painter, author of \"Me, the bullies, and Saddam Hussein,\" member of The Creative Academy for Writers\n",
       "2 I Love Gaming, Reading, Psychology                                                                                                                                             \n",
       "3 housewife                                                                                                                                                                      \n",
       "4 #fakenews (the real ones and the Truth marked so) ARE the new fog of war. (Re)tweets about military /security issues and... life (mostly from Earth)...                        \n",
       "5 Ð£ÐºÑ\\200Ð°Ñ—Ð½Ñ†Ñ– Ñ\\217 Ð² Ð·Ð°Ñ…Ð²Ð°Ñ‚Ñ– Ð· Ð½Ð°Ñ\\201, Ñ\\217ÐºÑ– Ð¼Ð¸ Ð¿Ñ\\200Ð¸ÐºÐ¾Ð»ÑŒÐ½Ñ– , Ð° Ð²Ð¾Ð½Ð¸ Ñ…Ð¾Ñ‚Ñ\\217Ñ‚ÑŒ Ñƒ Ð½Ð°Ñ\\201 Ñ‰Ð¾Ñ\\201ÑŒ Ð²Ñ–Ð´Ñ–Ð±Ñ\\200Ð°Ñ‚Ð¸.                              \n",
       "6 Casting a light on global Russian Military activity.\\nWhere they are and what they are up to.\\n\\nFind us: https://t.co/ez1rLWmVsf                                              \n",
       "  location                             following followers totaltweets\n",
       "1 Vancouver, BC                        2606       2534      5911      \n",
       "2                                       400        180     12629      \n",
       "3 Pacific northwest                     466        132     19702      \n",
       "4 Eastern Europe                       1564       2098     91176      \n",
       "5 Ñ\\201ÐµÐ»Ð¾ Ð²ÐµÐ»Ð¸ÐºÑ– Ð²Ð°Ð½Ò‘ÐµÑ\\200Ð¸  432       1830     20960      \n",
       "6                                       268      26598      2698      \n",
       "  usercreatedts       tweetid      tweetcreatedts      ...\n",
       "1 2022-08-24 18:23:59 1.630091e+18 2023-02-27 06:23:52 ...\n",
       "2 2009-04-17 22:34:30 1.629957e+18 2023-02-26 21:29:28 ...\n",
       "3 2009-11-29 02:31:52 1.629895e+18 2023-02-26 17:22:17 ...\n",
       "4 2017-01-13 18:18:38 1.629400e+18 2023-02-25 08:38:29 ...\n",
       "5 2022-01-18 15:34:21 1.631163e+18 2023-03-02 05:20:28 ...\n",
       "6 2021-12-16 15:56:33 1.630228e+18 2023-02-27 15:27:40 ...\n",
       "  in_reply_to_status_id in_reply_to_user_id in_reply_to_screen_name\n",
       "1 0                     0                                          \n",
       "2 0                     0                                          \n",
       "3 0                     0                                          \n",
       "4 0                     0                                          \n",
       "5 0                     0                                          \n",
       "6 0                     0                                          \n",
       "  is_quote_status quoted_status_id quoted_status_userid quoted_status_username\n",
       "1 False           0.000000e+00     0.000000e+00                               \n",
       "2 False           0.000000e+00     0.000000e+00                               \n",
       "3 False           0.000000e+00     0.000000e+00                               \n",
       "4 False           0.000000e+00     0.000000e+00                               \n",
       "5 False           0.000000e+00     0.000000e+00                               \n",
       "6 True            1.630121e+18     1.471509e+18         WhereisRussia         \n",
       "  extractedts                sentiment score    \n",
       "1 2023-02-27 08:21:02.357870 neu       0.4984705\n",
       "2 2023-02-26 21:30:58.840803 neu       0.8143747\n",
       "3 2023-02-26 17:40:16.882852 neg       0.5364190\n",
       "4 2023-02-25 10:17:04.348192 pos       0.4358384\n",
       "5 2023-03-02 06:07:39.696227 neg       0.8909803\n",
       "6 2023-02-27 18:11:06.438799 neg       0.7699143"
      ]
     },
     "metadata": {},
     "output_type": "display_data"
    }
   ],
   "source": [
    "library(dplyr)\n",
    "\n",
    "# Campiono casualmente il 10% delle istanze di df_imported\n",
    "df_sample <- df_imported %>%\n",
    "  sample_frac(size = 0.1)\n",
    "\n",
    "# Visualizzo le prime righe del dataset campionato\n",
    "head(df_sample)\n"
   ]
  },
  {
   "cell_type": "markdown",
   "id": "7325c52d-cd8b-4814-a1ff-6f73cb0f0b5e",
   "metadata": {},
   "source": [
    "### 1.2) header dataset con esempio"
   ]
  },
  {
   "cell_type": "code",
   "execution_count": 31,
   "id": "daddf257-75de-438f-a1d6-06c78761b926",
   "metadata": {},
   "outputs": [
    {
     "name": "stdout",
     "output_type": "stream",
     "text": [
      "Intestazione del dataset:\n",
      " [1] \"userid\"                  \"username\"               \n",
      " [3] \"acctdesc\"                \"location\"               \n",
      " [5] \"following\"               \"followers\"              \n",
      " [7] \"totaltweets\"             \"usercreatedts\"          \n",
      " [9] \"tweetid\"                 \"tweetcreatedts\"         \n",
      "[11] \"retweetcount\"            \"text\"                   \n",
      "[13] \"hashtags\"                \"language\"               \n",
      "[15] \"coordinates\"             \"favorite_count\"         \n",
      "[17] \"is_retweet\"              \"original_tweet_id\"      \n",
      "[19] \"original_tweet_userid\"   \"original_tweet_username\"\n",
      "[21] \"in_reply_to_status_id\"   \"in_reply_to_user_id\"    \n",
      "[23] \"in_reply_to_screen_name\" \"is_quote_status\"        \n",
      "[25] \"quoted_status_id\"        \"quoted_status_userid\"   \n",
      "[27] \"quoted_status_username\"  \"extractedts\"            \n",
      "[29] \"sentiment\"               \"score\"                  \n"
     ]
    }
   ],
   "source": [
    " # Visualizzo l'intestazione\n",
    "  cat(\"Intestazione del dataset:\\n\")\n",
    "  print(colnames(df_imported))  # Mostra i nomi delle colonne"
   ]
  },
  {
   "cell_type": "markdown",
   "id": "ed057f42-c6f4-492d-b711-a025e53234ee",
   "metadata": {},
   "source": [
    "### 1.2.1 Panoramica sui tipi"
   ]
  },
  {
   "cell_type": "code",
   "execution_count": 82,
   "id": "a0d32ecf-3277-4e77-be1b-00530373d6a6",
   "metadata": {},
   "outputs": [
    {
     "name": "stdout",
     "output_type": "stream",
     "text": [
      "'data.frame':\t776589 obs. of  30 variables:\n",
      " $ userid                 : num  2.22e+07 1.25e+08 1.37e+18 1.30e+18 1.51e+18 ...\n",
      " $ username               : Factor w/ 229515 levels \"____________JMB\",..: 9628 17974 203350 134954 71474 154257 126366 167807 14513 28933 ...\n",
      " $ acctdesc               : Factor w/ 179786 levels \"\",\"'''Senza Difesa non esiste Giustizia''' Sogno un'Italia Unita ðŸ‡®ðŸ‡¹ Blocco Troll // Talebani // Antifa ðŸ§\\220\",..: 159263 164721 154851 160989 50354 127699 102261 68122 7986 90867 ...\n",
      " $ location               : Factor w/ 55191 levels \"\",\"'67 Impala inside The TARDIS\",..: 15657 50919 45143 1 1 50879 33109 18138 49284 1 ...\n",
      " $ following              : int  46 93 4122 7 75 9 5007 435 6 1287 ...\n",
      " $ followers              : int  927188 36 1973 18833 29350 1 761 776 92 24533 ...\n",
      " $ totaltweets            : int  337714 335 23131 40331 8148 18 33686 29719 2846 61672 ...\n",
      " $ usercreatedts          : Factor w/ 229273 levels \"2006-07-12 19:04:59\",..: 6669 25357 159012 149444 188912 225283 30767 111564 43203 142161 ...\n",
      " $ tweetid                : num  1.63e+18 1.63e+18 1.63e+18 1.63e+18 1.63e+18 ...\n",
      " $ tweetcreatedts         : Factor w/ 405652 levels \"2023-02-25 00:00:01\",..: 1 1 1 1 2 2 3 3 4 4 ...\n",
      " $ retweetcount           : int  2 0 0 4 0 0 0 0 0 0 ...\n",
      " $ text                   : Factor w/ 226558 levels \"'',,creating a polycentric global system based on just and democratic principles and the supremacy of the law.'\"| __truncated__,..: 142380 121897 162253 165607 128758 167226 173894 111467 93744 150350 ...\n",
      " $ hashtags               : Factor w/ 154850 levels \"[]\",\"[{'text': '_godspeed', 'indices': [182, 192]}, {'text': 'maga', 'indices': [193, 198]}, {'text': 'UkraineRussia\"| __truncated__,..: 57920 57983 38484 125787 24829 42654 41601 96688 115506 117454 ...\n",
      " $ language               : Factor w/ 1 level \"en\": 1 1 1 1 1 1 1 1 1 1 ...\n",
      " $ coordinates            : Factor w/ 60 levels \"\",\"{'type': 'Point', 'coordinates': [-0.10381294, 51.57533849]}\",..: 1 1 1 1 1 1 1 1 1 1 ...\n",
      " $ favorite_count         : int  4 0 3 4 0 0 1 2 0 1 ...\n",
      " $ is_retweet             : Factor w/ 2 levels \"False\",\"True\": 1 1 1 1 1 1 1 1 1 1 ...\n",
      " $ original_tweet_id      : num  0 0 0 0 0 0 0 0 0 0 ...\n",
      " $ original_tweet_userid  : num  0 0 0 0 0 0 0 0 0 0 ...\n",
      " $ original_tweet_username: Factor w/ 18623 levels \"\",\"___emelia_\",..: 1 1 1 1 1 1 1 1 1 1 ...\n",
      " $ in_reply_to_status_id  : num  0 0 0 0 0 0 0 0 0 0 ...\n",
      " $ in_reply_to_user_id    : num  0 0 0 0 0 0 0 0 0 0 ...\n",
      " $ in_reply_to_screen_name: Factor w/ 16420 levels \"\",\"___CuriousCat\",..: 1 1 1 1 1 1 1 1 1 1 ...\n",
      " $ is_quote_status        : Factor w/ 2 levels \"False\",\"True\": 1 1 1 1 1 1 2 1 1 1 ...\n",
      " $ quoted_status_id       : num  0 0 0 0 0 ...\n",
      " $ quoted_status_userid   : num  0 0 0 0 0 ...\n",
      " $ quoted_status_username : Factor w/ 9394 levels \"\",\"___L__A___\",..: 1 1 1 1 1 1 4689 1 1 1 ...\n",
      " $ extractedts            : Factor w/ 776588 levels \"2023-02-25 00:04:15.642465\",..: 2082 2400 2399 2398 26 6103 2081 3497 1499 102 ...\n",
      " $ sentiment              : Factor w/ 3 levels \"neg\",\"neu\",\"pos\": 2 2 2 2 2 2 2 2 3 1 ...\n",
      " $ score                  : num  0.442 0.827 0.802 0.578 0.796 ...\n"
     ]
    }
   ],
   "source": [
    "# Esempio di utilizzo di str()\n",
    "str(df_imported)"
   ]
  },
  {
   "cell_type": "markdown",
   "id": "d828baac-241c-4e5c-bb5a-5aa4ca258429",
   "metadata": {},
   "source": [
    "## 1.3 Analisi delle features"
   ]
  },
  {
   "cell_type": "markdown",
   "id": "98204efe-dbf6-4258-a53f-27b0033b1390",
   "metadata": {},
   "source": [
    "### 1.3.1 Verifica valori nulli o N/A"
   ]
  },
  {
   "cell_type": "code",
   "execution_count": 89,
   "id": "f5b5f834-880f-4ffb-852b-006e53f81fae",
   "metadata": {},
   "outputs": [
    {
     "name": "stdout",
     "output_type": "stream",
     "text": [
      "                   Feature Null_Count Value_Count Empty_String_Count\n",
      "1                 acctdesc          0       77659              16557\n",
      "2              coordinates          0       77659              77649\n",
      "3              extractedts          0       77659                  0\n",
      "4           favorite_count          0       77659                  0\n",
      "5                followers          0       77659                  0\n",
      "6                following          0       77659                  0\n",
      "7                 hashtags          0       77659                  0\n",
      "8  in_reply_to_screen_name          0       77659              72633\n",
      "9    in_reply_to_status_id          0       77659                  0\n",
      "10     in_reply_to_user_id          0       77659                  0\n",
      "11         is_quote_status          0       77659                  0\n",
      "12              is_retweet          0       77659                  0\n",
      "13                language          0       77659                  0\n",
      "14                location          0       77659              33614\n",
      "15       original_tweet_id          0       77659                  0\n",
      "16   original_tweet_userid          0       77659                  0\n",
      "17 original_tweet_username          0       77659              20903\n",
      "18        quoted_status_id          0       77659                  0\n",
      "19    quoted_status_userid          0       77659                  0\n",
      "20  quoted_status_username          0       77659              74922\n",
      "21            retweetcount          0       77659                  0\n",
      "22                   score          0       77659                  0\n",
      "23               sentiment          0       77659                  0\n",
      "24                    text          0       77659                  0\n",
      "25             totaltweets          0       77659                  0\n",
      "26          tweetcreatedts          0       77659                  0\n",
      "27                 tweetid          0       77659                  0\n",
      "28           usercreatedts          0       77659                  0\n",
      "29                  userid          0       77659                  0\n",
      "30                username          0       77659                  0\n",
      "   Non_Alphanumeric_Count\n",
      "1                       0\n",
      "2                       0\n",
      "3                       0\n",
      "4                       0\n",
      "5                       0\n",
      "6                       0\n",
      "7                       0\n",
      "8                       0\n",
      "9                       0\n",
      "10                      0\n",
      "11                      0\n",
      "12                      0\n",
      "13                      0\n",
      "14                      0\n",
      "15                      0\n",
      "16                      0\n",
      "17                      0\n",
      "18                      0\n",
      "19                      0\n",
      "20                      0\n",
      "21                      0\n",
      "22                      0\n",
      "23                      0\n",
      "24                      0\n",
      "25                      0\n",
      "26                      0\n",
      "27                      0\n",
      "28                      0\n",
      "29                      0\n",
      "30                      0\n"
     ]
    }
   ],
   "source": [
    "# Controllo i valori nulli per ogni colonna del dataset\n",
    "check_na <- sapply(df_sample, function(x) sum(is.na(x)))\n",
    "\n",
    "# Visualizzo il risultato\n",
    "null_summary <- data.frame(Feature = names(check_na), Null_Count = check_na)\n",
    "\n",
    "# Conto il numero di valori per ogni colonna del dataset\n",
    "value_counts <- sapply(df_sample, function(x) sum(!is.na(x)))\n",
    "\n",
    "# Creo un data frame per visualizzare il risultato\n",
    "value_count_summary <- data.frame(Feature = names(value_counts), Value_Count = value_counts)\n",
    "\n",
    "# Controllo per ogni feature se ci sono stringhe vuote\n",
    "empty_string_counts <- sapply(df_sample, function(x) sum(x == \"\"))\n",
    "\n",
    "# Creo un data frame per visualizzare i conteggi delle stringhe vuote\n",
    "empty_string_summary <- data.frame(Feature = names(empty_string_counts), Empty_String_Count = empty_string_counts)\n",
    "\n",
    "# Conto i valori che contengono caratteri non alfanumerici (includendo i caratteri speciali)\n",
    "non_alphanumeric_counts <- sapply(df_sample, function(x) {\n",
    "  if (is.character(x)) {\n",
    "    sum(grepl(\"[^[:alnum:][:space:]À-ÿ]\", x))  # Includo anche i caratteri speciali\n",
    "  } else {\n",
    "    0  # Se non è una colonna carattere, conta 0\n",
    "  }\n",
    "})\n",
    "\n",
    "# Creo un data frame per visualizzare i conteggi dei caratteri non alfanumerici\n",
    "non_alphanumeric_summary <- data.frame(Feature = names(non_alphanumeric_counts), Non_Alphanumeric_Count = non_alphanumeric_counts)\n",
    "\n",
    "# Combino i data frame dei valori nulli, dei conteggi di valori, delle stringhe vuote e dei caratteri non alfanumerici\n",
    "combined_summary <- merge(null_summary, value_count_summary, by = \"Feature\")\n",
    "combined_summary <- merge(combined_summary, empty_string_summary, by = \"Feature\")\n",
    "combined_summary <- merge(combined_summary, non_alphanumeric_summary, by = \"Feature\")\n",
    "\n",
    "# Visualizzo il risultato finale\n",
    "print(combined_summary)\n"
   ]
  },
  {
   "cell_type": "markdown",
   "id": "ec3cd5a9-a627-4ad4-9779-b602b4359ab1",
   "metadata": {},
   "source": [
    "### 1.3.2 eplorazione userid"
   ]
  },
  {
   "cell_type": "code",
   "execution_count": null,
   "id": "60e35d13-909e-498e-a839-a3590caa6ac1",
   "metadata": {},
   "outputs": [],
   "source": [
    "#prelevo gli userid\n",
    "userid <- df_imported$userid\n",
    "feature_name <- \"userid\"\n",
    "\n",
    "## VERIFICA VALORI UNIVOCI \n",
    "\n",
    "# Calcolo il numero di valori unici e il numero di valori totali non nulli nella feature\n",
    "unique_count <- length(unique(df_imported$userid))\n",
    "total_count <- sum(!is.na(df_imported$userid))\n",
    "\n",
    "# Verifico se tutti i valori sono unici\n",
    "if (unique_count == total_count) {\n",
    "  print(paste(\"Tutti i valori nella feature\", feature_name , \"sono unici.\"))\n",
    "} else {\n",
    "  print(paste(\"La feature\", feature_name , \"ha\", total_count - unique_count, \"valori duplicati.\"))\n",
    "}\n",
    "\n",
    "\n",
    "##FREQUENZA ASSOLUTA TWEET PER USERID\n",
    "\n",
    "# Calcolo la frequenza assoluta dei tweet per ogni userid\n",
    "tweet_frequency <- table(userid)\n",
    "\n",
    "# Converto il risultato in un data frame per una visualizzazione più chiara\n",
    "tweet_frequency_df <- as.data.frame(tweet_frequency)\n",
    "colnames(tweet_frequency_df) <- c(\"userid\", \"num_tweets\")\n",
    "\n",
    "# Ordino il data frame in base al numero di tweet in ordine decrescente\n",
    "tweet_frequency_df <- tweet_frequency_df[order(-tweet_frequency_df$num_tweets), ]\n",
    "\n",
    "# Stampo solo i primi 100 risultati\n",
    "print(head(tweet_frequency_df, 100))\n"
   ]
  },
  {
   "cell_type": "markdown",
   "id": "fd873d76-ba53-4cb8-8813-b88c27d40eed",
   "metadata": {},
   "source": [
    "### 1.3.3 Esplorazione username"
   ]
  },
  {
   "cell_type": "code",
   "execution_count": 6,
   "id": "dd75b211-4174-421c-9271-0a064c762a26",
   "metadata": {},
   "outputs": [
    {
     "name": "stdout",
     "output_type": "stream",
     "text": [
      "[1] \"I seguenti userid sono associati a più di uno username:\"\n",
      "# A tibble: 136 x 2\n",
      "      userid username_count\n",
      "       <dbl>          <int>\n",
      " 1  82004772              2\n",
      " 2  86360232              2\n",
      " 3 162636575              2\n",
      " 4 173590689              2\n",
      " 5 174602550              2\n",
      " 6 230061368              2\n",
      " 7 241730353              2\n",
      " 8 241916215              2\n",
      " 9 247317872              2\n",
      "10 279534944              2\n",
      "# ... with 126 more rows\n"
     ]
    }
   ],
   "source": [
    "# Verifica di username con user_id univoci\n",
    "library(dplyr)\n",
    "\n",
    "# Creo un riepilogo per vedere quanti username sono associati a ciascun userid\n",
    "userid_check <- df_imported %>%\n",
    "  group_by(userid) %>%\n",
    "  summarise(username_count = n_distinct(username)) %>%\n",
    "  filter(username_count > 1)\n",
    "\n",
    "# Mostro i userid che sono associati a più di uno username\n",
    "if(nrow(userid_check) > 0) {\n",
    "  print(\"I seguenti userid sono associati a più di uno username:\")\n",
    "  print(userid_check)\n",
    "} else {\n",
    "  print(\"Tutti gli userid sono univoci per ciascun username.\")\n",
    "}\n"
   ]
  },
  {
   "cell_type": "markdown",
   "id": "bf635d62-ce80-483b-9dd7-42bd72ff8c82",
   "metadata": {},
   "source": [
    "### 1.3.4 Esplorazione accdesc (Bio)"
   ]
  },
  {
   "cell_type": "code",
   "execution_count": 10,
   "id": "c0fae3e2-6928-477f-a524-a5973461c136",
   "metadata": {},
   "outputs": [
    {
     "name": "stdout",
     "output_type": "stream",
     "text": [
      "Numero di righe composte esclusivamente da emoji, caratteri speciali e spazi: 636 \n",
      "Numero di righe con testo alfanumerico di meno di 3 caratteri: 641 \n"
     ]
    }
   ],
   "source": [
    "library(dplyr)\n",
    "library(stringr)\n",
    "\n",
    "# Calcolo le righe che contengono solo emoji, caratteri speciali e spazi\n",
    "only_emoji_spaces_count <- df_imported %>%\n",
    "  filter(str_detect(acctdesc, \"^[^[:alnum:]]+$\")) %>%  # Filtra solo le righe senza caratteri alfanumerici\n",
    "  summarise(count = n())\n",
    "\n",
    "# Calcolo le righe con testo alfanumerico di meno di 3 caratteri\n",
    "less_than_three_char_alnum_count <- df_imported %>%\n",
    "  filter(str_detect(acctdesc, \"^[[:alnum:]]{1,2}$\")) %>%  # Filtra le righe con 1 o 2 caratteri alfanumerici\n",
    "  summarise(count = n())\n",
    "\n",
    "# Stampo i risultati\n",
    "cat(\"Numero di righe composte esclusivamente da emoji, caratteri speciali e spazi:\", only_emoji_spaces_count$count, \"\\n\")\n",
    "cat(\"Numero di righe con testo alfanumerico di meno di 3 caratteri:\", less_than_three_char_alnum_count$count, \"\\n\")\n"
   ]
  },
  {
   "cell_type": "markdown",
   "id": "93a6b6e4-73c9-4f78-b8e9-a77f3e0c0f76",
   "metadata": {},
   "source": [
    "### 1.3.5 Esplorazione location"
   ]
  },
  {
   "cell_type": "code",
   "execution_count": null,
   "id": "9a59120a-66d7-4878-8705-be4130f77552",
   "metadata": {},
   "outputs": [],
   "source": [
    "# Installazione del pacchetto\n",
    "install.packages(\"countrycode\")"
   ]
  },
  {
   "cell_type": "code",
   "execution_count": 25,
   "id": "7124e021-3cf5-4d32-b497-c3b2f4fd5da7",
   "metadata": {},
   "outputs": [
    {
     "name": "stderr",
     "output_type": "stream",
     "text": [
      "Warning message:\n",
      "\"unable to access index for repository https://cran.r-project.org/bin/windows/contrib/3.6:\n",
      "  impossibile aprire URL 'https://cran.r-project.org/bin/windows/contrib/3.6/PACKAGES'\"installing the source package 'countrycode'\n",
      "\n"
     ]
    },
    {
     "data": {
      "text/html": [
       "<ol class=list-inline>\n",
       "\t<li>'Afghanistan'</li>\n",
       "\t<li>'Albania'</li>\n",
       "\t<li>'Algeria'</li>\n",
       "\t<li>'American Samoa'</li>\n",
       "\t<li>'Andorra'</li>\n",
       "\t<li>'Angola'</li>\n",
       "</ol>\n"
      ],
      "text/latex": [
       "\\begin{enumerate*}\n",
       "\\item 'Afghanistan'\n",
       "\\item 'Albania'\n",
       "\\item 'Algeria'\n",
       "\\item 'American Samoa'\n",
       "\\item 'Andorra'\n",
       "\\item 'Angola'\n",
       "\\end{enumerate*}\n"
      ],
      "text/markdown": [
       "1. 'Afghanistan'\n",
       "2. 'Albania'\n",
       "3. 'Algeria'\n",
       "4. 'American Samoa'\n",
       "5. 'Andorra'\n",
       "6. 'Angola'\n",
       "\n",
       "\n"
      ],
      "text/plain": [
       "[1] \"Afghanistan\"    \"Albania\"        \"Algeria\"        \"American Samoa\"\n",
       "[5] \"Andorra\"        \"Angola\"        "
      ]
     },
     "metadata": {},
     "output_type": "display_data"
    },
    {
     "name": "stdout",
     "output_type": "stream",
     "text": [
      "Il numero di location è: 13532 \n",
      "Il numero di location che sono nazioni è: 138 \n"
     ]
    },
    {
     "data": {
      "text/html": [
       "<table>\n",
       "<thead><tr><th scope=col>userid</th><th scope=col>username</th><th scope=col>acctdesc</th><th scope=col>location</th><th scope=col>following</th><th scope=col>followers</th><th scope=col>totaltweets</th><th scope=col>usercreatedts</th><th scope=col>tweetid</th><th scope=col>tweetcreatedts</th><th scope=col>...</th><th scope=col>in_reply_to_status_id</th><th scope=col>in_reply_to_user_id</th><th scope=col>in_reply_to_screen_name</th><th scope=col>is_quote_status</th><th scope=col>quoted_status_id</th><th scope=col>quoted_status_userid</th><th scope=col>quoted_status_username</th><th scope=col>extractedts</th><th scope=col>sentiment</th><th scope=col>score</th></tr></thead>\n",
       "<tbody>\n",
       "\t<tr><td>1.562506e+18                                                                                                                                                                   </td><td>SanazMaghsoudi                                                                                                                                                                 </td><td>ðŸ–¤Ø²Ù† Ø²Ù†Ø¯Ú¯ÛŒ Ø¢Ø²Ø§Ø¯ÛŒðŸ–¤\n",
       "\n",
       "Iranian-Canadian writer and abstract painter, author of \"Me, the bullies, and Saddam Hussein,\" member of The Creative Academy for Writers</td><td>Vancouver, BC                                                                                                                                                                  </td><td>2606                                                                                                                                                                           </td><td> 2534                                                                                                                                                                          </td><td> 5911                                                                                                                                                                          </td><td>2022-08-24 18:23:59                                                                                                                                                            </td><td>1.630091e+18                                                                                                                                                                   </td><td>2023-02-27 06:23:52                                                                                                                                                            </td><td>...                                                                                                                                                                            </td><td>0                                                                                                                                                                              </td><td>0                                                                                                                                                                              </td><td>                                                                                                                                                                               </td><td>False                                                                                                                                                                          </td><td>0.000000e+00                                                                                                                                                                   </td><td>0.000000e+00                                                                                                                                                                   </td><td>                                                                                                                                                                               </td><td>2023-02-27 08:21:02.357870                                                                                                                                                     </td><td>neu                                                                                                                                                                            </td><td>0.4984705                                                                                                                                                                      </td></tr>\n",
       "\t<tr><td>3.263105e+07                                                                                                                                                                   </td><td>MustafaSala7                                                                                                                                                                   </td><td>I Love Gaming, Reading, Psychology                                                                                                                                             </td><td>                                                                                                                                                                               </td><td> 400                                                                                                                                                                           </td><td>  180                                                                                                                                                                          </td><td>12629                                                                                                                                                                          </td><td>2009-04-17 22:34:30                                                                                                                                                            </td><td>1.629957e+18                                                                                                                                                                   </td><td>2023-02-26 21:29:28                                                                                                                                                            </td><td>...                                                                                                                                                                            </td><td>0                                                                                                                                                                              </td><td>0                                                                                                                                                                              </td><td>                                                                                                                                                                               </td><td>False                                                                                                                                                                          </td><td>0.000000e+00                                                                                                                                                                   </td><td>0.000000e+00                                                                                                                                                                   </td><td>                                                                                                                                                                               </td><td>2023-02-26 21:30:58.840803                                                                                                                                                     </td><td>neu                                                                                                                                                                            </td><td>0.8143747                                                                                                                                                                      </td></tr>\n",
       "\t<tr><td>9.330797e+07                                                                                                                                                                   </td><td>maggiemelindama                                                                                                                                                                </td><td>housewife                                                                                                                                                                      </td><td>Pacific northwest                                                                                                                                                              </td><td> 466                                                                                                                                                                           </td><td>  132                                                                                                                                                                          </td><td>19702                                                                                                                                                                          </td><td>2009-11-29 02:31:52                                                                                                                                                            </td><td>1.629895e+18                                                                                                                                                                   </td><td>2023-02-26 17:22:17                                                                                                                                                            </td><td>...                                                                                                                                                                            </td><td>0                                                                                                                                                                              </td><td>0                                                                                                                                                                              </td><td>                                                                                                                                                                               </td><td>False                                                                                                                                                                          </td><td>0.000000e+00                                                                                                                                                                   </td><td>0.000000e+00                                                                                                                                                                   </td><td>                                                                                                                                                                               </td><td>2023-02-26 17:40:16.882852                                                                                                                                                     </td><td>neg                                                                                                                                                                            </td><td>0.5364190                                                                                                                                                                      </td></tr>\n",
       "\t<tr><td>8.199719e+17                                                                                                                                                                   </td><td>SAM_Volhov                                                                                                                                                                     </td><td>#fakenews (the real ones and the Truth marked so) ARE the new fog of war. (Re)tweets about military /security issues and... life (mostly from Earth)...                        </td><td>Eastern Europe                                                                                                                                                                 </td><td>1564                                                                                                                                                                           </td><td> 2098                                                                                                                                                                          </td><td>91176                                                                                                                                                                          </td><td>2017-01-13 18:18:38                                                                                                                                                            </td><td>1.629400e+18                                                                                                                                                                   </td><td>2023-02-25 08:38:29                                                                                                                                                            </td><td>...                                                                                                                                                                            </td><td>0                                                                                                                                                                              </td><td>0                                                                                                                                                                              </td><td>                                                                                                                                                                               </td><td>False                                                                                                                                                                          </td><td>0.000000e+00                                                                                                                                                                   </td><td>0.000000e+00                                                                                                                                                                   </td><td>                                                                                                                                                                               </td><td>2023-02-25 10:17:04.348192                                                                                                                                                     </td><td>pos                                                                                                                                                                            </td><td>0.4358384                                                                                                                                                                      </td></tr>\n",
       "\t<tr><td>1.483463e+18                                                                                                                                                                   </td><td>juliefounddead                                                                                                                                                                 </td><td>Ð£ÐºÑ€Ð°Ñ—Ð½Ñ†Ñ– Ñ Ð² Ð·Ð°Ñ…Ð²Ð°Ñ‚Ñ– Ð· Ð½Ð°Ñ, ÑÐºÑ– Ð¼Ð¸ Ð¿Ñ€Ð¸ÐºÐ¾Ð»ÑŒÐ½Ñ– , Ð° Ð²Ð¾Ð½Ð¸ Ñ…Ð¾Ñ‚ÑÑ‚ÑŒ Ñƒ Ð½Ð°Ñ Ñ‰Ð¾ÑÑŒ Ð²Ñ–Ð´Ñ–Ð±Ñ€Ð°Ñ‚Ð¸.                              </td><td>ÑÐµÐ»Ð¾ Ð²ÐµÐ»Ð¸ÐºÑ– Ð²Ð°Ð½Ò‘ÐµÑ€Ð¸                                                                                                                                           </td><td> 432                                                                                                                                                                           </td><td> 1830                                                                                                                                                                          </td><td>20960                                                                                                                                                                          </td><td>2022-01-18 15:34:21                                                                                                                                                            </td><td>1.631163e+18                                                                                                                                                                   </td><td>2023-03-02 05:20:28                                                                                                                                                            </td><td>...                                                                                                                                                                            </td><td>0                                                                                                                                                                              </td><td>0                                                                                                                                                                              </td><td>                                                                                                                                                                               </td><td>False                                                                                                                                                                          </td><td>0.000000e+00                                                                                                                                                                   </td><td>0.000000e+00                                                                                                                                                                   </td><td>                                                                                                                                                                               </td><td>2023-03-02 06:07:39.696227                                                                                                                                                     </td><td>neg                                                                                                                                                                            </td><td>0.8909803                                                                                                                                                                      </td></tr>\n",
       "\t<tr><td>1.471509e+18                                                                                                                                                                   </td><td>WhereisRussia                                                                                                                                                                  </td><td>Casting a light on global Russian Military activity.\n",
       "Where they are and what they are up to.\n",
       "\n",
       "Find us: https://t.co/ez1rLWmVsf                                              </td><td>                                                                                                                                                                               </td><td> 268                                                                                                                                                                           </td><td>26598                                                                                                                                                                          </td><td> 2698                                                                                                                                                                          </td><td>2021-12-16 15:56:33                                                                                                                                                            </td><td>1.630228e+18                                                                                                                                                                   </td><td>2023-02-27 15:27:40                                                                                                                                                            </td><td>...                                                                                                                                                                            </td><td>0                                                                                                                                                                              </td><td>0                                                                                                                                                                              </td><td>                                                                                                                                                                               </td><td>True                                                                                                                                                                           </td><td>1.630121e+18                                                                                                                                                                   </td><td>1.471509e+18                                                                                                                                                                   </td><td>WhereisRussia                                                                                                                                                                  </td><td>2023-02-27 18:11:06.438799                                                                                                                                                     </td><td>neg                                                                                                                                                                            </td><td>0.7699143                                                                                                                                                                      </td></tr>\n",
       "</tbody>\n",
       "</table>\n"
      ],
      "text/latex": [
       "\\begin{tabular}{r|llllllllllllllllllllllllllllll}\n",
       " userid & username & acctdesc & location & following & followers & totaltweets & usercreatedts & tweetid & tweetcreatedts & ... & in\\_reply\\_to\\_status\\_id & in\\_reply\\_to\\_user\\_id & in\\_reply\\_to\\_screen\\_name & is\\_quote\\_status & quoted\\_status\\_id & quoted\\_status\\_userid & quoted\\_status\\_username & extractedts & sentiment & score\\\\\n",
       "\\hline\n",
       "\t 1.562506e+18                                                                                                                                                                    & SanazMaghsoudi                                                                                                                                                                  & ðŸ–¤Ø²Ù† Ø²Ù†Ø¯Ú¯ÛŒ Ø¢Ø²Ø§Ø¯ÛŒðŸ–¤\n",
       "\n",
       "Iranian-Canadian writer and abstract painter, author of \"Me, the bullies, and Saddam Hussein,\" member of The Creative Academy for Writers & Vancouver, BC                                                                                                                                                                   & 2606                                                                                                                                                                            &  2534                                                                                                                                                                           &  5911                                                                                                                                                                           & 2022-08-24 18:23:59                                                                                                                                                             & 1.630091e+18                                                                                                                                                                    & 2023-02-27 06:23:52                                                                                                                                                             & ...                                                                                                                                                                             & 0                                                                                                                                                                               & 0                                                                                                                                                                               &                                                                                                                                                                                 & False                                                                                                                                                                           & 0.000000e+00                                                                                                                                                                    & 0.000000e+00                                                                                                                                                                    &                                                                                                                                                                                 & 2023-02-27 08:21:02.357870                                                                                                                                                      & neu                                                                                                                                                                             & 0.4984705                                                                                                                                                                      \\\\\n",
       "\t 3.263105e+07                                                                                                                                                                    & MustafaSala7                                                                                                                                                                    & I Love Gaming, Reading, Psychology                                                                                                                                              &                                                                                                                                                                                 &  400                                                                                                                                                                            &   180                                                                                                                                                                           & 12629                                                                                                                                                                           & 2009-04-17 22:34:30                                                                                                                                                             & 1.629957e+18                                                                                                                                                                    & 2023-02-26 21:29:28                                                                                                                                                             & ...                                                                                                                                                                             & 0                                                                                                                                                                               & 0                                                                                                                                                                               &                                                                                                                                                                                 & False                                                                                                                                                                           & 0.000000e+00                                                                                                                                                                    & 0.000000e+00                                                                                                                                                                    &                                                                                                                                                                                 & 2023-02-26 21:30:58.840803                                                                                                                                                      & neu                                                                                                                                                                             & 0.8143747                                                                                                                                                                      \\\\\n",
       "\t 9.330797e+07                                                                                                                                                                    & maggiemelindama                                                                                                                                                                 & housewife                                                                                                                                                                       & Pacific northwest                                                                                                                                                               &  466                                                                                                                                                                            &   132                                                                                                                                                                           & 19702                                                                                                                                                                           & 2009-11-29 02:31:52                                                                                                                                                             & 1.629895e+18                                                                                                                                                                    & 2023-02-26 17:22:17                                                                                                                                                             & ...                                                                                                                                                                             & 0                                                                                                                                                                               & 0                                                                                                                                                                               &                                                                                                                                                                                 & False                                                                                                                                                                           & 0.000000e+00                                                                                                                                                                    & 0.000000e+00                                                                                                                                                                    &                                                                                                                                                                                 & 2023-02-26 17:40:16.882852                                                                                                                                                      & neg                                                                                                                                                                             & 0.5364190                                                                                                                                                                      \\\\\n",
       "\t 8.199719e+17                                                                                                                                                                      & SAM\\_Volhov                                                                                                                                                                      & \\#fakenews (the real ones and the Truth marked so) ARE the new fog of war. (Re)tweets about military /security issues and... life (mostly from Earth)...                         & Eastern Europe                                                                                                                                                                    & 1564                                                                                                                                                                              &  2098                                                                                                                                                                             & 91176                                                                                                                                                                             & 2017-01-13 18:18:38                                                                                                                                                               & 1.629400e+18                                                                                                                                                                      & 2023-02-25 08:38:29                                                                                                                                                               & ...                                                                                                                                                                               & 0                                                                                                                                                                                 & 0                                                                                                                                                                                 &                                                                                                                                                                                   & False                                                                                                                                                                             & 0.000000e+00                                                                                                                                                                      & 0.000000e+00                                                                                                                                                                      &                                                                                                                                                                                   & 2023-02-25 10:17:04.348192                                                                                                                                                        & pos                                                                                                                                                                               & 0.4358384                                                                                                                                                                        \\\\\n",
       "\t 1.483463e+18                                                                                                                                                                    & juliefounddead                                                                                                                                                                  & Ð£ÐºÑ€Ð°Ñ—Ð½Ñ†Ñ– Ñ Ð² Ð·Ð°Ñ…Ð²Ð°Ñ‚Ñ– Ð· Ð½Ð°Ñ, ÑÐºÑ– Ð¼Ð¸ Ð¿Ñ€Ð¸ÐºÐ¾Ð»ÑŒÐ½Ñ– , Ð° Ð²Ð¾Ð½Ð¸ Ñ…Ð¾Ñ‚ÑÑ‚ÑŒ Ñƒ Ð½Ð°Ñ Ñ‰Ð¾ÑÑŒ Ð²Ñ–Ð´Ñ–Ð±Ñ€Ð°Ñ‚Ð¸.                               & ÑÐµÐ»Ð¾ Ð²ÐµÐ»Ð¸ÐºÑ– Ð²Ð°Ð½Ò‘ÐµÑ€Ð¸                                                                                                                                            &  432                                                                                                                                                                            &  1830                                                                                                                                                                           & 20960                                                                                                                                                                           & 2022-01-18 15:34:21                                                                                                                                                             & 1.631163e+18                                                                                                                                                                    & 2023-03-02 05:20:28                                                                                                                                                             & ...                                                                                                                                                                             & 0                                                                                                                                                                               & 0                                                                                                                                                                               &                                                                                                                                                                                 & False                                                                                                                                                                           & 0.000000e+00                                                                                                                                                                    & 0.000000e+00                                                                                                                                                                    &                                                                                                                                                                                 & 2023-03-02 06:07:39.696227                                                                                                                                                      & neg                                                                                                                                                                             & 0.8909803                                                                                                                                                                      \\\\\n",
       "\t 1.471509e+18                                                                                                                                                                    & WhereisRussia                                                                                                                                                                   & Casting a light on global Russian Military activity.\n",
       "Where they are and what they are up to.\n",
       "\n",
       "Find us: https://t.co/ez1rLWmVsf                                               &                                                                                                                                                                                 &  268                                                                                                                                                                            & 26598                                                                                                                                                                           &  2698                                                                                                                                                                           & 2021-12-16 15:56:33                                                                                                                                                             & 1.630228e+18                                                                                                                                                                    & 2023-02-27 15:27:40                                                                                                                                                             & ...                                                                                                                                                                             & 0                                                                                                                                                                               & 0                                                                                                                                                                               &                                                                                                                                                                                 & True                                                                                                                                                                            & 1.630121e+18                                                                                                                                                                    & 1.471509e+18                                                                                                                                                                    & WhereisRussia                                                                                                                                                                   & 2023-02-27 18:11:06.438799                                                                                                                                                      & neg                                                                                                                                                                             & 0.7699143                                                                                                                                                                      \\\\\n",
       "\\end{tabular}\n"
      ],
      "text/markdown": [
       "\n",
       "| userid | username | acctdesc | location | following | followers | totaltweets | usercreatedts | tweetid | tweetcreatedts | ... | in_reply_to_status_id | in_reply_to_user_id | in_reply_to_screen_name | is_quote_status | quoted_status_id | quoted_status_userid | quoted_status_username | extractedts | sentiment | score |\n",
       "|---|---|---|---|---|---|---|---|---|---|---|---|---|---|---|---|---|---|---|---|---|\n",
       "| 1.562506e+18                                                                                                                                                                    | SanazMaghsoudi                                                                                                                                                                  | ðŸ–¤Ø²Ù† Ø²Ù†Ø¯Ú¯ÛŒ Ø¢Ø²Ø§Ø¯ÛŒðŸ–¤\n",
       "\n",
       "Iranian-Canadian writer and abstract painter, author of \"Me, the bullies, and Saddam Hussein,\" member of The Creative Academy for Writers | Vancouver, BC                                                                                                                                                                   | 2606                                                                                                                                                                            |  2534                                                                                                                                                                           |  5911                                                                                                                                                                           | 2022-08-24 18:23:59                                                                                                                                                             | 1.630091e+18                                                                                                                                                                    | 2023-02-27 06:23:52                                                                                                                                                             | ...                                                                                                                                                                             | 0                                                                                                                                                                               | 0                                                                                                                                                                               |                                                                                                                                                                                 | False                                                                                                                                                                           | 0.000000e+00                                                                                                                                                                    | 0.000000e+00                                                                                                                                                                    |                                                                                                                                                                                 | 2023-02-27 08:21:02.357870                                                                                                                                                      | neu                                                                                                                                                                             | 0.4984705                                                                                                                                                                       |\n",
       "| 3.263105e+07                                                                                                                                                                    | MustafaSala7                                                                                                                                                                    | I Love Gaming, Reading, Psychology                                                                                                                                              |                                                                                                                                                                                 |  400                                                                                                                                                                            |   180                                                                                                                                                                           | 12629                                                                                                                                                                           | 2009-04-17 22:34:30                                                                                                                                                             | 1.629957e+18                                                                                                                                                                    | 2023-02-26 21:29:28                                                                                                                                                             | ...                                                                                                                                                                             | 0                                                                                                                                                                               | 0                                                                                                                                                                               |                                                                                                                                                                                 | False                                                                                                                                                                           | 0.000000e+00                                                                                                                                                                    | 0.000000e+00                                                                                                                                                                    |                                                                                                                                                                                 | 2023-02-26 21:30:58.840803                                                                                                                                                      | neu                                                                                                                                                                             | 0.8143747                                                                                                                                                                       |\n",
       "| 9.330797e+07                                                                                                                                                                    | maggiemelindama                                                                                                                                                                 | housewife                                                                                                                                                                       | Pacific northwest                                                                                                                                                               |  466                                                                                                                                                                            |   132                                                                                                                                                                           | 19702                                                                                                                                                                           | 2009-11-29 02:31:52                                                                                                                                                             | 1.629895e+18                                                                                                                                                                    | 2023-02-26 17:22:17                                                                                                                                                             | ...                                                                                                                                                                             | 0                                                                                                                                                                               | 0                                                                                                                                                                               |                                                                                                                                                                                 | False                                                                                                                                                                           | 0.000000e+00                                                                                                                                                                    | 0.000000e+00                                                                                                                                                                    |                                                                                                                                                                                 | 2023-02-26 17:40:16.882852                                                                                                                                                      | neg                                                                                                                                                                             | 0.5364190                                                                                                                                                                       |\n",
       "| 8.199719e+17                                                                                                                                                                    | SAM_Volhov                                                                                                                                                                      | #fakenews (the real ones and the Truth marked so) ARE the new fog of war. (Re)tweets about military /security issues and... life (mostly from Earth)...                         | Eastern Europe                                                                                                                                                                  | 1564                                                                                                                                                                            |  2098                                                                                                                                                                           | 91176                                                                                                                                                                           | 2017-01-13 18:18:38                                                                                                                                                             | 1.629400e+18                                                                                                                                                                    | 2023-02-25 08:38:29                                                                                                                                                             | ...                                                                                                                                                                             | 0                                                                                                                                                                               | 0                                                                                                                                                                               |                                                                                                                                                                                 | False                                                                                                                                                                           | 0.000000e+00                                                                                                                                                                    | 0.000000e+00                                                                                                                                                                    |                                                                                                                                                                                 | 2023-02-25 10:17:04.348192                                                                                                                                                      | pos                                                                                                                                                                             | 0.4358384                                                                                                                                                                       |\n",
       "| 1.483463e+18                                                                                                                                                                    | juliefounddead                                                                                                                                                                  | Ð£ÐºÑ€Ð°Ñ—Ð½Ñ†Ñ– Ñ Ð² Ð·Ð°Ñ…Ð²Ð°Ñ‚Ñ– Ð· Ð½Ð°Ñ, ÑÐºÑ– Ð¼Ð¸ Ð¿Ñ€Ð¸ÐºÐ¾Ð»ÑŒÐ½Ñ– , Ð° Ð²Ð¾Ð½Ð¸ Ñ…Ð¾Ñ‚ÑÑ‚ÑŒ Ñƒ Ð½Ð°Ñ Ñ‰Ð¾ÑÑŒ Ð²Ñ–Ð´Ñ–Ð±Ñ€Ð°Ñ‚Ð¸.                               | ÑÐµÐ»Ð¾ Ð²ÐµÐ»Ð¸ÐºÑ– Ð²Ð°Ð½Ò‘ÐµÑ€Ð¸                                                                                                                                            |  432                                                                                                                                                                            |  1830                                                                                                                                                                           | 20960                                                                                                                                                                           | 2022-01-18 15:34:21                                                                                                                                                             | 1.631163e+18                                                                                                                                                                    | 2023-03-02 05:20:28                                                                                                                                                             | ...                                                                                                                                                                             | 0                                                                                                                                                                               | 0                                                                                                                                                                               |                                                                                                                                                                                 | False                                                                                                                                                                           | 0.000000e+00                                                                                                                                                                    | 0.000000e+00                                                                                                                                                                    |                                                                                                                                                                                 | 2023-03-02 06:07:39.696227                                                                                                                                                      | neg                                                                                                                                                                             | 0.8909803                                                                                                                                                                       |\n",
       "| 1.471509e+18                                                                                                                                                                    | WhereisRussia                                                                                                                                                                   | Casting a light on global Russian Military activity.\n",
       "Where they are and what they are up to.\n",
       "\n",
       "Find us: https://t.co/ez1rLWmVsf                                               |                                                                                                                                                                                 |  268                                                                                                                                                                            | 26598                                                                                                                                                                           |  2698                                                                                                                                                                           | 2021-12-16 15:56:33                                                                                                                                                             | 1.630228e+18                                                                                                                                                                    | 2023-02-27 15:27:40                                                                                                                                                             | ...                                                                                                                                                                             | 0                                                                                                                                                                               | 0                                                                                                                                                                               |                                                                                                                                                                                 | True                                                                                                                                                                            | 1.630121e+18                                                                                                                                                                    | 1.471509e+18                                                                                                                                                                    | WhereisRussia                                                                                                                                                                   | 2023-02-27 18:11:06.438799                                                                                                                                                      | neg                                                                                                                                                                             | 0.7699143                                                                                                                                                                       |\n",
       "\n"
      ],
      "text/plain": [
       "  userid       username       \n",
       "1 1.562506e+18 SanazMaghsoudi \n",
       "2 3.263105e+07 MustafaSala7   \n",
       "3 9.330797e+07 maggiemelindama\n",
       "4 8.199719e+17 SAM_Volhov     \n",
       "5 1.483463e+18 juliefounddead \n",
       "6 1.471509e+18 WhereisRussia  \n",
       "  acctdesc                                                                                                                                                                       \n",
       "1 ðŸ–¤Ø²Ù† Ø²Ù†Ø¯Ú¯ÛŒ Ø¢Ø²Ø§Ø¯ÛŒðŸ–¤\\n\\nIranian-Canadian writer and abstract painter, author of \"Me, the bullies, and Saddam Hussein,\" member of The Creative Academy for Writers\n",
       "2 I Love Gaming, Reading, Psychology                                                                                                                                             \n",
       "3 housewife                                                                                                                                                                      \n",
       "4 #fakenews (the real ones and the Truth marked so) ARE the new fog of war. (Re)tweets about military /security issues and... life (mostly from Earth)...                        \n",
       "5 Ð£ÐºÑ\\200Ð°Ñ—Ð½Ñ†Ñ– Ñ\\217 Ð² Ð·Ð°Ñ…Ð²Ð°Ñ‚Ñ– Ð· Ð½Ð°Ñ\\201, Ñ\\217ÐºÑ– Ð¼Ð¸ Ð¿Ñ\\200Ð¸ÐºÐ¾Ð»ÑŒÐ½Ñ– , Ð° Ð²Ð¾Ð½Ð¸ Ñ…Ð¾Ñ‚Ñ\\217Ñ‚ÑŒ Ñƒ Ð½Ð°Ñ\\201 Ñ‰Ð¾Ñ\\201ÑŒ Ð²Ñ–Ð´Ñ–Ð±Ñ\\200Ð°Ñ‚Ð¸.                              \n",
       "6 Casting a light on global Russian Military activity.\\nWhere they are and what they are up to.\\n\\nFind us: https://t.co/ez1rLWmVsf                                              \n",
       "  location                             following followers totaltweets\n",
       "1 Vancouver, BC                        2606       2534      5911      \n",
       "2                                       400        180     12629      \n",
       "3 Pacific northwest                     466        132     19702      \n",
       "4 Eastern Europe                       1564       2098     91176      \n",
       "5 Ñ\\201ÐµÐ»Ð¾ Ð²ÐµÐ»Ð¸ÐºÑ– Ð²Ð°Ð½Ò‘ÐµÑ\\200Ð¸  432       1830     20960      \n",
       "6                                       268      26598      2698      \n",
       "  usercreatedts       tweetid      tweetcreatedts      ...\n",
       "1 2022-08-24 18:23:59 1.630091e+18 2023-02-27 06:23:52 ...\n",
       "2 2009-04-17 22:34:30 1.629957e+18 2023-02-26 21:29:28 ...\n",
       "3 2009-11-29 02:31:52 1.629895e+18 2023-02-26 17:22:17 ...\n",
       "4 2017-01-13 18:18:38 1.629400e+18 2023-02-25 08:38:29 ...\n",
       "5 2022-01-18 15:34:21 1.631163e+18 2023-03-02 05:20:28 ...\n",
       "6 2021-12-16 15:56:33 1.630228e+18 2023-02-27 15:27:40 ...\n",
       "  in_reply_to_status_id in_reply_to_user_id in_reply_to_screen_name\n",
       "1 0                     0                                          \n",
       "2 0                     0                                          \n",
       "3 0                     0                                          \n",
       "4 0                     0                                          \n",
       "5 0                     0                                          \n",
       "6 0                     0                                          \n",
       "  is_quote_status quoted_status_id quoted_status_userid quoted_status_username\n",
       "1 False           0.000000e+00     0.000000e+00                               \n",
       "2 False           0.000000e+00     0.000000e+00                               \n",
       "3 False           0.000000e+00     0.000000e+00                               \n",
       "4 False           0.000000e+00     0.000000e+00                               \n",
       "5 False           0.000000e+00     0.000000e+00                               \n",
       "6 True            1.630121e+18     1.471509e+18         WhereisRussia         \n",
       "  extractedts                sentiment score    \n",
       "1 2023-02-27 08:21:02.357870 neu       0.4984705\n",
       "2 2023-02-26 21:30:58.840803 neu       0.8143747\n",
       "3 2023-02-26 17:40:16.882852 neg       0.5364190\n",
       "4 2023-02-25 10:17:04.348192 pos       0.4358384\n",
       "5 2023-03-02 06:07:39.696227 neg       0.8909803\n",
       "6 2023-02-27 18:11:06.438799 neg       0.7699143"
      ]
     },
     "metadata": {},
     "output_type": "display_data"
    }
   ],
   "source": [
    "# Carico il pacchetto\n",
    "library(countrycode)\n",
    "\n",
    "# Ottiengo una lista di nazioni\n",
    "countries <- countrycode::codelist$country.name.en\n",
    "head(countries)  # Visualizza le prime righe\n",
    "\n",
    "# Verifico quante location ci sono nel dataset\n",
    "distinct_location <- df_sample %>%\n",
    "  distinct(location) %>%\n",
    "  summarise(count = n())\n",
    "\n",
    "cat(\"Il numero di location è:\", distinct_location$count, \"\\n\")\n",
    "\n",
    "# Verifico quante location sono nazioni\n",
    "# Confronto i nomi delle nazioni con le location del dataset\n",
    "location_nazioni <- df_sample %>%\n",
    "  filter(location %in% countries) %>%\n",
    "  summarise(count = n_distinct(location))\n",
    "\n",
    "cat(\"Il numero di location che sono nazioni è:\", location_nazioni$count, \"\\n\")\n"
   ]
  },
  {
   "cell_type": "markdown",
   "id": "5219d5ab-3d95-4e79-bf55-b4c53df4a64f",
   "metadata": {},
   "source": [
    "### 1.3.6 esplorazione feature numeriche"
   ]
  },
  {
   "cell_type": "markdown",
   "id": "489fb34d-35ae-47aa-99bc-eda38ce78e50",
   "metadata": {},
   "source": [
    "#### 1.3.6.1  funzioni utili per trattare interi"
   ]
  },
  {
   "cell_type": "code",
   "execution_count": 35,
   "id": "924c1477-c096-4726-9b23-7367439f96c2",
   "metadata": {},
   "outputs": [],
   "source": [
    "## VERIFICA DI VALORI INTERI POSITIVI\n",
    "check_integer_features <- function(data, feature_name) {\n",
    "    \n",
    "  # Controllo se la feature esiste nel dataset\n",
    "  if (!feature_name %in% colnames(data)) {\n",
    "    stop(\"La feature specificata non esiste nel dataset.\")\n",
    "  }\n",
    "  \n",
    "  # Estraggo la colonna specificata\n",
    "  feature_data <- data[[feature_name]]\n",
    "  \n",
    "  # Controllo se la colonna è numerica\n",
    "  if (!is.numeric(feature_data)) {\n",
    "    return(\"La colonna non è numerica; potrebbe contenere valori di tipo carattere.\")\n",
    "  }\n",
    "  \n",
    "  # Controllo se ci sono valori non interi\n",
    "  non_integer_count <- sum(feature_data != as.integer(feature_data), na.rm = TRUE)\n",
    "  \n",
    "  # Verifico se ci sono valori negativi\n",
    "  negative_count <- sum(feature_data < 0, na.rm = TRUE)\n",
    "  \n",
    "  # Logica di controllo e messaggi\n",
    "  if (non_integer_count > 0) {\n",
    "    return(paste(\"Ci sono\", non_integer_count, \"valori non interi nella colonna; dovrebbero essere tutti interi.\"))\n",
    "  } else if (negative_count > 0) {\n",
    "    return(paste(\"La colonna contiene\", negative_count, \"valori negativi; dovrebbero essere tutti >= 0.\"))\n",
    "  } else {\n",
    "    return(paste(\"La colonna: \",feature_name,\" è composta solo da valori interi non negativi (incluso lo 0).\"))\n",
    "  }\n",
    "}"
   ]
  },
  {
   "cell_type": "markdown",
   "id": "3cffb0e0-4a6b-4cf2-b76b-88e8e536a0d1",
   "metadata": {},
   "source": [
    "#### 1.3.6.2 verifica delle feature numeriche"
   ]
  },
  {
   "cell_type": "code",
   "execution_count": 40,
   "id": "5651de70-469d-4f6d-9edd-79e343ef179f",
   "metadata": {},
   "outputs": [
    {
     "data": {
      "text/html": [
       "<span style=white-space:pre-wrap>'La colonna:  following  è composta solo da valori interi non negativi (incluso lo 0).'</span>"
      ],
      "text/latex": [
       "'La colonna:  following  è composta solo da valori interi non negativi (incluso lo 0).'"
      ],
      "text/markdown": [
       "<span style=white-space:pre-wrap>'La colonna:  following  è composta solo da valori interi non negativi (incluso lo 0).'</span>"
      ],
      "text/plain": [
       "[1] \"La colonna:  following  è composta solo da valori interi non negativi (incluso lo 0).\""
      ]
     },
     "metadata": {},
     "output_type": "display_data"
    },
    {
     "data": {
      "text/html": [
       "<span style=white-space:pre-wrap>'La colonna:  followers  è composta solo da valori interi non negativi (incluso lo 0).'</span>"
      ],
      "text/latex": [
       "'La colonna:  followers  è composta solo da valori interi non negativi (incluso lo 0).'"
      ],
      "text/markdown": [
       "<span style=white-space:pre-wrap>'La colonna:  followers  è composta solo da valori interi non negativi (incluso lo 0).'</span>"
      ],
      "text/plain": [
       "[1] \"La colonna:  followers  è composta solo da valori interi non negativi (incluso lo 0).\""
      ]
     },
     "metadata": {},
     "output_type": "display_data"
    },
    {
     "data": {
      "text/html": [
       "<span style=white-space:pre-wrap>'La colonna:  totaltweets  è composta solo da valori interi non negativi (incluso lo 0).'</span>"
      ],
      "text/latex": [
       "'La colonna:  totaltweets  è composta solo da valori interi non negativi (incluso lo 0).'"
      ],
      "text/markdown": [
       "<span style=white-space:pre-wrap>'La colonna:  totaltweets  è composta solo da valori interi non negativi (incluso lo 0).'</span>"
      ],
      "text/plain": [
       "[1] \"La colonna:  totaltweets  è composta solo da valori interi non negativi (incluso lo 0).\""
      ]
     },
     "metadata": {},
     "output_type": "display_data"
    },
    {
     "data": {
      "text/html": [
       "<span style=white-space:pre-wrap>'La colonna:  retweetcount  è composta solo da valori interi non negativi (incluso lo 0).'</span>"
      ],
      "text/latex": [
       "'La colonna:  retweetcount  è composta solo da valori interi non negativi (incluso lo 0).'"
      ],
      "text/markdown": [
       "<span style=white-space:pre-wrap>'La colonna:  retweetcount  è composta solo da valori interi non negativi (incluso lo 0).'</span>"
      ],
      "text/plain": [
       "[1] \"La colonna:  retweetcount  è composta solo da valori interi non negativi (incluso lo 0).\""
      ]
     },
     "metadata": {},
     "output_type": "display_data"
    },
    {
     "data": {
      "text/html": [
       "<span style=white-space:pre-wrap>'La colonna:  favorite_count  è composta solo da valori interi non negativi (incluso lo 0).'</span>"
      ],
      "text/latex": [
       "'La colonna:  favorite\\_count  è composta solo da valori interi non negativi (incluso lo 0).'"
      ],
      "text/markdown": [
       "<span style=white-space:pre-wrap>'La colonna:  favorite_count  è composta solo da valori interi non negativi (incluso lo 0).'</span>"
      ],
      "text/plain": [
       "[1] \"La colonna:  favorite_count  è composta solo da valori interi non negativi (incluso lo 0).\""
      ]
     },
     "metadata": {},
     "output_type": "display_data"
    },
    {
     "data": {
      "text/html": [
       "'Ci sono 77659 valori non interi nella colonna; dovrebbero essere tutti interi.'"
      ],
      "text/latex": [
       "'Ci sono 77659 valori non interi nella colonna; dovrebbero essere tutti interi.'"
      ],
      "text/markdown": [
       "'Ci sono 77659 valori non interi nella colonna; dovrebbero essere tutti interi.'"
      ],
      "text/plain": [
       "[1] \"Ci sono 77659 valori non interi nella colonna; dovrebbero essere tutti interi.\""
      ]
     },
     "metadata": {},
     "output_type": "display_data"
    }
   ],
   "source": [
    "# Test della funzione per ogni feature\n",
    "check_integer_features(df_sample, \"following\")\n",
    "check_integer_features(df_sample, \"followers\")\n",
    "check_integer_features(df_sample, \"totaltweets\")\n",
    "check_integer_features(df_sample, \"retweetcount\")\n",
    "check_integer_features(df_sample, \"favorite_count\")\n",
    "check_integer_features(df_sample, \"score\")    #score non ha valori interi, presenta un valore normalizzato tra 0 e 1"
   ]
  },
  {
   "cell_type": "markdown",
   "id": "0baae200-bd34-4040-bb95-d7f193727bea",
   "metadata": {},
   "source": [
    "### 1.3.7 Esplorazione date"
   ]
  },
  {
   "cell_type": "markdown",
   "id": "9c8ef2a3-aa43-48dc-b363-9ae80e05ad2d",
   "metadata": {},
   "source": [
    "#### 1.3.7.1 funzioni di gestione delle date"
   ]
  },
  {
   "cell_type": "code",
   "execution_count": 50,
   "id": "d0a08b2f-738b-4b3e-8eb6-a3edc7901576",
   "metadata": {},
   "outputs": [],
   "source": [
    "# Funzione per trovare il formato prevalente in una colonna di date\n",
    "find_dominant_date_format <- function(date_column) {\n",
    "  # Lista di formati di date e orari da provare\n",
    "  formats <- c(\n",
    "    \n",
    "    # Data e orario (24 ore)\n",
    "    \"%Y-%m-%d %H:%M:%S\", \"%d-%m-%Y %H:%M:%S\", \"%m-%d-%Y %H:%M:%S\",\n",
    "    \"%d/%m/%Y %H:%M:%S\", \"%Y/%m/%d %H:%M:%S\", \"%Y%m%d %H:%M:%S\", \"%d%m%Y %H:%M:%S\",\n",
    "    \"%Y-%m-%d %H:%M\", \"%d-%m-%Y %H:%M\", \"%m-%d-%Y %H:%M\",\n",
    "    \n",
    "    # Data e orario (12 ore con AM/PM)\n",
    "    \"%Y-%m-%d %I:%M %p\", \"%d-%m-%Y %I:%M %p\", \"%m-%d-%Y %I:%M %p\",\n",
    "    \"%d/%m/%Y %I:%M %p\", \"%Y/%m/%d %I:%M %p\", \"%Y%m%d %I:%M %p\", \"%d%m%Y %I:%M %p\",\n",
    "    \"%Y-%m-%d %I:%M:%S %p\", \"%d-%m-%Y %I:%M:%S %p\", \"%m-%d-%Y %I:%M:%S %p\"\n",
    "  )\n",
    "  \n",
    "  # Conto quanti valori rispettano ciascun formato\n",
    "  format_counts <- sapply(formats, function(fmt) {\n",
    "    sum(!is.na(as.POSIXct(date_column, format = fmt, tz = \"UTC\")), na.rm = TRUE)\n",
    "  })\n",
    "  \n",
    "  # Trovo il formato con il conteggio più alto\n",
    "  dominant_format <- formats[which.max(format_counts)]\n",
    "  \n",
    "  # Aggiungo un messaggio di output\n",
    "  message(sprintf(\"Formato prevalente trovato: '%s' con %d valori validi.\", \n",
    "                  dominant_format, max(format_counts)))\n",
    "  \n",
    "  return(dominant_format)\n",
    "}\n",
    "\n",
    "# Funzione per contare le date non conformi in una colonna dato un formato specifico\n",
    "check_non_conforming_dates <- function(date_column, format) {\n",
    "  # Conto le date che non rispettano il formato\n",
    "  non_conforming_count <- sum(is.na(as.POSIXct(date_column, format = format, tz = \"UTC\")), na.rm = TRUE)\n",
    "  \n",
    "  # Aggiungo un messaggio di output\n",
    "  message(sprintf(\"Formato '%s' non rispettato da %d date.\", format, non_conforming_count))\n",
    "  \n",
    "  return(non_conforming_count)\n",
    "}\n"
   ]
  },
  {
   "cell_type": "markdown",
   "id": "73abaae7-851d-4774-88a6-eac8cb1344d7",
   "metadata": {},
   "source": [
    "#### 1.3.7.2 Esplorazione date"
   ]
  },
  {
   "cell_type": "code",
   "execution_count": 51,
   "id": "afda1699-3090-43ca-9eaf-249ec3be4b39",
   "metadata": {},
   "outputs": [
    {
     "name": "stderr",
     "output_type": "stream",
     "text": [
      "Formato prevalente trovato: '%Y-%m-%d %H:%M:%S' con 77659 valori validi.\n",
      "Formato prevalente trovato: '%Y-%m-%d %H:%M:%S' con 77659 valori validi.\n",
      "Formato prevalente trovato: '%Y-%m-%d %H:%M:%S' con 77659 valori validi.\n",
      "Formato '%Y-%m-%d %H:%M:%S' non rispettato da 0 date.\n",
      "Formato '%Y-%m-%d %H:%M:%S' non rispettato da 0 date.\n",
      "Formato '%Y-%m-%d %H:%M:%S' non rispettato da 0 date.\n"
     ]
    },
    {
     "name": "stdout",
     "output_type": "stream",
     "text": [
      "[1] \"La feature tweetcreatedts ha un numero di date che non rispettano il formato ' %Y-%m-%d %H:%M:%S ' pari a:  0\"\n",
      "[1] \"La feature usercreatedts ha un numero di date che non rispettano il formato ' %Y-%m-%d %H:%M:%S ' pari a:  0\"\n",
      "[1] \"La feature extractedts ha un numero di date che non rispettano il formato ' %Y-%m-%d %H:%M:%S ' pari a:  0\"\n"
     ]
    }
   ],
   "source": [
    "# Estrazione feature date\n",
    "tweetcreatedts <- df_sample$tweetcreatedts\n",
    "usercreatedts <- df_sample$usercreatedts\n",
    "extractedts <- df_sample$extractedts\n",
    "\n",
    "# Verifico il formato prevalente\n",
    "formato_data_tweetcreatedts <- find_dominant_date_format(tweetcreatedts)\n",
    "formato_data_usercreatedts <- find_dominant_date_format(usercreatedts)\n",
    "formato_data_extractedts <- find_dominant_date_format(extractedts)\n",
    "\n",
    "# Verifica del formato specifico\n",
    "verifica_tweetcreatedts <- check_non_conforming_dates(tweetcreatedts, formato_data_tweetcreatedts)\n",
    "verifica_usercreatedts <- check_non_conforming_dates(usercreatedts, formato_data_usercreatedts)\n",
    "verifica_extractedts <- check_non_conforming_dates(extractedts, formato_data_extractedts)\n",
    "\n",
    "# Nomi delle feature\n",
    "feature_names <- c(\"tweetcreatedts\", \"usercreatedts\", \"extractedts\")\n",
    "\n",
    "# Stampa verifiche\n",
    "print(paste(\"La feature\", feature_names[1], \n",
    "            \"ha un numero di date che non rispettano il formato '\", formato_data_tweetcreatedts,\n",
    "            \"' pari a: \", verifica_tweetcreatedts))\n",
    "print(paste(\"La feature\", feature_names[2], \n",
    "            \"ha un numero di date che non rispettano il formato '\", formato_data_usercreatedts,\n",
    "            \"' pari a: \", verifica_usercreatedts))\n",
    "print(paste(\"La feature\", feature_names[3], \n",
    "            \"ha un numero di date che non rispettano il formato '\", formato_data_extractedts,\n",
    "            \"' pari a: \", verifica_extractedts))\n"
   ]
  },
  {
   "cell_type": "markdown",
   "id": "ca1c39ad-f87d-40bc-916a-d584874ba4e9",
   "metadata": {},
   "source": [
    "### 1.3.8 esplorazione degli ID"
   ]
  },
  {
   "cell_type": "markdown",
   "id": "263e17a6-45ba-4ceb-8ff3-67f1ad19a203",
   "metadata": {},
   "source": [
    "#### 1.3.8.1 funzioni utili per trattare gli ID"
   ]
  },
  {
   "cell_type": "code",
   "execution_count": 67,
   "id": "35bf464d-aafe-4cb9-a511-83bcca7b427b",
   "metadata": {},
   "outputs": [],
   "source": [
    "# Funzione per contare gli ID non utilizzabili (<= 0)\n",
    "count_non_usable_ids <- function(id_column) {\n",
    "  \n",
    "  # Conto gli ID <= 0\n",
    "  non_usable_count <- sum(id_column <= 0, na.rm = TRUE)\n",
    "  column_name <- deparse(substitute(id_column))  # Ottieni il nome della colonna\n",
    "  return(paste(\"Nella colonna '\", column_name, \"', ci sono \", non_usable_count, \n",
    "               \" ID che non sono utilizzabili (<= 0).\", sep = \"\"))\n",
    "}\n",
    "\n",
    "# Funzione per verificare se gli ID sono unici e contare i duplicati\n",
    "check_unique_ids <- function(id_column) {\n",
    "  # Controllo che la colonna sia numerica o carattere\n",
    "  if (!is.numeric(id_column) && !is.character(id_column)) {\n",
    "    stop(\"La colonna degli ID deve essere numerica o di tipo carattere.\")\n",
    "  }\n",
    "  \n",
    "  # Calcolo il numero di duplicati\n",
    "  duplicates <- id_column[duplicated(id_column)]  # Trova i duplicati\n",
    "  duplicate_count <- length(duplicates)  # Conta i duplicati\n",
    "  \n",
    "  # Verifico l'unicità\n",
    "  is_unique <- duplicate_count == 0\n",
    "  column_name <- deparse(substitute(id_column))  # Ottieni il nome della colonna\n",
    "  \n",
    "  if (is_unique) {\n",
    "    return(paste(\"Tutti gli ID nella colonna '\", column_name, \"' sono unici.\", sep = \"\"))\n",
    "  } else {\n",
    "    return(paste(\"Nella colonna '\", column_name, \"', ci sono ID duplicati: \", duplicate_count, \".\", sep = \"\"))\n",
    "  }\n",
    "}\n",
    "\n",
    "\n",
    "# Funzione per verificare se gli ID di una colonna compaiono in un'altra\n",
    "check_ids_in_other_column <- function(id_column1, id_column2) {\n",
    "  # Controllo che entrambe le colonne siano di tipo numerico o carattere\n",
    "  if (!is.numeric(id_column1) && !is.character(id_column1)) {\n",
    "    stop(\"La prima colonna degli ID deve essere numerica o di tipo carattere.\")\n",
    "  }\n",
    "  \n",
    "  if (!is.numeric(id_column2) && !is.character(id_column2)) {\n",
    "    stop(\"La seconda colonna degli ID deve essere numerica o di tipo carattere.\")\n",
    "  }\n",
    "  \n",
    "  # Rimuovo gli ID non validi (<= 0) da entrambe le colonne\n",
    "  valid_id_column1 <- id_column1[id_column1 > 0]\n",
    "  valid_id_column2 <- id_column2[id_column2 > 0]\n",
    "  \n",
    "  # Verifico se ci sono ID in valid_id_column2 che non sono in valid_id_column1\n",
    "  not_in_first <- valid_id_column2[!(valid_id_column2 %in% valid_id_column1)]\n",
    "  \n",
    "  column1_name <- deparse(substitute(id_column1))  # Ottiengo il nome della prima colonna\n",
    "  column2_name <- deparse(substitute(id_column2))  # Ottiengo il nome della seconda colonna\n",
    "  \n",
    "  if (length(not_in_first) == 0) {\n",
    "    return(paste(\"Tutti gli ID della colonna '\", column2_name, \"' sono presenti nella colonna '\", column1_name, \"'.\", sep = \"\"))\n",
    "  } else {\n",
    "    return(paste(\"Nella colonna '\", column2_name, \"', ci sono \", length(not_in_first), \" ID che non sono presenti nella colonna '\", column1_name, \"'.\", sep = \"\"))\n",
    "  }\n",
    "}\n",
    "\n"
   ]
  },
  {
   "cell_type": "code",
   "execution_count": 69,
   "id": "d0308a1a-f460-48eb-b38f-124ee8caca68",
   "metadata": {},
   "outputs": [
    {
     "name": "stdout",
     "output_type": "stream",
     "text": [
      "[1] \"Nella colonna 'userid', ci sono 0 ID che non sono utilizzabili (<= 0).\"\n",
      "[1] \"Nella colonna 'tweetid', ci sono 0 ID che non sono utilizzabili (<= 0).\"\n",
      "[1] \"Nella colonna 'original_tweet_id', ci sono 20903 ID che non sono utilizzabili (<= 0).\"\n",
      "[1] \"Nella colonna 'in_reply_to_user_id', ci sono 72633 ID che non sono utilizzabili (<= 0).\"\n",
      "[1] \"Nella colonna 'quoted_status_id', ci sono 70470 ID che non sono utilizzabili (<= 0).\"\n",
      "[1] \"Nella colonna 'original_tweet_userid', ci sono 20903 ID che non sono utilizzabili (<= 0).\"\n",
      "[1] \"Nella colonna 'quoted_status_userid', ci sono 74922 ID che non sono utilizzabili (<= 0).\"\n",
      "[1] \"Nella colonna 'tweetid', ci sono ID duplicati: 1.\"\n",
      "[1] \"Nella colonna 'in_reply_to_user_id', ci sono 3331 ID che non sono presenti nella colonna 'userid'.\"\n",
      "[1] \"Nella colonna 'original_tweet_userid', ci sono 15056 ID che non sono presenti nella colonna 'userid'.\"\n",
      "[1] \"Nella colonna 'quoted_status_userid', ci sono 1998 ID che non sono presenti nella colonna 'userid'.\"\n",
      "[1] \"Nella colonna 'original_tweet_id', ci sono 53126 ID che non sono presenti nella colonna 'tweetid'.\"\n"
     ]
    }
   ],
   "source": [
    "# Estrazione delle colonne ID come variabili separate\n",
    "userid <- df_sample$userid\n",
    "tweetid <- df_sample$tweetid\n",
    "original_tweet_id <- df_sample$original_tweet_id\n",
    "in_reply_to_user_id <- df_sample$in_reply_to_user_id\n",
    "quoted_status_id <- df_sample$quoted_status_id\n",
    "original_tweet_userid <- df_sample$original_tweet_userid\n",
    "quoted_status_userid <- df_sample$quoted_status_userid\n",
    "\n",
    "# Verifico valori non utilizzabili per tutti gli ID\n",
    "non_usable_userid <- count_non_usable_ids(userid)\n",
    "non_usable_tweetid <- count_non_usable_ids(tweetid)\n",
    "non_usable_original_tweet_id <- count_non_usable_ids(original_tweet_id)\n",
    "non_usable_in_reply_to_user_id <- count_non_usable_ids(in_reply_to_user_id)\n",
    "non_usable_quoted_status_id <- count_non_usable_ids(quoted_status_id)\n",
    "non_usable_original_tweet_userid <- count_non_usable_ids(original_tweet_userid)\n",
    "non_usable_quoted_status_userid <- count_non_usable_ids(quoted_status_userid)\n",
    "\n",
    "# Stampo i risultati\n",
    "print(non_usable_userid)\n",
    "print(non_usable_tweetid)\n",
    "print(non_usable_original_tweet_id)\n",
    "print(non_usable_in_reply_to_user_id)\n",
    "print(non_usable_quoted_status_id)\n",
    "print(non_usable_original_tweet_userid)\n",
    "print(non_usable_quoted_status_userid)\n",
    "\n",
    "# Verifico unicità di tweetid\n",
    "unicity_tweetid <- check_unique_ids(tweetid)\n",
    "print(unicity_tweetid)\n",
    "\n",
    "# Verifico compatibilità tra gli id e verificare se ci sono id pendenti\n",
    "print(check_ids_in_other_column(userid,in_reply_to_user_id))\n",
    "print(check_ids_in_other_column(userid,original_tweet_userid))\n",
    "print(check_ids_in_other_column(userid,quoted_status_userid))\n",
    "print(check_ids_in_other_column(tweetid,original_tweet_id))"
   ]
  },
  {
   "cell_type": "markdown",
   "id": "30fa3443-fc64-4b66-854b-74ce7b24c544",
   "metadata": {},
   "source": [
    "### 1.3.9 Esplorazione feature booleane"
   ]
  },
  {
   "cell_type": "code",
   "execution_count": 83,
   "id": "77de1cec-f3f0-4828-9997-1a3912482274",
   "metadata": {},
   "outputs": [
    {
     "name": "stdout",
     "output_type": "stream",
     "text": [
      "[1] \"Nella colonna 'is_retweet' ci sono 0 valori che non sono 'True' o 'False'.\"\n",
      "[1] \"Nella colonna 'is_quote_status' ci sono 0 valori che non sono 'True' o 'False'.\"\n"
     ]
    }
   ],
   "source": [
    "# Funzione per contare i valori non booleani\n",
    "count_non_boolean_values <- function(boolean_column) {\n",
    "  # Controllo se la colonna è un fattore\n",
    "  if (!is.factor(boolean_column) && !is.character(boolean_column)) {\n",
    "    stop(\"La colonna deve essere di tipo fattore o carattere.\")\n",
    "  }\n",
    "  \n",
    "  # Converto i fattori in caratteri per il confronto\n",
    "  boolean_values <- as.character(boolean_column)\n",
    "  \n",
    "  # Controllo se ci sono valori diversi da \"True\" o \"False\"\n",
    "  non_boolean_count <- sum(!(boolean_values %in% c(\"True\", \"False\")), na.rm = TRUE)\n",
    "  \n",
    "  column_name <- deparse(substitute(boolean_column))  # Ottieni il nome della colonna\n",
    "  return(paste(\"Nella colonna '\", column_name, \"' ci sono \", non_boolean_count, \n",
    "               \" valori che non sono 'True' o 'False'.\", sep = \"\"))\n",
    "}\n",
    "\n",
    "# Utilizzo della funzione per contare i valori non booleani\n",
    "is_retweet <- df_imported$is_retweet\n",
    "is_quote_status <- df_imported$is_quote_status\n",
    "\n",
    "# Conto e stampa i risultati per is_retweet\n",
    "result_retweet <- count_non_boolean_values(is_retweet)\n",
    "print(result_retweet)\n",
    "\n",
    "# Conto e stampa i risultati per is_quote_status\n",
    "result_quote <- count_non_boolean_values(is_quote_status)\n",
    "print(result_quote)\n"
   ]
  },
  {
   "cell_type": "markdown",
   "id": "1da29c81-9ee4-4663-86f3-bbd002cdd31e",
   "metadata": {},
   "source": [
    "### 1.3.10 Esplorazione sentiment"
   ]
  },
  {
   "cell_type": "code",
   "execution_count": 85,
   "id": "3f986b49-23bf-4c71-ab80-26c071ee3c3a",
   "metadata": {},
   "outputs": [
    {
     "name": "stdout",
     "output_type": "stream",
     "text": [
      "[1] \"Nella colonna 'sentiment' ci sono 0 valori che non sono 'neu', 'neg' o 'pos'.\"\n"
     ]
    }
   ],
   "source": [
    "# Funzione per contare i valori non conformi nel sentimento\n",
    "count_non_conforming_sentiment <- function(sentiment_column) {\n",
    "  # Controllo se la colonna è di tipo fattore o carattere\n",
    "  if (!is.factor(sentiment_column) && !is.character(sentiment_column)) {\n",
    "    stop(\"La colonna deve essere di tipo fattore o carattere.\")\n",
    "  }\n",
    "  \n",
    "  # Converto i fattori in caratteri per il confronto\n",
    "  sentiment_values <- as.character(sentiment_column)\n",
    "  \n",
    "  # Possibili valori validi\n",
    "  valid_values <- c(\"neu\", \"neg\", \"pos\")\n",
    "  \n",
    "  # Conto i valori non conformi\n",
    "  non_conforming_count <- sum(!(sentiment_values %in% valid_values), na.rm = TRUE)\n",
    "  \n",
    "  column_name <- deparse(substitute(sentiment_column))  # Ottieni il nome della colonna\n",
    "  return(paste(\"Nella colonna '\", column_name, \"' ci sono \", non_conforming_count, \n",
    "               \" valori che non sono 'neu', 'neg' o 'pos'.\", sep = \"\"))\n",
    "}\n",
    "\n",
    "# Utilizzo della funzione per contare i valori non conformi nella colonna sentiment\n",
    "sentiment <- df_imported$sentiment\n",
    "result_sentiment <- count_non_conforming_sentiment(sentiment)\n",
    "print(result_sentiment)\n"
   ]
  }
 ],
 "metadata": {
  "kernelspec": {
   "display_name": "R",
   "language": "R",
   "name": "ir"
  },
  "language_info": {
   "codemirror_mode": "r",
   "file_extension": ".r",
   "mimetype": "text/x-r-source",
   "name": "R",
   "pygments_lexer": "r",
   "version": "4.1.3"
  }
 },
 "nbformat": 4,
 "nbformat_minor": 5
}
