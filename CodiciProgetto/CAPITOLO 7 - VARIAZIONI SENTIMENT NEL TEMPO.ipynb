{
 "cells": [
  {
   "cell_type": "markdown",
   "id": "d7ed2a80-8f23-4a56-9e6e-746605ced0ea",
   "metadata": {},
   "source": [
    "### Caricamenti delle funzioni"
   ]
  },
  {
   "cell_type": "code",
   "execution_count": 2,
   "id": "e22b1cec-4d62-4d05-bb76-99500c0392bb",
   "metadata": {},
   "outputs": [
    {
     "name": "stdout",
     "output_type": "stream",
     "text": [
      "Funzioni caricate con successo"
     ]
    }
   ],
   "source": [
    "source(\"../RuntimEnviroment/my_function.R\")"
   ]
  },
  {
   "cell_type": "markdown",
   "id": "2ae2b534-cde3-4bfb-904b-58ed17b1c689",
   "metadata": {},
   "source": [
    "### Caricamento dataset"
   ]
  },
  {
   "cell_type": "code",
   "execution_count": 3,
   "id": "e3412039-1bd7-4944-bbee-c8bc93eb7482",
   "metadata": {},
   "outputs": [
    {
     "name": "stdout",
     "output_type": "stream",
     "text": [
      "Il file è stato trovato: ../Dataset/Sentiment_en_tweet_2023.csv \n",
      "Contenuto del file CSV:\n",
      "        userid        username\n",
      "1 2.224061e+07   AlArabiya_Eng\n",
      "2 1.252283e+08     apple2hotel\n",
      "3 1.365269e+18 TerryTheTipste1\n",
      "4 1.295405e+18 MayadeenEnglish\n",
      "5 1.508116e+18   FloranceOlman\n",
      "6 1.616511e+18  NUHerbalHealth\n",
      "                                                                                                                                                   acctdesc\n",
      "1                                                                                             The Arab worldâ\\200\\231s leading source of global news and opinion.\n",
      "2                                    Travel bookings can be made online through a travel  website through a traditional travel agent.\\n#travel #travelbuddy\n",
      "3            Sports Nut, Tipping Enthusiast. 80s music addict who loves betting on horses and all sport. Follow for FREE Betting Tips on variety of Sports.\n",
      "4                                                                                                  The official Twitter page of Al Mayadeen English Website\n",
      "5                                                  ð\\235\\231\\201ð\\235\\231\\215ð\\235\\231\\200ð\\235\\231\\200 ð\\235\\231Žð\\235\\231‹ð\\235\\231„ð\\235\\231‰ð\\235\\231Ž ð\\235\\230¾ð\\235\\231Šð\\235\\231„ð\\235\\231‰ ð\\235\\231\\210ð\\235\\230¼ð\\235\\231Žð\\235\\231\\217ð\\235\\231\\200ð\\235\\231\\215\\nhttps://t.co/tXeaFea755\n",
      "6 Nu Herbal Health is a herbal supplement company based in Atlanta, \\nGeorgia. Our focus is to supplement our customers with products \\nthat will help them\n",
      "                  location following followers totaltweets       usercreatedts\n",
      "1                    Dubai        46    927188      337714 2009-02-28 08:31:32\n",
      "2 United States of America        93        36         335 2010-03-22 04:00:31\n",
      "3             South Africa      4122      1973       23131 2021-02-26 11:55:09\n",
      "4                                  7     18833       40331 2020-08-17 17:01:18\n",
      "5                                 75     29350        8148 2022-03-27 16:20:00\n",
      "6            United States         9         1          18 2023-01-20 19:00:51\n",
      "      tweetid      tweetcreatedts retweetcount\n",
      "1 1.62927e+18 2023-02-25 00:00:01            2\n",
      "2 1.62927e+18 2023-02-25 00:00:01            0\n",
      "3 1.62927e+18 2023-02-25 00:00:01            0\n",
      "4 1.62927e+18 2023-02-25 00:00:01            4\n",
      "5 1.62927e+18 2023-02-25 00:00:02            0\n",
      "6 1.62927e+18 2023-02-25 00:00:02            0\n",
      "                                                                                                                                                                                                                                                                                                                      text\n",
      "1                                        ICYMI: Former Russian President Dmitry Medvedev says that the only way for #Moscow to ensure a lasting peace with Ukraine was to push back the borders of hostile states as far as possible, even if that meant the frontiers of #NATO member #Poland.\\n\\nhttps://t.co/X6UUkw4rbx\n",
      "2                                                                                                                                                                                                     Explore the History and Culture of Moskva, Russia.\\n#Moskva #Russia\\nhttps://t.co/gqFzH951af https://t.co/dz55XUPOxa\n",
      "3                                                                                   NHL\\nWINNIPEG JETS 1.41\\nbeat\\nCOLORADO AVALANCHE\\nHollywoodbets https://t.co/8oX1W4SWBY    \\n\\n#Gamblingtwitter #BNB #ETH #Bitcoin #BTC #loveisland #BBTaitans #Crypto #Horses #NFT #Ukraine #Russia  #sports https://t.co/CcqrLJ5NUA\n",
      "4                                                                                         On the one-year anniversary of the start of the #Ukraine war, #French right-wing leader Marine Le Pen suggested in a letter that her country should host a peace conference between Ukraine and #Russia. https://t.co/hqKhUpMjC1\n",
      "5 GIVEAWAY Free 125K Spins ðŸŽ‰\\nIt's 100% working\\n\\n1- Comment ( spin )\\n2- Retweet Post\\n3- Like\\n4- Collect Here:  https://t.co/hUJNUZk4j3\\n\\n#coinmaster #coinmasterfreespins #coinmasterfreespinslink #CoinMasterspins #coinmasterofficial #coinmasters #coinmasterrewards #USA #uk #Germany https://t.co/EMdsaFu0RJ\n",
      "6               Optimize is synthesized utilizing grass-fed collagen peptides from healthy cows and provides nutrient-rich type I and III collagen peptides.\\nShop Now: https://t.co/xaDTMwK4cE\\n#heartattack #UkraineRussianWar #Pikachu #NewCoke #NewCoke #Pikachu #health #healthfoodie #health https://t.co/ny82tMoM0G\n",
      "                                                                                                                                                                                                                                                                                                                                                                                                                                                                                                                                                                              hashtags\n",
      "1                                                                                                                                                                                                                                                                                                                                                                                                                                                        [{'text': 'Moscow', 'indices': [75, 82]}, {'text': 'NATO', 'indices': [225, 230]}, {'text': 'Poland', 'indices': [238, 245]}]\n",
      "2                                                                                                                                                                                                                                                                                                                                                                                                                                                                                                   [{'text': 'Moskva', 'indices': [51, 58]}, {'text': 'Russia', 'indices': [59, 66]}]\n",
      "3 [{'text': 'Gamblingtwitter', 'indices': [90, 106]}, {'text': 'BNB', 'indices': [107, 111]}, {'text': 'ETH', 'indices': [112, 116]}, {'text': 'Bitcoin', 'indices': [117, 125]}, {'text': 'BTC', 'indices': [126, 130]}, {'text': 'loveisland', 'indices': [131, 142]}, {'text': 'BBTaitans', 'indices': [143, 153]}, {'text': 'Crypto', 'indices': [154, 161]}, {'text': 'Horses', 'indices': [162, 169]}, {'text': 'NFT', 'indices': [170, 174]}, {'text': 'Ukraine', 'indices': [175, 183]}, {'text': 'Russia', 'indices': [184, 191]}, {'text': 'sports', 'indices': [193, 200]}]\n",
      "4                                                                                                                                                                                                                                                                                                                                                                                                                                                       [{'text': 'Ukraine', 'indices': [48, 56]}, {'text': 'French', 'indices': [62, 69]}, {'text': 'Russia', 'indices': [192, 199]}]\n",
      "5                                                                      [{'text': 'coinmaster', 'indices': [133, 144]}, {'text': 'coinmasterfreespins', 'indices': [145, 165]}, {'text': 'coinmasterfreespinslink', 'indices': [166, 190]}, {'text': 'CoinMasterspins', 'indices': [191, 207]}, {'text': 'coinmasterofficial', 'indices': [208, 227]}, {'text': 'coinmasters', 'indices': [228, 240]}, {'text': 'coinmasterrewards', 'indices': [241, 259]}, {'text': 'USA', 'indices': [260, 264]}, {'text': 'uk', 'indices': [265, 268]}, {'text': 'Germany', 'indices': [269, 277]}]\n",
      "6                                                                                                                                                        [{'text': 'heartattack', 'indices': [175, 187]}, {'text': 'UkraineRussianWar', 'indices': [188, 206]}, {'text': 'Pikachu', 'indices': [207, 215]}, {'text': 'NewCoke', 'indices': [216, 224]}, {'text': 'NewCoke', 'indices': [225, 233]}, {'text': 'Pikachu', 'indices': [234, 242]}, {'text': 'health', 'indices': [243, 250]}, {'text': 'healthfoodie', 'indices': [251, 264]}, {'text': 'health', 'indices': [265, 272]}]\n",
      "  language coordinates favorite_count is_retweet original_tweet_id\n",
      "1       en                          4      False                 0\n",
      "2       en                          0      False                 0\n",
      "3       en                          3      False                 0\n",
      "4       en                          4      False                 0\n",
      "5       en                          0      False                 0\n",
      "6       en                          0      False                 0\n",
      "  original_tweet_userid original_tweet_username in_reply_to_status_id\n",
      "1                     0                                             0\n",
      "2                     0                                             0\n",
      "3                     0                                             0\n",
      "4                     0                                             0\n",
      "5                     0                                             0\n",
      "6                     0                                             0\n",
      "  in_reply_to_user_id in_reply_to_screen_name is_quote_status quoted_status_id\n",
      "1                   0                                   False                0\n",
      "2                   0                                   False                0\n",
      "3                   0                                   False                0\n",
      "4                   0                                   False                0\n",
      "5                   0                                   False                0\n",
      "6                   0                                   False                0\n",
      "  quoted_status_userid quoted_status_username                extractedts\n",
      "1                    0                        2023-02-25 04:10:46.294831\n",
      "2                    0                        2023-02-25 04:35:32.939981\n",
      "3                    0                        2023-02-25 04:35:32.930885\n",
      "4                    0                        2023-02-25 04:35:32.912346\n",
      "5                    0                        2023-02-25 00:36:59.975706\n",
      "6                    0                        2023-02-25 07:05:49.179112\n",
      "  sentiment     score\n",
      "1       neu 0.4416097\n",
      "2       neu 0.8274779\n",
      "3       neu 0.8024696\n",
      "4       neu 0.5783824\n",
      "5       neu 0.7964669\n",
      "6       neu 0.5695367\n"
     ]
    }
   ],
   "source": [
    "df <- load_csv_file(\"../Dataset/Sentiment_en_tweet_2023.csv\")"
   ]
  },
  {
   "cell_type": "markdown",
   "id": "0bfbd0fa-d016-4523-9c87-74d1e4270463",
   "metadata": {},
   "source": [
    "# 1 Analisi di 'score'"
   ]
  },
  {
   "cell_type": "code",
   "execution_count": 10,
   "id": "72217ba0-1e49-483c-9a5e-ddf97b89c547",
   "metadata": {},
   "outputs": [],
   "source": [
    "# Filtro il dataset per sentiment = \"neu\" e calcola gli indici di sintesi per la feature \"score\"\n",
    "df_neu <- df[df$sentiment == \"neu\", ]\n",
    "# Filtro il dataset per sentiment = \"neg\" e calcola gli indici di sintesi per la feature \"score\"\n",
    "df_neg <- df[df$sentiment == \"neg\", ]\n",
    "# Filtro il dataset per sentiment = \"pos\" e calcola gli indici di sintesi per la feature \"score\"\n",
    "df_pos <- df[df$sentiment == \"pos\", ]"
   ]
  },
  {
   "cell_type": "code",
   "execution_count": 56,
   "id": "b2f87c0f-f5f7-4423-ac53-5a59d3f93244",
   "metadata": {},
   "outputs": [
    {
     "name": "stdout",
     "output_type": "stream",
     "text": [
      "\n",
      "Indici di sintesi per il sentiment 'neu':\n",
      "\n",
      "Indici di sintesi per la colonna: score \n",
      "-----------------------------------\n",
      "Minimo : 0.3334608 \n",
      "Massimo : 0.9359589 \n",
      "Media : 0.5901491 \n",
      "Mediana : 0.5753816 \n",
      "Varianza : 0.01718516 \n",
      "Deviazione_Standard : 0.1310922 \n",
      "Range : 0.602498 \n",
      "Quartile_1 : 0.4872291 \n",
      "Quartile_3 : 0.6871927 \n",
      "\n",
      "Indici di sintesi per il sentiment 'neg':\n",
      "\n",
      "Indici di sintesi per la colonna: score \n",
      "-----------------------------------\n",
      "Minimo : 0.3369945 \n",
      "Massimo : 0.966978 \n",
      "Media : 0.7561572 \n",
      "Mediana : 0.8125669 \n",
      "Varianza : 0.02557712 \n",
      "Deviazione_Standard : 0.1599285 \n",
      "Range : 0.6299835 \n",
      "Quartile_1 : 0.6441814 \n",
      "Quartile_3 : 0.8871366 \n",
      "\n",
      "Indici di sintesi per il sentiment 'pos':\n",
      "\n",
      "Indici di sintesi per la colonna: score \n",
      "-----------------------------------\n",
      "Minimo : 0.3343884 \n",
      "Massimo : 0.9488874 \n",
      "Media : 0.5957266 \n",
      "Mediana : 0.5780436 \n",
      "Varianza : 0.02124255 \n",
      "Deviazione_Standard : 0.1457482 \n",
      "Range : 0.614499 \n",
      "Quartile_1 : 0.4728078 \n",
      "Quartile_3 : 0.7197133 \n"
     ]
    }
   ],
   "source": [
    "cat(\"\\nIndici di sintesi per il sentiment 'neu':\\n\")\n",
    "sintesi_feature(df_neu, \"score\")\n",
    "\n",
    "cat(\"\\nIndici di sintesi per il sentiment 'neg':\\n\")\n",
    "sintesi_feature(df_neg, \"score\")\n",
    "\n",
    "cat(\"\\nIndici di sintesi per il sentiment 'pos':\\n\")\n",
    "sintesi_feature(df_pos, \"score\")"
   ]
  },
  {
   "cell_type": "code",
   "execution_count": 57,
   "id": "a8b6d9fc-4258-421a-a4c2-e7b7f85dd65c",
   "metadata": {},
   "outputs": [
    {
     "name": "stdout",
     "output_type": "stream",
     "text": [
      "Grafico della distribuzione generato per: score \n"
     ]
    },
    {
     "data": {
      "image/png": "[encoded data removed]",
      "text/plain": [
       "Plot with title \"Distribuzione di score\""
      ]
     },
     "metadata": {
      "image/png": {
       "height": 420,
       "width": 420
      }
     },
     "output_type": "display_data"
    },
    {
     "name": "stdout",
     "output_type": "stream",
     "text": [
      "Grafico della distribuzione generato per: score \n"
     ]
    },
    {
     "data": {
      "image/png": "[encoded data removed]",
      "text/plain": [
       "Plot with title \"Distribuzione di score\""
      ]
     },
     "metadata": {
      "image/png": {
       "height": 420,
       "width": 420
      }
     },
     "output_type": "display_data"
    },
    {
     "name": "stdout",
     "output_type": "stream",
     "text": [
      "Grafico della distribuzione generato per: score \n"
     ]
    },
    {
     "data": {
      "image/png": "[encoded data removed]",
      "text/plain": [
       "Plot with title \"Distribuzione di score\""
      ]
     },
     "metadata": {
      "image/png": {
       "height": 420,
       "width": 420
      }
     },
     "output_type": "display_data"
    }
   ],
   "source": [
    "disegna_hist(df_neu, \"score\")\n",
    "disegna_hist(df_neg, \"score\")\n",
    "disegna_hist(df_pos, \"score\")"
   ]
  },
  {
   "cell_type": "code",
   "execution_count": 38,
   "id": "81fa767b-d774-4157-b23e-d376057d210e",
   "metadata": {},
   "outputs": [
    {
     "name": "stdout",
     "output_type": "stream",
     "text": [
      "Grafico Boxplot generato per: score \n"
     ]
    },
    {
     "data": {
      "image/png": "[encoded data removed]",
      "text/plain": [
       "Plot with title \"Boxplot Orizzontale per score\""
      ]
     },
     "metadata": {
      "image/png": {
       "height": 420,
       "width": 420
      }
     },
     "output_type": "display_data"
    }
   ],
   "source": [
    "disegna_boxplot(df, \"score\")"
   ]
  },
  {
   "cell_type": "markdown",
   "id": "d8b49b96-f868-4daa-9afb-194716ae02b8",
   "metadata": {},
   "source": [
    "# 2 Relazione tra 'score' e 'sentiment'"
   ]
  },
  {
   "cell_type": "code",
   "execution_count": 39,
   "id": "ec1beead-1485-4eb4-94c1-47dad518a4fb",
   "metadata": {},
   "outputs": [
    {
     "name": "stdout",
     "output_type": "stream",
     "text": [
      "\n",
      "   neg    neu    pos \n",
      "467532 208415 100642 \n"
     ]
    }
   ],
   "source": [
    "# Contare il numero di occorrenze per ciascun valore di sentiment\n",
    "frequenze_sentiment <- table(df$sentiment)\n",
    "\n",
    "# Stampo il risultato\n",
    "print(frequenze_sentiment)"
   ]
  },
  {
   "cell_type": "code",
   "execution_count": 40,
   "id": "7876c0fe-ceab-44ce-b9e8-af9cefa9fbb0",
   "metadata": {},
   "outputs": [
    {
     "name": "stdout",
     "output_type": "stream",
     "text": [
      "Boxplot generato per la relazione tra score e sentiment \n"
     ]
    },
    {
     "data": {
      "image/png": "[encoded data removed]",
      "text/plain": [
       "Plot with title \"Distribuzione di score per sentiment\""
      ]
     },
     "metadata": {
      "image/png": {
       "height": 420,
       "width": 420
      }
     },
     "output_type": "display_data"
    }
   ],
   "source": [
    "disegna_boxplot_relazione(df, \"score\",\"sentiment\")"
   ]
  },
  {
   "cell_type": "markdown",
   "id": "8b972482-873c-40ec-bd28-1a2fbe638c83",
   "metadata": {},
   "source": [
    "### 2.1 Correlazione con cor()"
   ]
  },
  {
   "cell_type": "code",
   "execution_count": 44,
   "id": "f031ebab-6db6-4949-99d3-c0f9cc8bf206",
   "metadata": {},
   "outputs": [
    {
     "name": "stdout",
     "output_type": "stream",
     "text": [
      "Correlazione tra score e sentiment: 0.4238134 \n"
     ]
    }
   ],
   "source": [
    "# Trasformare il sentiment in variabili numeriche\n",
    "df$sentiment_numeric <- factor(df$sentiment, levels = c(\"pos\", \"neu\", \"neg\"), labels = c(1, 2, 3))\n",
    "\n",
    "# Calcolare la correlazione tra score e sentiment numerico\n",
    "correlazione <- cor(df$score, as.numeric(df$sentiment_numeric))\n",
    "\n",
    "# Stampo della correlazione\n",
    "cat(\"Correlazione tra score e sentiment:\", correlazione, \"\\n\")"
   ]
  },
  {
   "cell_type": "markdown",
   "id": "eecbe383-d2fa-415a-9932-c0b396cb1f36",
   "metadata": {},
   "source": [
    "### 2.2 Correlazione con Cramer’s V"
   ]
  },
  {
   "cell_type": "code",
   "execution_count": 50,
   "id": "b046e4a8-efa3-42b5-b657-d8b4ab23da24",
   "metadata": {},
   "outputs": [
    {
     "name": "stderr",
     "output_type": "stream",
     "text": [
      "si installa anche la dipendenza 'lmtest'\n",
      "\n",
      "\n"
     ]
    },
    {
     "name": "stdout",
     "output_type": "stream",
     "text": [
      "\n",
      "  C'è una versione binaria disponibile, ma la versione con le sorgenti\n",
      "  è successiva:\n",
      "    binary source needs_compilation\n",
      "vcd 1.4-11 1.4-13             FALSE\n",
      "\n",
      "package 'lmtest' successfully unpacked and MD5 sums checked\n",
      "\n",
      "The downloaded binary packages are in\n",
      "\tC:\\Users\\smike18\\AppData\\Local\\Temp\\Rtmpcpk56f\\downloaded_packages\n"
     ]
    },
    {
     "name": "stderr",
     "output_type": "stream",
     "text": [
      "installazione pacchetto sorgenti 'vcd'\n",
      "\n",
      "\n",
      "Caricamento del pacchetto richiesto: grid\n",
      "\n"
     ]
    }
   ],
   "source": [
    "# Carico il pacchetto necessario per Cramér's V\n",
    "install.packages(\"vcd\")  # Se non lo hai già installato\n",
    "library(vcd)"
   ]
  },
  {
   "cell_type": "code",
   "execution_count": 51,
   "id": "550673a2-3fb0-43b5-9808-4b217eebf4ba",
   "metadata": {},
   "outputs": [
    {
     "name": "stdout",
     "output_type": "stream",
     "text": [
      "Risultati ANOVA:\n"
     ]
    },
    {
     "data": {
      "text/plain": [
       "                Df Sum Sq Mean Sq F value Pr(>F)    \n",
       "sentiment        2   5018    2509  110225 <2e-16 ***\n",
       "Residuals   776586  17678       0                   \n",
       "---\n",
       "Signif. codes:  0 '***' 0.001 '**' 0.01 '*' 0.05 '.' 0.1 ' ' 1"
      ]
     },
     "metadata": {},
     "output_type": "display_data"
    },
    {
     "name": "stdout",
     "output_type": "stream",
     "text": [
      "Cramér's V: 0.9977126 \n",
      "Associazione forte tra le variabili.\n"
     ]
    }
   ],
   "source": [
    "# Trasformazione della variabile qualitativa in un fattore\n",
    "df$sentiment <- factor(df$sentiment, levels = c(\"pos\", \"neu\", \"neg\"))\n",
    "\n",
    "# 1. Calcolare ANOVA per testare la differenza tra le medie\n",
    "anova_result <- aov(score ~ sentiment, data = df)\n",
    "\n",
    "# 2. Visualizzare il risultato ANOVA\n",
    "cat(\"Risultati ANOVA:\\n\")\n",
    "summary(anova_result)\n",
    "\n",
    "# 3. Calcolare Cramér's V per la correlazione tra score (quantitativa) e sentiment (qualitativa)\n",
    "# Creo una tabella di contingenza tra le variabili\n",
    "table_sentiment_score <- table(df$sentiment, df$score)\n",
    "\n",
    "# Calcolare il coefficiente di Cramér's V\n",
    "cramers_v <- assocstats(table_sentiment_score)$cramer\n",
    "\n",
    "cat(\"Cramér's V:\", cramers_v, \"\\n\")\n",
    "\n",
    "# Interpretazione: Cramér's V va da 0 (nessuna associazione) a 1 (associazione forte)\n",
    "if (cramers_v < 0.1) {\n",
    "  cat(\"Associazione debole tra le variabili.\\n\")\n",
    "} else if (cramers_v >= 0.1 & cramers_v < 0.3) {\n",
    "  cat(\"Associazione moderata tra le variabili.\\n\")\n",
    "} else {\n",
    "  cat(\"Associazione forte tra le variabili.\\n\")\n",
    "}"
   ]
  },
  {
   "cell_type": "markdown",
   "id": "cef78016-6ade-40e3-aaac-54709f4c5eb6",
   "metadata": {},
   "source": [
    "# 3 Soglia utilizzando i percentili"
   ]
  },
  {
   "cell_type": "code",
   "execution_count": 3,
   "id": "e7f39f42-d8e4-46e5-b4b6-a8b4d65465ca",
   "metadata": {},
   "outputs": [
    {
     "name": "stdout",
     "output_type": "stream",
     "text": [
      "Percentili 75° per ogni sentiment:\n",
      "      neg       neu       pos \n",
      "0.8871366 0.6871927 0.7197133 \n",
      "\n",
      "Classificazione dei sentimenti:\n"
     ]
    },
    {
     "data": {
      "text/plain": [
       "\n",
       "    Attendibile Non Attendibile \n",
       "         194187          582402 "
      ]
     },
     "metadata": {},
     "output_type": "display_data"
    }
   ],
   "source": [
    "# Creo una copia del dataframe\n",
    "df_att <- df\n",
    "\n",
    "# Converto il sentiment in numerico se non lo è già\n",
    "df_att$sentiment_numeric <- factor(df_att$sentiment, levels = c(\"pos\", \"neu\", \"neg\"), labels = c(1, 2, 3))\n",
    "\n",
    "# Calcolare il 75° percentile per ogni categoria di sentiment\n",
    "percentili <- tapply(df_att$score, df_att$sentiment, function(x) quantile(x, 0.75))\n",
    "\n",
    "# Visualizzo i percentili per ogni sentiment\n",
    "cat(\"Percentili 75° per ogni sentiment:\\n\")\n",
    "print(percentili)\n",
    "\n",
    "# Classificare i valori come attendibili o non attendibili in base al quantile di ciascuna categoria di sentiment\n",
    "df_att$sentiment_attendibile <- mapply(function(score, sentiment) {\n",
    "  quantile_val <- percentili[sentiment]  # Recupero il 75° percentile per il sentiment specifico\n",
    "  if (score >= quantile_val) {\n",
    "    return(\"Attendibile\")\n",
    "  } else {\n",
    "    return(\"Non Attendibile\")\n",
    "  }\n",
    "}, df_att$score, df_att$sentiment)\n",
    "\n",
    "# Visualizzare i risultati\n",
    "cat(\"\\nClassificazione dei sentimenti:\\n\")\n",
    "table(df_att$sentiment_attendibile)\n"
   ]
  },
  {
   "cell_type": "markdown",
   "id": "da0790ff-020a-4974-bd74-897b1d7abff0",
   "metadata": {},
   "source": [
    "# 4 Serie temporale dei sentimenti"
   ]
  },
  {
   "cell_type": "code",
   "execution_count": 18,
   "id": "3151b82d-baa8-45a4-8309-2ce819312f0d",
   "metadata": {},
   "outputs": [],
   "source": [
    "# Funzione per disegnare il grafico dei sentiment\n",
    "disegna_sentiment <- function(dff) {\n",
    "    \n",
    "    dff$tweetcreatedts <- as.POSIXct(dff$tweetcreatedts, format=\"%Y-%m-%d %H:%M:%S\")\n",
    "    \n",
    "    # Carico la libreria 'lubridate' per gestire facilmente la data\n",
    "    library(lubridate)\n",
    "    \n",
    "    # Raggruppo i dati per sentiment e ora\n",
    "    grouped <- dff %>%\n",
    "        mutate(hour = floor_date(tweetcreatedts, \"hour\")) %>%  # Raggruppa per ora\n",
    "        group_by(hour, sentiment) %>%\n",
    "        summarise(count = n(), .groups = \"drop\")  # Conto i tweet per ora e sentiment\n",
    "    \n",
    "    # Creo il grafico\n",
    "    ggplot(grouped, aes(x = hour, y = count, color = sentiment, group = sentiment)) +\n",
    "        geom_line(linewidth = 1) +  # Linea che connette i punti\n",
    "        geom_point(size = 2) +      # Punti per ogni dato\n",
    "        labs(\n",
    "            title = \"Andamento temporale dei sentimenti nei tweet\",\n",
    "            x = \"Ora\",\n",
    "            y = \"Numero di tweet\",\n",
    "            color = \"Sentiment\"\n",
    "        ) +\n",
    "        theme_minimal(base_size = 14) +\n",
    "        theme(axis.text.x = element_text(angle = 45, hjust = 1))\n",
    "}"
   ]
  },
  {
   "cell_type": "markdown",
   "id": "5110ab86-6e22-4c0b-9678-0e85407887dd",
   "metadata": {},
   "source": [
    "## 4.1 Considerando tutti i sentiment"
   ]
  },
  {
   "cell_type": "code",
   "execution_count": 19,
   "id": "a0caa79f-67a0-423b-a76c-c6c05ba460ae",
   "metadata": {},
   "outputs": [
    {
     "data": {
      "image/png": "[encoded data removed]",
      "text/plain": [
       "plot without title"
      ]
     },
     "metadata": {
      "image/png": {
       "height": 420,
       "width": 420
      }
     },
     "output_type": "display_data"
    }
   ],
   "source": [
    "# Carico i pacchetti necessari\n",
    "library(ggplot2)\n",
    "library(dplyr)\n",
    "library(lubridate)\n",
    "\n",
    "disegna_sentiment(df);"
   ]
  },
  {
   "cell_type": "markdown",
   "id": "917bf60f-3d42-49f2-bd08-33b97b07a92a",
   "metadata": {},
   "source": [
    "## 4.2 Considerando solo i sentiment attendibili"
   ]
  },
  {
   "cell_type": "code",
   "execution_count": 20,
   "id": "09f4aed3-3d1d-43bc-826e-9993e2fcab1c",
   "metadata": {},
   "outputs": [
    {
     "data": {
      "image/png": "[encoded data removed]",
      "text/plain": [
       "plot without title"
      ]
     },
     "metadata": {
      "image/png": {
       "height": 420,
       "width": 420
      }
     },
     "output_type": "display_data"
    }
   ],
   "source": [
    "# Carico i pacchetti necessari\n",
    "library(ggplot2)\n",
    "library(dplyr)\n",
    "library(lubridate)\n",
    "\n",
    "#Ottengo solo le istanze attendibili di sentiment\n",
    "df_att_copy <- df_att[df_att$sentiment_attendibile == \"Attendibile\", ]\n",
    "\n",
    "# str(df_att_copy)\n",
    "\n",
    "disegna_sentiment(df_att_copy);"
   ]
  },
  {
   "cell_type": "markdown",
   "id": "295f9c05-a105-4c3f-bb0d-83e78b8d3b75",
   "metadata": {},
   "source": [
    "# 5 Considerazioni finali "
   ]
  },
  {
   "cell_type": "markdown",
   "id": "13004c07-8726-46a6-9eab-7d8b21617e77",
   "metadata": {},
   "source": [
    "## 5.1 analisi di tweet tra 28 e 29 Febbraio "
   ]
  },
  {
   "cell_type": "code",
   "execution_count": 24,
   "id": "ef27af67-4533-4123-a6e8-ad2a70170c9e",
   "metadata": {},
   "outputs": [
    {
     "data": {
      "text/html": [
       "<table class=\"dataframe\">\n",
       "<caption>A data.frame: 10 × 32</caption>\n",
       "<thead>\n",
       "\t<tr><th scope=col>userid</th><th scope=col>username</th><th scope=col>acctdesc</th><th scope=col>location</th><th scope=col>following</th><th scope=col>followers</th><th scope=col>totaltweets</th><th scope=col>usercreatedts</th><th scope=col>tweetid</th><th scope=col>tweetcreatedts</th><th scope=col>...</th><th scope=col>in_reply_to_screen_name</th><th scope=col>is_quote_status</th><th scope=col>quoted_status_id</th><th scope=col>quoted_status_userid</th><th scope=col>quoted_status_username</th><th scope=col>extractedts</th><th scope=col>sentiment</th><th scope=col>score</th><th scope=col>sentiment_numeric</th><th scope=col>sentiment_attendibile</th></tr>\n",
       "\t<tr><th scope=col>&lt;dbl&gt;</th><th scope=col>&lt;chr&gt;</th><th scope=col>&lt;chr&gt;</th><th scope=col>&lt;chr&gt;</th><th scope=col>&lt;int&gt;</th><th scope=col>&lt;int&gt;</th><th scope=col>&lt;int&gt;</th><th scope=col>&lt;chr&gt;</th><th scope=col>&lt;dbl&gt;</th><th scope=col>&lt;dttm&gt;</th><th scope=col>...</th><th scope=col>&lt;chr&gt;</th><th scope=col>&lt;chr&gt;</th><th scope=col>&lt;dbl&gt;</th><th scope=col>&lt;dbl&gt;</th><th scope=col>&lt;chr&gt;</th><th scope=col>&lt;chr&gt;</th><th scope=col>&lt;chr&gt;</th><th scope=col>&lt;dbl&gt;</th><th scope=col>&lt;fct&gt;</th><th scope=col>&lt;chr&gt;</th></tr>\n",
       "</thead>\n",
       "<tbody>\n",
       "\t<tr><td>2.971004e+07</td><td>AdamTM24       </td><td>No bull. No filter. Love genre film/TV, video games, auto racing, travel, and good friends. He/Him. 30 something but 28 forever. Girl crazy.                               </td><td>Cincinnati-Dayton Metroplex    </td><td> 4552</td><td>   846</td><td> 82834</td><td>2009-04-08 13:07:10</td><td>1.630511e+18</td><td>2023-02-28 10:13:10</td><td>...</td><td></td><td>False</td><td>0</td><td>0</td><td></td><td>2023-02-28 12:46:31.079526</td><td>pos</td><td>0.5564643</td><td>1</td><td>Non Attendibile</td></tr>\n",
       "\t<tr><td>1.343193e+18</td><td>GDolfan        </td><td>ð“œð“²ð“ªð“¶ð“² ð““ð“¸ð“µð“¹ð“±ð“²ð“·ð“¼ ð““ð“²ð“® ð“—ð“ªð“»ð“­ #TheSamoanSniper                                                                       </td><td>Baden-WÃ¼rttemberg, Deutschland</td><td>  479</td><td>   327</td><td>  1485</td><td>2020-12-27 13:51:17</td><td>1.630550e+18</td><td>2023-02-28 12:45:18</td><td>...</td><td></td><td>False</td><td>0</td><td>0</td><td></td><td>2023-02-28 13:48:06.728529</td><td>pos</td><td>0.4970563</td><td>1</td><td>Non Attendibile</td></tr>\n",
       "\t<tr><td>1.934644e+07</td><td>LouiseMensch   </td><td>\"Unhinged British witch\" \"a textbook succubus\"- Russian Insider\n",
       "UKRAINE LIST of great accounts to follow and RT - https://t.co/LsIOlRdm9e                                 </td><td>In Team Treasonâ€™s Head       </td><td>36606</td><td>269208</td><td>110108</td><td>2009-01-22 16:36:16</td><td>1.630586e+18</td><td>2023-02-28 15:11:07</td><td>...</td><td></td><td>False</td><td>0</td><td>0</td><td></td><td>2023-02-28 15:29:02.177035</td><td>pos</td><td>0.5193077</td><td>1</td><td>Non Attendibile</td></tr>\n",
       "\t<tr><td>1.289392e+18</td><td>Manan48176326  </td><td>                                                                                                                                                                           </td><td>                               </td><td>   77</td><td>    65</td><td> 21836</td><td>2020-08-01 02:46:05</td><td>1.630359e+18</td><td>2023-02-28 00:08:52</td><td>...</td><td></td><td>False</td><td>0</td><td>0</td><td></td><td>2023-02-28 00:46:07.374431</td><td>pos</td><td>0.4575909</td><td>1</td><td>Non Attendibile</td></tr>\n",
       "\t<tr><td>3.397869e+09</td><td>lisa_haycocks  </td><td>                                                                                                                                                                           </td><td>UK                             </td><td>  399</td><td>    98</td><td>  3889</td><td>2015-07-31 22:16:34</td><td>1.630389e+18</td><td>2023-02-28 02:06:36</td><td>...</td><td></td><td>False</td><td>0</td><td>0</td><td></td><td>2023-02-28 06:45:55.236868</td><td>pos</td><td>0.5717947</td><td>1</td><td>Non Attendibile</td></tr>\n",
       "\t<tr><td>4.160203e+09</td><td>LPincia        </td><td>il Genoa non Ã¨ solo una squadra. Per noi di Genova (quelli veri) Ã¨ una Fede. Destra,anticomunista. ðŸ‡ºðŸ‡¦ðŸŒ»ðŸŒ»ðŸŒ» No DM, non rispondo.                             </td><td>Genoa                          </td><td> 4618</td><td>  4273</td><td>448532</td><td>2015-11-11 00:43:10</td><td>1.630511e+18</td><td>2023-02-28 10:09:31</td><td>...</td><td></td><td>False</td><td>0</td><td>0</td><td></td><td>2023-02-28 11:36:46.513115</td><td>pos</td><td>0.3678044</td><td>1</td><td>Non Attendibile</td></tr>\n",
       "\t<tr><td>1.089245e+18</td><td>alanastarisborn</td><td><span style=white-space:pre-wrap>A 'CRAP ANIME PRODUCTION' IN ASSOCIATION WITH 'I CAN'T BELIEVE I'M WATCHING THIS' &amp; 'MADE ON MY PHONE MOVIES' currently #selfisolating #Viralvideos #movies                </span></td><td><span style=white-space:pre-wrap>Not Of This World              </span></td><td><span style=white-space:pre-wrap>  217</span></td><td><span style=white-space:pre-wrap>   291</span></td><td>100302</td><td>2019-01-26 19:34:26</td><td>1.630413e+18</td><td>2023-02-28 03:41:48</td><td>...</td><td></td><td>False</td><td>0</td><td>0</td><td></td><td>2023-02-28 04:45:20.130292</td><td>pos</td><td>0.4831085</td><td>1</td><td>Non Attendibile</td></tr>\n",
       "\t<tr><td>2.902523e+09</td><td>victorivasik   </td><td>                                                                                                                                                                           </td><td>                               </td><td>   22</td><td>    22</td><td> 18104</td><td>2014-11-17 09:12:21</td><td>1.630468e+18</td><td>2023-02-28 07:21:41</td><td>...</td><td></td><td>False</td><td>0</td><td>0</td><td></td><td>2023-02-28 09:46:10.313709</td><td>pos</td><td>0.5399685</td><td>1</td><td>Non Attendibile</td></tr>\n",
       "\t<tr><td>1.491023e+18</td><td>lorchan50      </td><td>ðŸ‡¨ðŸ‡¦ â¤ ðŸ‡ºðŸ‡¦  A Canadian with a heart for Ukraine! This is the way! NAFOforLife!  Supporting https://t.co/LLD9Db7qXO  https://t.co/NwMetzZzKl and @georgian_legion</td><td>Langley. Virginia              </td><td> 4952</td><td>  3509</td><td>  4936</td><td>2022-02-08 12:15:41</td><td>1.630465e+18</td><td>2023-02-28 07:07:20</td><td>...</td><td></td><td>False</td><td>0</td><td>0</td><td></td><td>2023-02-28 09:46:11.506368</td><td>pos</td><td>0.5564643</td><td>1</td><td>Non Attendibile</td></tr>\n",
       "\t<tr><td>1.288885e+18</td><td>LeonF84292221  </td><td>                                                                                                                                                                           </td><td>USA                            </td><td>  934</td><td>   213</td><td> 11008</td><td>2020-07-30 17:11:04</td><td>1.630430e+18</td><td>2023-02-28 04:48:26</td><td>...</td><td></td><td>False</td><td>0</td><td>0</td><td></td><td>2023-02-28 05:43:08.296060</td><td>pos</td><td>0.3431138</td><td>1</td><td>Non Attendibile</td></tr>\n",
       "</tbody>\n",
       "</table>\n"
      ],
      "text/latex": [
       "A data.frame: 10 × 32\n",
       "\\begin{tabular}{lllllllllllllllllllll}\n",
       " userid & username & acctdesc & location & following & followers & totaltweets & usercreatedts & tweetid & tweetcreatedts & ... & in\\_reply\\_to\\_screen\\_name & is\\_quote\\_status & quoted\\_status\\_id & quoted\\_status\\_userid & quoted\\_status\\_username & extractedts & sentiment & score & sentiment\\_numeric & sentiment\\_attendibile\\\\\n",
       " <dbl> & <chr> & <chr> & <chr> & <int> & <int> & <int> & <chr> & <dbl> & <dttm> & ... & <chr> & <chr> & <dbl> & <dbl> & <chr> & <chr> & <chr> & <dbl> & <fct> & <chr>\\\\\n",
       "\\hline\n",
       "\t 2.971004e+07 & AdamTM24        & No bull. No filter. Love genre film/TV, video games, auto racing, travel, and good friends. He/Him. 30 something but 28 forever. Girl crazy.                                & Cincinnati-Dayton Metroplex     &  4552 &    846 &  82834 & 2009-04-08 13:07:10 & 1.630511e+18 & 2023-02-28 10:13:10 & ... &  & False & 0 & 0 &  & 2023-02-28 12:46:31.079526 & pos & 0.5564643 & 1 & Non Attendibile\\\\\n",
       "\t 1.343193e+18 & GDolfan         & ð“œð“²ð“ªð“¶ð“² ð““ð“¸ð“µð“¹ð“±ð“²ð“·ð“¼ ð““ð“²ð“® ð“—ð“ªð“»ð“­ \\#TheSamoanSniper                                                                        & Baden-WÃ¼rttemberg, Deutschland &   479 &    327 &   1485 & 2020-12-27 13:51:17 & 1.630550e+18 & 2023-02-28 12:45:18 & ... &  & False & 0 & 0 &  & 2023-02-28 13:48:06.728529 & pos & 0.4970563 & 1 & Non Attendibile\\\\\n",
       "\t 1.934644e+07 & LouiseMensch    & \"Unhinged British witch\" \"a textbook succubus\"- Russian Insider\n",
       "UKRAINE LIST of great accounts to follow and RT - https://t.co/LsIOlRdm9e                                  & In Team Treasonâ€™s Head        & 36606 & 269208 & 110108 & 2009-01-22 16:36:16 & 1.630586e+18 & 2023-02-28 15:11:07 & ... &  & False & 0 & 0 &  & 2023-02-28 15:29:02.177035 & pos & 0.5193077 & 1 & Non Attendibile\\\\\n",
       "\t 1.289392e+18 & Manan48176326   &                                                                                                                                                                             &                                 &    77 &     65 &  21836 & 2020-08-01 02:46:05 & 1.630359e+18 & 2023-02-28 00:08:52 & ... &  & False & 0 & 0 &  & 2023-02-28 00:46:07.374431 & pos & 0.4575909 & 1 & Non Attendibile\\\\\n",
       "\t 3.397869e+09 & lisa\\_haycocks   &                                                                                                                                                                             & UK                              &   399 &     98 &   3889 & 2015-07-31 22:16:34 & 1.630389e+18 & 2023-02-28 02:06:36 & ... &  & False & 0 & 0 &  & 2023-02-28 06:45:55.236868 & pos & 0.5717947 & 1 & Non Attendibile\\\\\n",
       "\t 4.160203e+09 & LPincia         & il Genoa non Ã¨ solo una squadra. Per noi di Genova (quelli veri) Ã¨ una Fede. Destra,anticomunista. ðŸ‡ºðŸ‡¦ðŸŒ»ðŸŒ»ðŸŒ» No DM, non rispondo.                              & Genoa                           &  4618 &   4273 & 448532 & 2015-11-11 00:43:10 & 1.630511e+18 & 2023-02-28 10:09:31 & ... &  & False & 0 & 0 &  & 2023-02-28 11:36:46.513115 & pos & 0.3678044 & 1 & Non Attendibile\\\\\n",
       "\t 1.089245e+18 & alanastarisborn & A 'CRAP ANIME PRODUCTION' IN ASSOCIATION WITH 'I CAN'T BELIEVE I'M WATCHING THIS' \\& 'MADE ON MY PHONE MOVIES' currently \\#selfisolating \\#Viralvideos \\#movies                 & Not Of This World               &   217 &    291 & 100302 & 2019-01-26 19:34:26 & 1.630413e+18 & 2023-02-28 03:41:48 & ... &  & False & 0 & 0 &  & 2023-02-28 04:45:20.130292 & pos & 0.4831085 & 1 & Non Attendibile\\\\\n",
       "\t 2.902523e+09 & victorivasik    &                                                                                                                                                                             &                                 &    22 &     22 &  18104 & 2014-11-17 09:12:21 & 1.630468e+18 & 2023-02-28 07:21:41 & ... &  & False & 0 & 0 &  & 2023-02-28 09:46:10.313709 & pos & 0.5399685 & 1 & Non Attendibile\\\\\n",
       "\t 1.491023e+18 & lorchan50       & ðŸ‡¨ðŸ‡¦ â¤ ðŸ‡ºðŸ‡¦  A Canadian with a heart for Ukraine! This is the way! NAFOforLife!  Supporting https://t.co/LLD9Db7qXO  https://t.co/NwMetzZzKl and @georgian\\_legion & Langley. Virginia               &  4952 &   3509 &   4936 & 2022-02-08 12:15:41 & 1.630465e+18 & 2023-02-28 07:07:20 & ... &  & False & 0 & 0 &  & 2023-02-28 09:46:11.506368 & pos & 0.5564643 & 1 & Non Attendibile\\\\\n",
       "\t 1.288885e+18 & LeonF84292221   &                                                                                                                                                                             & USA                             &   934 &    213 &  11008 & 2020-07-30 17:11:04 & 1.630430e+18 & 2023-02-28 04:48:26 & ... &  & False & 0 & 0 &  & 2023-02-28 05:43:08.296060 & pos & 0.3431138 & 1 & Non Attendibile\\\\\n",
       "\\end{tabular}\n"
      ],
      "text/markdown": [
       "\n",
       "A data.frame: 10 × 32\n",
       "\n",
       "| userid &lt;dbl&gt; | username &lt;chr&gt; | acctdesc &lt;chr&gt; | location &lt;chr&gt; | following &lt;int&gt; | followers &lt;int&gt; | totaltweets &lt;int&gt; | usercreatedts &lt;chr&gt; | tweetid &lt;dbl&gt; | tweetcreatedts &lt;dttm&gt; | ... ... | in_reply_to_screen_name &lt;chr&gt; | is_quote_status &lt;chr&gt; | quoted_status_id &lt;dbl&gt; | quoted_status_userid &lt;dbl&gt; | quoted_status_username &lt;chr&gt; | extractedts &lt;chr&gt; | sentiment &lt;chr&gt; | score &lt;dbl&gt; | sentiment_numeric &lt;fct&gt; | sentiment_attendibile &lt;chr&gt; |\n",
       "|---|---|---|---|---|---|---|---|---|---|---|---|---|---|---|---|---|---|---|---|---|\n",
       "| 2.971004e+07 | AdamTM24        | No bull. No filter. Love genre film/TV, video games, auto racing, travel, and good friends. He/Him. 30 something but 28 forever. Girl crazy.                                | Cincinnati-Dayton Metroplex     |  4552 |    846 |  82834 | 2009-04-08 13:07:10 | 1.630511e+18 | 2023-02-28 10:13:10 | ... | <!----> | False | 0 | 0 | <!----> | 2023-02-28 12:46:31.079526 | pos | 0.5564643 | 1 | Non Attendibile |\n",
       "| 1.343193e+18 | GDolfan         | ð“œð“²ð“ªð“¶ð“² ð““ð“¸ð“µð“¹ð“±ð“²ð“·ð“¼ ð““ð“²ð“® ð“—ð“ªð“»ð“­ #TheSamoanSniper                                                                        | Baden-WÃ¼rttemberg, Deutschland |   479 |    327 |   1485 | 2020-12-27 13:51:17 | 1.630550e+18 | 2023-02-28 12:45:18 | ... | <!----> | False | 0 | 0 | <!----> | 2023-02-28 13:48:06.728529 | pos | 0.4970563 | 1 | Non Attendibile |\n",
       "| 1.934644e+07 | LouiseMensch    | \"Unhinged British witch\" \"a textbook succubus\"- Russian Insider\n",
       "UKRAINE LIST of great accounts to follow and RT - https://t.co/LsIOlRdm9e                                  | In Team Treasonâ€™s Head        | 36606 | 269208 | 110108 | 2009-01-22 16:36:16 | 1.630586e+18 | 2023-02-28 15:11:07 | ... | <!----> | False | 0 | 0 | <!----> | 2023-02-28 15:29:02.177035 | pos | 0.5193077 | 1 | Non Attendibile |\n",
       "| 1.289392e+18 | Manan48176326   | <!----> | <!----> |    77 |     65 |  21836 | 2020-08-01 02:46:05 | 1.630359e+18 | 2023-02-28 00:08:52 | ... | <!----> | False | 0 | 0 | <!----> | 2023-02-28 00:46:07.374431 | pos | 0.4575909 | 1 | Non Attendibile |\n",
       "| 3.397869e+09 | lisa_haycocks   | <!----> | UK                              |   399 |     98 |   3889 | 2015-07-31 22:16:34 | 1.630389e+18 | 2023-02-28 02:06:36 | ... | <!----> | False | 0 | 0 | <!----> | 2023-02-28 06:45:55.236868 | pos | 0.5717947 | 1 | Non Attendibile |\n",
       "| 4.160203e+09 | LPincia         | il Genoa non Ã¨ solo una squadra. Per noi di Genova (quelli veri) Ã¨ una Fede. Destra,anticomunista. ðŸ‡ºðŸ‡¦ðŸŒ»ðŸŒ»ðŸŒ» No DM, non rispondo.                              | Genoa                           |  4618 |   4273 | 448532 | 2015-11-11 00:43:10 | 1.630511e+18 | 2023-02-28 10:09:31 | ... | <!----> | False | 0 | 0 | <!----> | 2023-02-28 11:36:46.513115 | pos | 0.3678044 | 1 | Non Attendibile |\n",
       "| 1.089245e+18 | alanastarisborn | A 'CRAP ANIME PRODUCTION' IN ASSOCIATION WITH 'I CAN'T BELIEVE I'M WATCHING THIS' &amp; 'MADE ON MY PHONE MOVIES' currently #selfisolating #Viralvideos #movies                 | Not Of This World               |   217 |    291 | 100302 | 2019-01-26 19:34:26 | 1.630413e+18 | 2023-02-28 03:41:48 | ... | <!----> | False | 0 | 0 | <!----> | 2023-02-28 04:45:20.130292 | pos | 0.4831085 | 1 | Non Attendibile |\n",
       "| 2.902523e+09 | victorivasik    | <!----> | <!----> |    22 |     22 |  18104 | 2014-11-17 09:12:21 | 1.630468e+18 | 2023-02-28 07:21:41 | ... | <!----> | False | 0 | 0 | <!----> | 2023-02-28 09:46:10.313709 | pos | 0.5399685 | 1 | Non Attendibile |\n",
       "| 1.491023e+18 | lorchan50       | ðŸ‡¨ðŸ‡¦ â¤ ðŸ‡ºðŸ‡¦  A Canadian with a heart for Ukraine! This is the way! NAFOforLife!  Supporting https://t.co/LLD9Db7qXO  https://t.co/NwMetzZzKl and @georgian_legion | Langley. Virginia               |  4952 |   3509 |   4936 | 2022-02-08 12:15:41 | 1.630465e+18 | 2023-02-28 07:07:20 | ... | <!----> | False | 0 | 0 | <!----> | 2023-02-28 09:46:11.506368 | pos | 0.5564643 | 1 | Non Attendibile |\n",
       "| 1.288885e+18 | LeonF84292221   | <!----> | USA                             |   934 |    213 |  11008 | 2020-07-30 17:11:04 | 1.630430e+18 | 2023-02-28 04:48:26 | ... | <!----> | False | 0 | 0 | <!----> | 2023-02-28 05:43:08.296060 | pos | 0.3431138 | 1 | Non Attendibile |\n",
       "\n"
      ],
      "text/plain": [
       "   userid       username       \n",
       "1  2.971004e+07 AdamTM24       \n",
       "2  1.343193e+18 GDolfan        \n",
       "3  1.934644e+07 LouiseMensch   \n",
       "4  1.289392e+18 Manan48176326  \n",
       "5  3.397869e+09 lisa_haycocks  \n",
       "6  4.160203e+09 LPincia        \n",
       "7  1.089245e+18 alanastarisborn\n",
       "8  2.902523e+09 victorivasik   \n",
       "9  1.491023e+18 lorchan50      \n",
       "10 1.288885e+18 LeonF84292221  \n",
       "   acctdesc                                                                                                                                                                   \n",
       "1  No bull. No filter. Love genre film/TV, video games, auto racing, travel, and good friends. He/Him. 30 something but 28 forever. Girl crazy.                               \n",
       "2  ð\\235“œð\\235“²ð\\235“ªð\\235“¶ð\\235“² ð\\235““ð\\235“¸ð\\235“µð\\235“¹ð\\235“±ð\\235“²ð\\235“·ð\\235“¼ ð\\235““ð\\235“²ð\\235“® ð\\235“—ð\\235“ªð\\235“»ð\\235“­ #TheSamoanSniper                                                                       \n",
       "3  \"Unhinged British witch\" \"a textbook succubus\"- Russian Insider\\nUKRAINE LIST of great accounts to follow and RT - https://t.co/LsIOlRdm9e                                 \n",
       "4                                                                                                                                                                             \n",
       "5                                                                                                                                                                             \n",
       "6  il Genoa non Ã¨ solo una squadra. Per noi di Genova (quelli veri) Ã¨ una Fede. Destra,anticomunista. ðŸ‡ºðŸ‡¦ðŸŒ»ðŸŒ»ðŸŒ» No DM, non rispondo.                             \n",
       "7  A 'CRAP ANIME PRODUCTION' IN ASSOCIATION WITH 'I CAN'T BELIEVE I'M WATCHING THIS' & 'MADE ON MY PHONE MOVIES' currently #selfisolating #Viralvideos #movies                \n",
       "8                                                                                                                                                                             \n",
       "9  ðŸ‡¨ðŸ‡¦ â\\235¤ ðŸ‡ºðŸ‡¦  A Canadian with a heart for Ukraine! This is the way! NAFOforLife!  Supporting https://t.co/LLD9Db7qXO  https://t.co/NwMetzZzKl and @georgian_legion\n",
       "10                                                                                                                                                                            \n",
       "   location                        following followers totaltweets\n",
       "1  Cincinnati-Dayton Metroplex      4552        846     82834     \n",
       "2  Baden-WÃ¼rttemberg, Deutschland   479        327      1485     \n",
       "3  In Team Treasonâ\\200\\231s Head        36606     269208    110108     \n",
       "4                                     77         65     21836     \n",
       "5  UK                                399         98      3889     \n",
       "6  Genoa                            4618       4273    448532     \n",
       "7  Not Of This World                 217        291    100302     \n",
       "8                                     22         22     18104     \n",
       "9  Langley. Virginia                4952       3509      4936     \n",
       "10 USA                               934        213     11008     \n",
       "   usercreatedts       tweetid      tweetcreatedts      ...\n",
       "1  2009-04-08 13:07:10 1.630511e+18 2023-02-28 10:13:10 ...\n",
       "2  2020-12-27 13:51:17 1.630550e+18 2023-02-28 12:45:18 ...\n",
       "3  2009-01-22 16:36:16 1.630586e+18 2023-02-28 15:11:07 ...\n",
       "4  2020-08-01 02:46:05 1.630359e+18 2023-02-28 00:08:52 ...\n",
       "5  2015-07-31 22:16:34 1.630389e+18 2023-02-28 02:06:36 ...\n",
       "6  2015-11-11 00:43:10 1.630511e+18 2023-02-28 10:09:31 ...\n",
       "7  2019-01-26 19:34:26 1.630413e+18 2023-02-28 03:41:48 ...\n",
       "8  2014-11-17 09:12:21 1.630468e+18 2023-02-28 07:21:41 ...\n",
       "9  2022-02-08 12:15:41 1.630465e+18 2023-02-28 07:07:20 ...\n",
       "10 2020-07-30 17:11:04 1.630430e+18 2023-02-28 04:48:26 ...\n",
       "   in_reply_to_screen_name is_quote_status quoted_status_id\n",
       "1                          False           0               \n",
       "2                          False           0               \n",
       "3                          False           0               \n",
       "4                          False           0               \n",
       "5                          False           0               \n",
       "6                          False           0               \n",
       "7                          False           0               \n",
       "8                          False           0               \n",
       "9                          False           0               \n",
       "10                         False           0               \n",
       "   quoted_status_userid quoted_status_username extractedts               \n",
       "1  0                                           2023-02-28 12:46:31.079526\n",
       "2  0                                           2023-02-28 13:48:06.728529\n",
       "3  0                                           2023-02-28 15:29:02.177035\n",
       "4  0                                           2023-02-28 00:46:07.374431\n",
       "5  0                                           2023-02-28 06:45:55.236868\n",
       "6  0                                           2023-02-28 11:36:46.513115\n",
       "7  0                                           2023-02-28 04:45:20.130292\n",
       "8  0                                           2023-02-28 09:46:10.313709\n",
       "9  0                                           2023-02-28 09:46:11.506368\n",
       "10 0                                           2023-02-28 05:43:08.296060\n",
       "   sentiment score     sentiment_numeric sentiment_attendibile\n",
       "1  pos       0.5564643 1                 Non Attendibile      \n",
       "2  pos       0.4970563 1                 Non Attendibile      \n",
       "3  pos       0.5193077 1                 Non Attendibile      \n",
       "4  pos       0.4575909 1                 Non Attendibile      \n",
       "5  pos       0.5717947 1                 Non Attendibile      \n",
       "6  pos       0.3678044 1                 Non Attendibile      \n",
       "7  pos       0.4831085 1                 Non Attendibile      \n",
       "8  pos       0.5399685 1                 Non Attendibile      \n",
       "9  pos       0.5564643 1                 Non Attendibile      \n",
       "10 pos       0.3431138 1                 Non Attendibile      "
      ]
     },
     "metadata": {},
     "output_type": "display_data"
    }
   ],
   "source": [
    "library(dplyr)\n",
    "\n",
    "df_att$tweetcreatedts <- as.POSIXct(df_att$tweetcreatedts, format=\"%Y-%m-%d %H:%M:%S\")\n",
    "\n",
    "# Filtro per sentiment positivo e per date tra il 28 e il 29 febbraio\n",
    "df_window <- df_att %>%\n",
    "    filter(\n",
    "        sentiment_attendibile == \"Non Attendibile\",      # Condizione: Non Attendibile\n",
    "        sentiment == \"pos\",                             # Condizione: Sentiment positivo\n",
    "        tweetcreatedts >= as.POSIXct(\"2023-02-28 00:00:00\") &  # Inizio intervallo\n",
    "        tweetcreatedts <= as.POSIXct(\"2023-02-28 23:59:59\")    # Fine intervallo\n",
    "    ) %>%\n",
    "    sample_n(10)  # Estraggo 10 tweet casuali tra quelli filtrati\n",
    "\n",
    "# Mostra i risultati\n",
    "df_window$text\n"
   ]
  },
  {
   "cell_type": "code",
   "execution_count": 25,
   "id": "38b15d9b-c488-476f-b98b-7f342fb63f3e",
   "metadata": {},
   "outputs": [
    {
     "data": {
      "text/html": [
       "<style>\n",
       ".list-inline {list-style: none; margin:0; padding: 0}\n",
       ".list-inline>li {display: inline-block}\n",
       ".list-inline>li:not(:last-child)::after {content: \"\\00b7\"; padding: 0 .5ex}\n",
       "</style>\n",
       "<ol class=list-inline><li>'ðŸ‡ºðŸ‡¦ This is the first time I\\'ve seen something like this and I\\'m a bit impressed.\\n\\n#UkraineWar #Ukrainian #Ukraineï¸\\217 #RussiaisATerroistState #RussiaIsCollapsing #RussiaInvadedUkraine https://t.co/t940nNjIx3'</li><li>'Finally arrived in #Germany #FinsUp #miamidolphins #nfltwitter #perfectseason #Undefeated @MiamiDolphins #RTLNFL https://t.co/LdCMumpitP'</li><li>'Simply trying to give the world an example of what one human being can do for people he loves.ðŸ’›ðŸ’\\231ðŸ¥¶#40hourruckmarch #Ukraine https://t.co/ld0i4519Sh'</li><li>'Exactly one year ago the most epic battle in the war in Ukraine took place. Russian VDV in Hostomel were preparing to â\\200œvictoriouslyâ\\200\\235 march into Kyiv. But in Bucha AFU was waiting for them and delivered absolute carnage. \\nThis was the moment I knew that Ukraine will win.\\n#Ukraine https://t.co/lr4tyfPaQU'</li><li>'In the still of the night, Larry paid his respects..\\n\\nAfter the busyness of the day, it was just myself and Larry on the street last night.\\nI caught this as he waited for me to knock, &amp;amp; the wreath made this the perfect shot.\\n#PhotoDuJour\\n#IStandWithUkraine\\n#LarryStandsWithUkraine https://t.co/ogBiNEtULX'</li><li>'Watch the heartfelt story of Alyona from IrpinðŸ’” \\nIn June 2022, her family returned to help neighbors sort through the rubble of their destroyed homes, restore communications, and help raise funds for reconstruction.\\n#united24 https://t.co/zUZVNnJAxy'</li><li>'Get my art printed on awesome products at Redbubble #RBandME https://t.co/0OwQtvSOVZâ\\200¦ #findyourthing #redbubble #artwork #ArtistOnTwitter #artist #killthebill #Masks #fashion #style #protest #LogoDesign #colourful #Sarcasm #gift #Christmas #birthday #MothersDay #FathersDay #USA'</li><li>'We bow our heads before the Heroes who protect Ukrainians from the barbarity of the Russian forces, defending freedom and democracy. \\nThey will not be forgotten. \\n\\nRIP â\\200“ Dmytro Nesteruk, Oleksandr Korpan, Oleksandr Kapitonenko, Illia Shaharov\\n\\n#ArmUkraineNow https://t.co/2QxOrm3GmI'</li><li>'ðŸ‡ºðŸ‡¦ This is the first time I\\'ve seen something like this and I\\'m a bit impressed.\\n\\n#UkraineWar #Ukrainian #Ukraineï¸\\217 #RussiaisATerroistState #RussiaIsCollapsing #RussiaInvadedUkraine https://t.co/t940nNjIx3'</li><li>'If you canâ\\200\\231t believe Tucker Carlson, try highly regarded academic Noam Chomskyâ\\200\\231s account on how the #UkraineRussianWarï¸\\217 was started. Itâ\\200\\231s pretty enlightening. #Russia #Ukraine #NATO https://t.co/Q9KO1uiWgB'</li></ol>\n"
      ],
      "text/latex": [
       "\\begin{enumerate*}\n",
       "\\item 'ðŸ‡ºðŸ‡¦ This is the first time I\\textbackslash{}'ve seen something like this and I\\textbackslash{}'m a bit impressed.\\textbackslash{}n\\textbackslash{}n\\#UkraineWar \\#Ukrainian \\#Ukraineï¸\\textbackslash{}217 \\#RussiaisATerroistState \\#RussiaIsCollapsing \\#RussiaInvadedUkraine https://t.co/t940nNjIx3'\n",
       "\\item 'Finally arrived in \\#Germany \\#FinsUp \\#miamidolphins \\#nfltwitter \\#perfectseason \\#Undefeated @MiamiDolphins \\#RTLNFL https://t.co/LdCMumpitP'\n",
       "\\item 'Simply trying to give the world an example of what one human being can do for people he loves.ðŸ’›ðŸ’\\textbackslash{}231ðŸ¥¶\\#40hourruckmarch \\#Ukraine https://t.co/ld0i4519Sh'\n",
       "\\item 'Exactly one year ago the most epic battle in the war in Ukraine took place. Russian VDV in Hostomel were preparing to â\\textbackslash{}200œvictoriouslyâ\\textbackslash{}200\\textbackslash{}235 march into Kyiv. But in Bucha AFU was waiting for them and delivered absolute carnage. \\textbackslash{}nThis was the moment I knew that Ukraine will win.\\textbackslash{}n\\#Ukraine https://t.co/lr4tyfPaQU'\n",
       "\\item 'In the still of the night, Larry paid his respects..\\textbackslash{}n\\textbackslash{}nAfter the busyness of the day, it was just myself and Larry on the street last night.\\textbackslash{}nI caught this as he waited for me to knock, \\&amp; the wreath made this the perfect shot.\\textbackslash{}n\\#PhotoDuJour\\textbackslash{}n\\#IStandWithUkraine\\textbackslash{}n\\#LarryStandsWithUkraine https://t.co/ogBiNEtULX'\n",
       "\\item 'Watch the heartfelt story of Alyona from IrpinðŸ’” \\textbackslash{}nIn June 2022, her family returned to help neighbors sort through the rubble of their destroyed homes, restore communications, and help raise funds for reconstruction.\\textbackslash{}n\\#united24 https://t.co/zUZVNnJAxy'\n",
       "\\item 'Get my art printed on awesome products at Redbubble \\#RBandME https://t.co/0OwQtvSOVZâ\\textbackslash{}200¦ \\#findyourthing \\#redbubble \\#artwork \\#ArtistOnTwitter \\#artist \\#killthebill \\#Masks \\#fashion \\#style \\#protest \\#LogoDesign \\#colourful \\#Sarcasm \\#gift \\#Christmas \\#birthday \\#MothersDay \\#FathersDay \\#USA'\n",
       "\\item 'We bow our heads before the Heroes who protect Ukrainians from the barbarity of the Russian forces, defending freedom and democracy. \\textbackslash{}nThey will not be forgotten. \\textbackslash{}n\\textbackslash{}nRIP â\\textbackslash{}200“ Dmytro Nesteruk, Oleksandr Korpan, Oleksandr Kapitonenko, Illia Shaharov\\textbackslash{}n\\textbackslash{}n\\#ArmUkraineNow https://t.co/2QxOrm3GmI'\n",
       "\\item 'ðŸ‡ºðŸ‡¦ This is the first time I\\textbackslash{}'ve seen something like this and I\\textbackslash{}'m a bit impressed.\\textbackslash{}n\\textbackslash{}n\\#UkraineWar \\#Ukrainian \\#Ukraineï¸\\textbackslash{}217 \\#RussiaisATerroistState \\#RussiaIsCollapsing \\#RussiaInvadedUkraine https://t.co/t940nNjIx3'\n",
       "\\item 'If you canâ\\textbackslash{}200\\textbackslash{}231t believe Tucker Carlson, try highly regarded academic Noam Chomskyâ\\textbackslash{}200\\textbackslash{}231s account on how the \\#UkraineRussianWarï¸\\textbackslash{}217 was started. Itâ\\textbackslash{}200\\textbackslash{}231s pretty enlightening. \\#Russia \\#Ukraine \\#NATO https://t.co/Q9KO1uiWgB'\n",
       "\\end{enumerate*}\n"
      ],
      "text/markdown": [
       "1. 'ðŸ‡ºðŸ‡¦ This is the first time I\\'ve seen something like this and I\\'m a bit impressed.\\n\\n#UkraineWar #Ukrainian #Ukraineï¸\\217 #RussiaisATerroistState #RussiaIsCollapsing #RussiaInvadedUkraine https://t.co/t940nNjIx3'\n",
       "2. 'Finally arrived in #Germany #FinsUp #miamidolphins #nfltwitter #perfectseason #Undefeated @MiamiDolphins #RTLNFL https://t.co/LdCMumpitP'\n",
       "3. 'Simply trying to give the world an example of what one human being can do for people he loves.ðŸ’›ðŸ’\\231ðŸ¥¶#40hourruckmarch #Ukraine https://t.co/ld0i4519Sh'\n",
       "4. 'Exactly one year ago the most epic battle in the war in Ukraine took place. Russian VDV in Hostomel were preparing to â\\200œvictoriouslyâ\\200\\235 march into Kyiv. But in Bucha AFU was waiting for them and delivered absolute carnage. \\nThis was the moment I knew that Ukraine will win.\\n#Ukraine https://t.co/lr4tyfPaQU'\n",
       "5. 'In the still of the night, Larry paid his respects..\\n\\nAfter the busyness of the day, it was just myself and Larry on the street last night.\\nI caught this as he waited for me to knock, &amp;amp; the wreath made this the perfect shot.\\n#PhotoDuJour\\n#IStandWithUkraine\\n#LarryStandsWithUkraine https://t.co/ogBiNEtULX'\n",
       "6. 'Watch the heartfelt story of Alyona from IrpinðŸ’” \\nIn June 2022, her family returned to help neighbors sort through the rubble of their destroyed homes, restore communications, and help raise funds for reconstruction.\\n#united24 https://t.co/zUZVNnJAxy'\n",
       "7. 'Get my art printed on awesome products at Redbubble #RBandME https://t.co/0OwQtvSOVZâ\\200¦ #findyourthing #redbubble #artwork #ArtistOnTwitter #artist #killthebill #Masks #fashion #style #protest #LogoDesign #colourful #Sarcasm #gift #Christmas #birthday #MothersDay #FathersDay #USA'\n",
       "8. 'We bow our heads before the Heroes who protect Ukrainians from the barbarity of the Russian forces, defending freedom and democracy. \\nThey will not be forgotten. \\n\\nRIP â\\200“ Dmytro Nesteruk, Oleksandr Korpan, Oleksandr Kapitonenko, Illia Shaharov\\n\\n#ArmUkraineNow https://t.co/2QxOrm3GmI'\n",
       "9. 'ðŸ‡ºðŸ‡¦ This is the first time I\\'ve seen something like this and I\\'m a bit impressed.\\n\\n#UkraineWar #Ukrainian #Ukraineï¸\\217 #RussiaisATerroistState #RussiaIsCollapsing #RussiaInvadedUkraine https://t.co/t940nNjIx3'\n",
       "10. 'If you canâ\\200\\231t believe Tucker Carlson, try highly regarded academic Noam Chomskyâ\\200\\231s account on how the #UkraineRussianWarï¸\\217 was started. Itâ\\200\\231s pretty enlightening. #Russia #Ukraine #NATO https://t.co/Q9KO1uiWgB'\n",
       "\n",
       "\n"
      ],
      "text/plain": [
       " [1] \"ðŸ‡ºðŸ‡¦ This is the first time I've seen something like this and I'm a bit impressed.\\n\\n#UkraineWar #Ukrainian #Ukraineï¸\\217 #RussiaisATerroistState #RussiaIsCollapsing #RussiaInvadedUkraine https://t.co/t940nNjIx3\"                                                                                                    \n",
       " [2] \"Finally arrived in #Germany #FinsUp #miamidolphins #nfltwitter #perfectseason #Undefeated @MiamiDolphins #RTLNFL https://t.co/LdCMumpitP\"                                                                                                                                                                                  \n",
       " [3] \"Simply trying to give the world an example of what one human being can do for people he loves.ðŸ’›ðŸ’\\231ðŸ¥¶#40hourruckmarch #Ukraine https://t.co/ld0i4519Sh\"                                                                                                                                                               \n",
       " [4] \"Exactly one year ago the most epic battle in the war in Ukraine took place. Russian VDV in Hostomel were preparing to â\\200œvictoriouslyâ\\200\\235 march into Kyiv. But in Bucha AFU was waiting for them and delivered absolute carnage. \\nThis was the moment I knew that Ukraine will win.\\n#Ukraine https://t.co/lr4tyfPaQU\"     \n",
       " [5] \"In the still of the night, Larry paid his respects..\\n\\nAfter the busyness of the day, it was just myself and Larry on the street last night.\\nI caught this as he waited for me to knock, &amp; the wreath made this the perfect shot.\\n#PhotoDuJour\\n#IStandWithUkraine\\n#LarryStandsWithUkraine https://t.co/ogBiNEtULX\"\n",
       " [6] \"Watch the heartfelt story of Alyona from IrpinðŸ’” \\nIn June 2022, her family returned to help neighbors sort through the rubble of their destroyed homes, restore communications, and help raise funds for reconstruction.\\n#united24 https://t.co/zUZVNnJAxy\"                                                            \n",
       " [7] \"Get my art printed on awesome products at Redbubble #RBandME https://t.co/0OwQtvSOVZâ\\200¦ #findyourthing #redbubble #artwork #ArtistOnTwitter #artist #killthebill #Masks #fashion #style #protest #LogoDesign #colourful #Sarcasm #gift #Christmas #birthday #MothersDay #FathersDay #USA\"                                  \n",
       " [8] \"We bow our heads before the Heroes who protect Ukrainians from the barbarity of the Russian forces, defending freedom and democracy. \\nThey will not be forgotten. \\n\\nRIP â\\200“ Dmytro Nesteruk, Oleksandr Korpan, Oleksandr Kapitonenko, Illia Shaharov\\n\\n#ArmUkraineNow https://t.co/2QxOrm3GmI\"                         \n",
       " [9] \"ðŸ‡ºðŸ‡¦ This is the first time I've seen something like this and I'm a bit impressed.\\n\\n#UkraineWar #Ukrainian #Ukraineï¸\\217 #RussiaisATerroistState #RussiaIsCollapsing #RussiaInvadedUkraine https://t.co/t940nNjIx3\"                                                                                                    \n",
       "[10] \"If you canâ\\200\\231t believe Tucker Carlson, try highly regarded academic Noam Chomskyâ\\200\\231s account on how the #UkraineRussianWarï¸\\217 was started. Itâ\\200\\231s pretty enlightening. #Russia #Ukraine #NATO https://t.co/Q9KO1uiWgB\"                                                                                                     "
      ]
     },
     "metadata": {},
     "output_type": "display_data"
    }
   ],
   "source": [
    "df_window$text"
   ]
  },
  {
   "cell_type": "code",
   "execution_count": 6,
   "id": "8ff91a55-9575-4fd6-bbe7-0f6d0ce9b087",
   "metadata": {},
   "outputs": [
    {
     "name": "stderr",
     "output_type": "stream",
     "text": [
      "\n",
      "Caricamento pacchetto: 'lubridate'\n",
      "\n",
      "\n",
      "I seguenti oggetti sono mascherati da 'package:base':\n",
      "\n",
      "    date, intersect, setdiff, union\n",
      "\n",
      "\n"
     ]
    },
    {
     "data": {
      "image/png": "[encoded data removed]",
      "text/plain": [
       "plot without title"
      ]
     },
     "metadata": {
      "image/png": {
       "height": 420,
       "width": 420
      }
     },
     "output_type": "display_data"
    }
   ],
   "source": [
    "library(dplyr)\n",
    "library(ggplot2)\n",
    "library(lubridate)\n",
    "\n",
    "df_copy <- df\n",
    "\n",
    "df_copy$tweetcreatedts <- as.Date(df_copy$tweetcreatedts)\n",
    "\n",
    "# Estrai la data (giorno, mese, anno) senza l'orario\n",
    "df_copy$tweetcreatedts <- floor_date(df_copy$tweetcreatedts, unit = \"day\")\n",
    "\n",
    "# Raggruppa per giorno e conta il numero di tweet per ogni giorno\n",
    "tweet_per_giorno <- df_copy %>%\n",
    "  group_by(tweetcreatedts) %>%\n",
    "  summarise(conteggio = n())\n",
    "\n",
    "# Visualizza il grafico della serie temporale giornaliera\n",
    "ggplot(tweet_per_giorno, aes(x = tweetcreatedts, y = conteggio)) +\n",
    "  geom_line(color = \"blue\") +  # Usa una linea per rappresentare la serie temporale\n",
    "  labs(title = \"Numero di Tweet per Giorno\", x = \"Data\", y = \"Conteggio dei Tweet\") +\n",
    "  theme_minimal() +  # Usa un tema minimale per il grafico\n",
    "  theme(axis.text.x = element_text(angle = 45, hjust = 1)) +  # Ruota le etichette della data\n",
    "  scale_x_date(\n",
    "    breaks = \"1 day\",  \n",
    "    labels = scales::date_format(\"%m-%d\")  # Formatta le etichette come data\n",
    "  )"
   ]
  },
  {
   "cell_type": "code",
   "execution_count": 9,
   "id": "26b6a2ef-3a25-4967-8c8a-dd3197a27903",
   "metadata": {},
   "outputs": [
    {
     "data": {
      "image/png": "[encoded data removed]",
      "text/plain": [
       "plot without title"
      ]
     },
     "metadata": {
      "image/png": {
       "height": 420,
       "width": 420
      }
     },
     "output_type": "display_data"
    }
   ],
   "source": [
    "library(dplyr)\n",
    "library(ggplot2)\n",
    "library(lubridate)\n",
    "\n",
    "df_copy <- df\n",
    "\n",
    "# Converti la colonna 'tweetcreatedts' in formato POSIXct \n",
    "df_copy$tweetcreatedts <- as.POSIXct(df_copy$tweetcreatedts, format = \"%Y-%m-%d %H:%M:%S\")\n",
    "\n",
    "# Estrai l'ora dalla colonna '\n",
    "df_copy$ora <- format(df_copy$tweetcreatedts, \"%H\")\n",
    "\n",
    "# Raggruppa per ora e conteggio tweet\n",
    "tweet_per_ora <- df_copy %>%\n",
    "  group_by(ora) %>%\n",
    "  summarise(conteggio = n())\n",
    "\n",
    "ggplot(tweet_per_ora, aes(x = as.numeric(ora), y = conteggio)) +\n",
    "  geom_line(color = \"blue\") +  \n",
    "  geom_point(color = \"red\") +  \n",
    "  labs(title = \"Numero di Tweet per Ora\", x = \"Ora del Giorno\", y = \"Conteggio dei Tweet\") +\n",
    "  theme_minimal() +\n",
    "  scale_x_continuous(breaks = 0:23)  "
   ]
  },
  {
   "cell_type": "code",
   "execution_count": 18,
   "id": "e35e6fda-c9f6-44e7-aa8d-76a4c2aee71d",
   "metadata": {},
   "outputs": [
    {
     "data": {
      "text/html": [
       "<table class=\"dataframe\">\n",
       "<caption>A data.frame: 1 × 2</caption>\n",
       "<thead>\n",
       "\t<tr><th scope=col>sentiment</th><th scope=col>n</th></tr>\n",
       "\t<tr><th scope=col>&lt;chr&gt;</th><th scope=col>&lt;int&gt;</th></tr>\n",
       "</thead>\n",
       "<tbody>\n",
       "\t<tr><td>neg</td><td>467532</td></tr>\n",
       "</tbody>\n",
       "</table>\n"
      ],
      "text/latex": [
       "A data.frame: 1 × 2\n",
       "\\begin{tabular}{ll}\n",
       " sentiment & n\\\\\n",
       " <chr> & <int>\\\\\n",
       "\\hline\n",
       "\t neg & 467532\\\\\n",
       "\\end{tabular}\n"
      ],
      "text/markdown": [
       "\n",
       "A data.frame: 1 × 2\n",
       "\n",
       "| sentiment &lt;chr&gt; | n &lt;int&gt; |\n",
       "|---|---|\n",
       "| neg | 467532 |\n",
       "\n"
      ],
      "text/plain": [
       "  sentiment n     \n",
       "1 neg       467532"
      ]
     },
     "metadata": {},
     "output_type": "display_data"
    },
    {
     "data": {
      "text/html": [
       "<table class=\"dataframe\">\n",
       "<caption>A data.frame: 1 × 2</caption>\n",
       "<thead>\n",
       "\t<tr><th scope=col>sentiment</th><th scope=col>n</th></tr>\n",
       "\t<tr><th scope=col>&lt;chr&gt;</th><th scope=col>&lt;int&gt;</th></tr>\n",
       "</thead>\n",
       "<tbody>\n",
       "\t<tr><td>pos</td><td>100642</td></tr>\n",
       "</tbody>\n",
       "</table>\n"
      ],
      "text/latex": [
       "A data.frame: 1 × 2\n",
       "\\begin{tabular}{ll}\n",
       " sentiment & n\\\\\n",
       " <chr> & <int>\\\\\n",
       "\\hline\n",
       "\t pos & 100642\\\\\n",
       "\\end{tabular}\n"
      ],
      "text/markdown": [
       "\n",
       "A data.frame: 1 × 2\n",
       "\n",
       "| sentiment &lt;chr&gt; | n &lt;int&gt; |\n",
       "|---|---|\n",
       "| pos | 100642 |\n",
       "\n"
      ],
      "text/plain": [
       "  sentiment n     \n",
       "1 pos       100642"
      ]
     },
     "metadata": {},
     "output_type": "display_data"
    },
    {
     "data": {
      "text/html": [
       "<table class=\"dataframe\">\n",
       "<caption>A data.frame: 1 × 2</caption>\n",
       "<thead>\n",
       "\t<tr><th scope=col>sentiment</th><th scope=col>n</th></tr>\n",
       "\t<tr><th scope=col>&lt;chr&gt;</th><th scope=col>&lt;int&gt;</th></tr>\n",
       "</thead>\n",
       "<tbody>\n",
       "\t<tr><td>neu</td><td>208415</td></tr>\n",
       "</tbody>\n",
       "</table>\n"
      ],
      "text/latex": [
       "A data.frame: 1 × 2\n",
       "\\begin{tabular}{ll}\n",
       " sentiment & n\\\\\n",
       " <chr> & <int>\\\\\n",
       "\\hline\n",
       "\t neu & 208415\\\\\n",
       "\\end{tabular}\n"
      ],
      "text/markdown": [
       "\n",
       "A data.frame: 1 × 2\n",
       "\n",
       "| sentiment &lt;chr&gt; | n &lt;int&gt; |\n",
       "|---|---|\n",
       "| neu | 208415 |\n",
       "\n"
      ],
      "text/plain": [
       "  sentiment n     \n",
       "1 neu       208415"
      ]
     },
     "metadata": {},
     "output_type": "display_data"
    }
   ],
   "source": [
    "df_neg %>% count(sentiment)\n",
    "df_pos %>% count(sentiment)\n",
    "df_neu %>% count(sentiment)"
   ]
  },
  {
   "cell_type": "code",
   "execution_count": null,
   "id": "90d62c13-4858-4299-80ca-0ec999ba830c",
   "metadata": {},
   "outputs": [],
   "source": []
  }
 ],
 "metadata": {
  "kernelspec": {
   "display_name": "R",
   "language": "R",
   "name": "ir"
  },
  "language_info": {
   "codemirror_mode": "r",
   "file_extension": ".r",
   "mimetype": "text/x-r-source",
   "name": "R",
   "pygments_lexer": "r",
   "version": "4.1.3"
  }
 },
 "nbformat": 4,
 "nbformat_minor": 5
}
