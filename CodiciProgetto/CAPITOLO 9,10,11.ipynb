{
 "cells": [
  {
   "cell_type": "markdown",
   "id": "8eca98b4-20e5-4471-b166-98cc8afc87a5",
   "metadata": {},
   "source": [
    "# 0 Domande di ricerca"
   ]
  },
  {
   "cell_type": "markdown",
   "id": "b35d3d46-85f9-404d-bf2b-bb6345310089",
   "metadata": {},
   "source": [
    "- E' possibile rappresentare in una finestra di 30 minuti l'intera popolazione di tweet in relazione al sentiment?"
   ]
  },
  {
   "cell_type": "markdown",
   "id": "9427740f-0cf8-4de8-9e0d-2930a8a51bff",
   "metadata": {},
   "source": [
    "# 1 Estrazione dataset e script"
   ]
  },
  {
   "cell_type": "code",
   "execution_count": 3,
   "id": "672cce2f-80c4-432e-aa00-66fd913e2eb5",
   "metadata": {},
   "outputs": [
    {
     "name": "stdout",
     "output_type": "stream",
     "text": [
      "Funzioni caricate con successo"
     ]
    }
   ],
   "source": [
    "source(\"../RuntimEnviroment/my_function.R\")"
   ]
  },
  {
   "cell_type": "code",
   "execution_count": 4,
   "id": "a2cd0ad5-8a13-4a0d-892d-a9a4dc20d56a",
   "metadata": {},
   "outputs": [
    {
     "name": "stdout",
     "output_type": "stream",
     "text": [
      "Il file è stato trovato: ../Dataset/Sentiment_en_tweet_2023.csv \n",
      "Contenuto del file CSV:\n",
      "        userid        username\n",
      "1 2.224061e+07   AlArabiya_Eng\n",
      "2 1.252283e+08     apple2hotel\n",
      "3 1.365269e+18 TerryTheTipste1\n",
      "4 1.295405e+18 MayadeenEnglish\n",
      "5 1.508116e+18   FloranceOlman\n",
      "6 1.616511e+18  NUHerbalHealth\n",
      "                                                                                                                                                   acctdesc\n",
      "1                                                                                             The Arab worldâ\\200\\231s leading source of global news and opinion.\n",
      "2                                    Travel bookings can be made online through a travel  website through a traditional travel agent.\\n#travel #travelbuddy\n",
      "3            Sports Nut, Tipping Enthusiast. 80s music addict who loves betting on horses and all sport. Follow for FREE Betting Tips on variety of Sports.\n",
      "4                                                                                                  The official Twitter page of Al Mayadeen English Website\n",
      "5                                                  ð\\235\\231\\201ð\\235\\231\\215ð\\235\\231\\200ð\\235\\231\\200 ð\\235\\231Žð\\235\\231‹ð\\235\\231„ð\\235\\231‰ð\\235\\231Ž ð\\235\\230¾ð\\235\\231Šð\\235\\231„ð\\235\\231‰ ð\\235\\231\\210ð\\235\\230¼ð\\235\\231Žð\\235\\231\\217ð\\235\\231\\200ð\\235\\231\\215\\nhttps://t.co/tXeaFea755\n",
      "6 Nu Herbal Health is a herbal supplement company based in Atlanta, \\nGeorgia. Our focus is to supplement our customers with products \\nthat will help them\n",
      "                  location following followers totaltweets       usercreatedts\n",
      "1                    Dubai        46    927188      337714 2009-02-28 08:31:32\n",
      "2 United States of America        93        36         335 2010-03-22 04:00:31\n",
      "3             South Africa      4122      1973       23131 2021-02-26 11:55:09\n",
      "4                                  7     18833       40331 2020-08-17 17:01:18\n",
      "5                                 75     29350        8148 2022-03-27 16:20:00\n",
      "6            United States         9         1          18 2023-01-20 19:00:51\n",
      "      tweetid      tweetcreatedts retweetcount\n",
      "1 1.62927e+18 2023-02-25 00:00:01            2\n",
      "2 1.62927e+18 2023-02-25 00:00:01            0\n",
      "3 1.62927e+18 2023-02-25 00:00:01            0\n",
      "4 1.62927e+18 2023-02-25 00:00:01            4\n",
      "5 1.62927e+18 2023-02-25 00:00:02            0\n",
      "6 1.62927e+18 2023-02-25 00:00:02            0\n",
      "                                                                                                                                                                                                                                                                                                                      text\n",
      "1                                        ICYMI: Former Russian President Dmitry Medvedev says that the only way for #Moscow to ensure a lasting peace with Ukraine was to push back the borders of hostile states as far as possible, even if that meant the frontiers of #NATO member #Poland.\\n\\nhttps://t.co/X6UUkw4rbx\n",
      "2                                                                                                                                                                                                     Explore the History and Culture of Moskva, Russia.\\n#Moskva #Russia\\nhttps://t.co/gqFzH951af https://t.co/dz55XUPOxa\n",
      "3                                                                                   NHL\\nWINNIPEG JETS 1.41\\nbeat\\nCOLORADO AVALANCHE\\nHollywoodbets https://t.co/8oX1W4SWBY    \\n\\n#Gamblingtwitter #BNB #ETH #Bitcoin #BTC #loveisland #BBTaitans #Crypto #Horses #NFT #Ukraine #Russia  #sports https://t.co/CcqrLJ5NUA\n",
      "4                                                                                         On the one-year anniversary of the start of the #Ukraine war, #French right-wing leader Marine Le Pen suggested in a letter that her country should host a peace conference between Ukraine and #Russia. https://t.co/hqKhUpMjC1\n",
      "5 GIVEAWAY Free 125K Spins ðŸŽ‰\\nIt's 100% working\\n\\n1- Comment ( spin )\\n2- Retweet Post\\n3- Like\\n4- Collect Here:  https://t.co/hUJNUZk4j3\\n\\n#coinmaster #coinmasterfreespins #coinmasterfreespinslink #CoinMasterspins #coinmasterofficial #coinmasters #coinmasterrewards #USA #uk #Germany https://t.co/EMdsaFu0RJ\n",
      "6               Optimize is synthesized utilizing grass-fed collagen peptides from healthy cows and provides nutrient-rich type I and III collagen peptides.\\nShop Now: https://t.co/xaDTMwK4cE\\n#heartattack #UkraineRussianWar #Pikachu #NewCoke #NewCoke #Pikachu #health #healthfoodie #health https://t.co/ny82tMoM0G\n",
      "                                                                                                                                                                                                                                                                                                                                                                                                                                                                                                                                                                              hashtags\n",
      "1                                                                                                                                                                                                                                                                                                                                                                                                                                                        [{'text': 'Moscow', 'indices': [75, 82]}, {'text': 'NATO', 'indices': [225, 230]}, {'text': 'Poland', 'indices': [238, 245]}]\n",
      "2                                                                                                                                                                                                                                                                                                                                                                                                                                                                                                   [{'text': 'Moskva', 'indices': [51, 58]}, {'text': 'Russia', 'indices': [59, 66]}]\n",
      "3 [{'text': 'Gamblingtwitter', 'indices': [90, 106]}, {'text': 'BNB', 'indices': [107, 111]}, {'text': 'ETH', 'indices': [112, 116]}, {'text': 'Bitcoin', 'indices': [117, 125]}, {'text': 'BTC', 'indices': [126, 130]}, {'text': 'loveisland', 'indices': [131, 142]}, {'text': 'BBTaitans', 'indices': [143, 153]}, {'text': 'Crypto', 'indices': [154, 161]}, {'text': 'Horses', 'indices': [162, 169]}, {'text': 'NFT', 'indices': [170, 174]}, {'text': 'Ukraine', 'indices': [175, 183]}, {'text': 'Russia', 'indices': [184, 191]}, {'text': 'sports', 'indices': [193, 200]}]\n",
      "4                                                                                                                                                                                                                                                                                                                                                                                                                                                       [{'text': 'Ukraine', 'indices': [48, 56]}, {'text': 'French', 'indices': [62, 69]}, {'text': 'Russia', 'indices': [192, 199]}]\n",
      "5                                                                      [{'text': 'coinmaster', 'indices': [133, 144]}, {'text': 'coinmasterfreespins', 'indices': [145, 165]}, {'text': 'coinmasterfreespinslink', 'indices': [166, 190]}, {'text': 'CoinMasterspins', 'indices': [191, 207]}, {'text': 'coinmasterofficial', 'indices': [208, 227]}, {'text': 'coinmasters', 'indices': [228, 240]}, {'text': 'coinmasterrewards', 'indices': [241, 259]}, {'text': 'USA', 'indices': [260, 264]}, {'text': 'uk', 'indices': [265, 268]}, {'text': 'Germany', 'indices': [269, 277]}]\n",
      "6                                                                                                                                                        [{'text': 'heartattack', 'indices': [175, 187]}, {'text': 'UkraineRussianWar', 'indices': [188, 206]}, {'text': 'Pikachu', 'indices': [207, 215]}, {'text': 'NewCoke', 'indices': [216, 224]}, {'text': 'NewCoke', 'indices': [225, 233]}, {'text': 'Pikachu', 'indices': [234, 242]}, {'text': 'health', 'indices': [243, 250]}, {'text': 'healthfoodie', 'indices': [251, 264]}, {'text': 'health', 'indices': [265, 272]}]\n",
      "  language coordinates favorite_count is_retweet original_tweet_id\n",
      "1       en                          4      False                 0\n",
      "2       en                          0      False                 0\n",
      "3       en                          3      False                 0\n",
      "4       en                          4      False                 0\n",
      "5       en                          0      False                 0\n",
      "6       en                          0      False                 0\n",
      "  original_tweet_userid original_tweet_username in_reply_to_status_id\n",
      "1                     0                                             0\n",
      "2                     0                                             0\n",
      "3                     0                                             0\n",
      "4                     0                                             0\n",
      "5                     0                                             0\n",
      "6                     0                                             0\n",
      "  in_reply_to_user_id in_reply_to_screen_name is_quote_status quoted_status_id\n",
      "1                   0                                   False                0\n",
      "2                   0                                   False                0\n",
      "3                   0                                   False                0\n",
      "4                   0                                   False                0\n",
      "5                   0                                   False                0\n",
      "6                   0                                   False                0\n",
      "  quoted_status_userid quoted_status_username                extractedts\n",
      "1                    0                        2023-02-25 04:10:46.294831\n",
      "2                    0                        2023-02-25 04:35:32.939981\n",
      "3                    0                        2023-02-25 04:35:32.930885\n",
      "4                    0                        2023-02-25 04:35:32.912346\n",
      "5                    0                        2023-02-25 00:36:59.975706\n",
      "6                    0                        2023-02-25 07:05:49.179112\n",
      "  sentiment     score\n",
      "1       neu 0.4416097\n",
      "2       neu 0.8274779\n",
      "3       neu 0.8024696\n",
      "4       neu 0.5783824\n",
      "5       neu 0.7964669\n",
      "6       neu 0.5695367\n"
     ]
    }
   ],
   "source": [
    "df <- load_csv_file(\"../Dataset/Sentiment_en_tweet_2023.csv\")"
   ]
  },
  {
   "cell_type": "markdown",
   "id": "92b59b9c-4716-4063-baef-08c6718d7524",
   "metadata": {},
   "source": [
    "# 2 Definizione delle variabili aleatorie"
   ]
  },
  {
   "cell_type": "markdown",
   "id": "24ded777-f07c-4681-b18e-f981905baff1",
   "metadata": {},
   "source": [
    "## 2.1 Estrazione tweet in una finestra di 30 minuti"
   ]
  },
  {
   "cell_type": "code",
   "execution_count": 3,
   "id": "1fa8a05e-61cd-42f5-be4b-166e648fe599",
   "metadata": {},
   "outputs": [
    {
     "name": "stderr",
     "output_type": "stream",
     "text": [
      "\n",
      "Caricamento pacchetto: 'dplyr'\n",
      "\n",
      "\n",
      "I seguenti oggetti sono mascherati da 'package:stats':\n",
      "\n",
      "    filter, lag\n",
      "\n",
      "\n",
      "I seguenti oggetti sono mascherati da 'package:base':\n",
      "\n",
      "    intersect, setdiff, setequal, union\n",
      "\n",
      "\n",
      "\n",
      "Caricamento pacchetto: 'lubridate'\n",
      "\n",
      "\n",
      "I seguenti oggetti sono mascherati da 'package:base':\n",
      "\n",
      "    date, intersect, setdiff, union\n",
      "\n",
      "\n"
     ]
    },
    {
     "name": "stdout",
     "output_type": "stream",
     "text": [
      "Numero di tweet generati nei primi 30 minuti: 751 \n",
      "Tweet con la time series minima:\n",
      "        userid        username\n",
      "1 2.224061e+07   AlArabiya_Eng\n",
      "2 1.252283e+08     apple2hotel\n",
      "3 1.365269e+18 TerryTheTipste1\n",
      "4 1.295405e+18 MayadeenEnglish\n",
      "                                                                                                                                        acctdesc\n",
      "1                                                                                  The Arab worldâ\\200\\231s leading source of global news and opinion.\n",
      "2                         Travel bookings can be made online through a travel  website through a traditional travel agent.\\n#travel #travelbuddy\n",
      "3 Sports Nut, Tipping Enthusiast. 80s music addict who loves betting on horses and all sport. Follow for FREE Betting Tips on variety of Sports.\n",
      "4                                                                                       The official Twitter page of Al Mayadeen English Website\n",
      "                  location following followers totaltweets       usercreatedts\n",
      "1                    Dubai        46    927188      337714 2009-02-28 08:31:32\n",
      "2 United States of America        93        36         335 2010-03-22 04:00:31\n",
      "3             South Africa      4122      1973       23131 2021-02-26 11:55:09\n",
      "4                                  7     18833       40331 2020-08-17 17:01:18\n",
      "      tweetid      tweetcreatedts retweetcount\n",
      "1 1.62927e+18 2023-02-25 00:00:01            2\n",
      "2 1.62927e+18 2023-02-25 00:00:01            0\n",
      "3 1.62927e+18 2023-02-25 00:00:01            0\n",
      "4 1.62927e+18 2023-02-25 00:00:01            4\n",
      "                                                                                                                                                                                                                                                                               text\n",
      "1 ICYMI: Former Russian President Dmitry Medvedev says that the only way for #Moscow to ensure a lasting peace with Ukraine was to push back the borders of hostile states as far as possible, even if that meant the frontiers of #NATO member #Poland.\\n\\nhttps://t.co/X6UUkw4rbx\n",
      "2                                                                                                                                                              Explore the History and Culture of Moskva, Russia.\\n#Moskva #Russia\\nhttps://t.co/gqFzH951af https://t.co/dz55XUPOxa\n",
      "3                                            NHL\\nWINNIPEG JETS 1.41\\nbeat\\nCOLORADO AVALANCHE\\nHollywoodbets https://t.co/8oX1W4SWBY    \\n\\n#Gamblingtwitter #BNB #ETH #Bitcoin #BTC #loveisland #BBTaitans #Crypto #Horses #NFT #Ukraine #Russia  #sports https://t.co/CcqrLJ5NUA\n",
      "4                                                  On the one-year anniversary of the start of the #Ukraine war, #French right-wing leader Marine Le Pen suggested in a letter that her country should host a peace conference between Ukraine and #Russia. https://t.co/hqKhUpMjC1\n",
      "                                                                                                                                                                                                                                                                                                                                                                                                                                                                                                                                                                              hashtags\n",
      "1                                                                                                                                                                                                                                                                                                                                                                                                                                                        [{'text': 'Moscow', 'indices': [75, 82]}, {'text': 'NATO', 'indices': [225, 230]}, {'text': 'Poland', 'indices': [238, 245]}]\n",
      "2                                                                                                                                                                                                                                                                                                                                                                                                                                                                                                   [{'text': 'Moskva', 'indices': [51, 58]}, {'text': 'Russia', 'indices': [59, 66]}]\n",
      "3 [{'text': 'Gamblingtwitter', 'indices': [90, 106]}, {'text': 'BNB', 'indices': [107, 111]}, {'text': 'ETH', 'indices': [112, 116]}, {'text': 'Bitcoin', 'indices': [117, 125]}, {'text': 'BTC', 'indices': [126, 130]}, {'text': 'loveisland', 'indices': [131, 142]}, {'text': 'BBTaitans', 'indices': [143, 153]}, {'text': 'Crypto', 'indices': [154, 161]}, {'text': 'Horses', 'indices': [162, 169]}, {'text': 'NFT', 'indices': [170, 174]}, {'text': 'Ukraine', 'indices': [175, 183]}, {'text': 'Russia', 'indices': [184, 191]}, {'text': 'sports', 'indices': [193, 200]}]\n",
      "4                                                                                                                                                                                                                                                                                                                                                                                                                                                       [{'text': 'Ukraine', 'indices': [48, 56]}, {'text': 'French', 'indices': [62, 69]}, {'text': 'Russia', 'indices': [192, 199]}]\n",
      "  language coordinates favorite_count is_retweet original_tweet_id\n",
      "1       en                          4      False                 0\n",
      "2       en                          0      False                 0\n",
      "3       en                          3      False                 0\n",
      "4       en                          4      False                 0\n",
      "  original_tweet_userid original_tweet_username in_reply_to_status_id\n",
      "1                     0                                             0\n",
      "2                     0                                             0\n",
      "3                     0                                             0\n",
      "4                     0                                             0\n",
      "  in_reply_to_user_id in_reply_to_screen_name is_quote_status quoted_status_id\n",
      "1                   0                                   False                0\n",
      "2                   0                                   False                0\n",
      "3                   0                                   False                0\n",
      "4                   0                                   False                0\n",
      "  quoted_status_userid quoted_status_username                extractedts\n",
      "1                    0                        2023-02-25 04:10:46.294831\n",
      "2                    0                        2023-02-25 04:35:32.939981\n",
      "3                    0                        2023-02-25 04:35:32.930885\n",
      "4                    0                        2023-02-25 04:35:32.912346\n",
      "  sentiment     score\n",
      "1       neu 0.4416097\n",
      "2       neu 0.8274779\n",
      "3       neu 0.8024696\n",
      "4       neu 0.5783824\n",
      "Tweet con la time series massima:\n",
      "        userid      username\n",
      "1 1.807484e+08     orfonline\n",
      "2 1.473249e+09 EandPCartoons\n",
      "3 2.572338e+07 LisetteBrodey\n",
      "4 1.282574e+18    ripetvnews\n",
      "5 2.224061e+07 AlArabiya_Eng\n",
      "6 2.578032e+07      ipaulFFR\n",
      "                                                                                                                                                                      acctdesc\n",
      "1                                                              Nonâ\\200“partisan, independent analyses on security, strategy, economy, development, energy and global governance.\n",
      "2                                                                                                                                               Editorial & Political Cartoons\n",
      "3 ðŸ¦‰ Multigenre author of 12 books. ðŸ“š Latest: ALL THAT WAS TAKEN.  All books on Amazon: https://t.co/TygQDcyACy * Member, SAG-AFTRA â\\200¢ Animal lover ðŸŒŠðŸ\\220¶ðŸ\\220±ðŸ\\220\\230ðŸ\\220¿\n",
      "4                                                                                                              Latest and Breaking News and Updates from all Around the World.\n",
      "5                                                                                                                The Arab worldâ\\200\\231s leading source of global news and opinion.\n",
      "6                             Russian-American actor (SAG-AFTRA), published writer, award-winning filmmaker, social media manager\\nBrooklyn College, Communication BA #lgbtqia\n",
      "           location following followers totaltweets       usercreatedts\n",
      "1             India       152    123172      370230 2010-08-20 11:19:22\n",
      "2              U.S.       313      7829       48451 2013-05-31 22:53:04\n",
      "3       Los Angeles     23280     37561      287241 2009-03-21 20:25:34\n",
      "4                           4       187        3124 2020-07-13 07:16:00\n",
      "5             Dubai        46    927186      337709 2009-02-28 08:31:32\n",
      "6 San Francisco, CA      1906      1942        9553 2009-03-22 04:24:35\n",
      "       tweetid      tweetcreatedts retweetcount\n",
      "1 1.629277e+18 2023-02-25 00:30:00            0\n",
      "2 1.629277e+18 2023-02-25 00:30:00            8\n",
      "3 1.629277e+18 2023-02-25 00:30:00            1\n",
      "4 1.629277e+18 2023-02-25 00:30:00            0\n",
      "5 1.629277e+18 2023-02-25 00:30:00            0\n",
      "6 1.629277e+18 2023-02-25 00:30:00            0\n",
      "                                                                                                                                                                                                                                                                                     text\n",
      "1               Diplomatic outreach to #Europe was largely aimed at persuading the European allies to provide weapons &amp; larger #military assistance to support the Ukrainian military to counter the expected #Russian spring offensive, writes @ankitadutta5 https://t.co/F30f5sZlpI\n",
      "2                                                                                                                                                          Rob Rogers, https://t.co/5W2bjfGrof @Rob_Rogers \\n#UkraineWar #OneYearAnniversary #PutinIsaWarCriminal https://t.co/0WuU74tPlC\n",
      "3                                                     These Masks Brought Shame to Gossips, Drunks, and Narcissists\\n\\nIn 17th-century #Germany, a â\\200œschandmaskeâ\\200\\235 was the prescribed punishment for social transgression. ðŸ‘¹ ðŸ‘º\\n\\nhttps://t.co/27C2iQhgtm https://t.co/aUaK9pj7JT\n",
      "4                                                                                                             Russiaâ\\200\\231s combat losses in #UkraineRussiaWar on all fronts including Soledar and #Bakhmut as of Feb. 24 according to the Armed Forces of Ukraine.\\nhttps://t.co/IuUQm5APIe\n",
      "5                                                                                             Ukrainian President Volodymyr Zelenskyy says he plans to meet Chinese President Xi Jinping but did not say when such a meeting might take place. #Ukraine #China\\n\\nhttps://t.co/EddW0ZL2eh\n",
      "6 @nypost Check out Season 2 Episode 9 - Beet Salad Vinegret! ðŸ\\230‹ #CookingwithNatasha #Cooking #CookingTips #HowTo #DIY #chef #dragqueen #Russian #LGBTQIA #GLBT #comedy #beets #beetsalad #salad #healthyfood #cookingtime #cookingvideo #cookingathome #recipe https://t.co/vQFwBtjPrH\n",
      "                                                                                                                                                                                                                                                                                                                                                                                                                                                                                                                                                                                                                                                                                                                                                                                                                                                                             hashtags\n",
      "1                                                                                                                                                                                                                                                                                                                                                                                                                                                                                                                                                                                                                                                                                                                                                  [{'text': 'Europe', 'indices': [23, 30]}, {'text': 'military', 'indices': [115, 124]}, {'text': 'Russian', 'indices': [194, 202]}]\n",
      "2                                                                                                                                                                                                                                                                                                                                                                                                                                                                                                                                                                                                                                                                                                                           [{'text': 'UkraineWar', 'indices': [49, 60]}, {'text': 'OneYearAnniversary', 'indices': [61, 80]}, {'text': 'PutinIsaWarCriminal', 'indices': [81, 101]}]\n",
      "3                                                                                                                                                                                                                                                                                                                                                                                                                                                                                                                                                                                                                                                                                                                                                                                                                                          [{'text': 'Germany', 'indices': [79, 87]}]\n",
      "4                                                                                                                                                                                                                                                                                                                                                                                                                                                                                                                                                                                                                                                                                                                                                                                       [{'text': 'UkraineRussiaWar', 'indices': [26, 43]}, {'text': 'Bakhmut', 'indices': [80, 88]}]\n",
      "5                                                                                                                                                                                                                                                                                                                                                                                                                                                                                                                                                                                                                                                                                                                                                                                              [{'text': 'Ukraine', 'indices': [145, 153]}, {'text': 'China', 'indices': [154, 160]}]\n",
      "6 [{'text': 'CookingwithNatasha', 'indices': [62, 81]}, {'text': 'Cooking', 'indices': [82, 90]}, {'text': 'CookingTips', 'indices': [91, 103]}, {'text': 'HowTo', 'indices': [104, 110]}, {'text': 'DIY', 'indices': [111, 115]}, {'text': 'chef', 'indices': [116, 121]}, {'text': 'dragqueen', 'indices': [122, 132]}, {'text': 'Russian', 'indices': [133, 141]}, {'text': 'LGBTQIA', 'indices': [142, 150]}, {'text': 'GLBT', 'indices': [151, 156]}, {'text': 'comedy', 'indices': [157, 164]}, {'text': 'beets', 'indices': [165, 171]}, {'text': 'beetsalad', 'indices': [172, 182]}, {'text': 'salad', 'indices': [183, 189]}, {'text': 'healthyfood', 'indices': [190, 202]}, {'text': 'cookingtime', 'indices': [203, 215]}, {'text': 'cookingvideo', 'indices': [216, 229]}, {'text': 'cookingathome', 'indices': [230, 244]}, {'text': 'recipe', 'indices': [245, 252]}]\n",
      "  language coordinates favorite_count is_retweet original_tweet_id\n",
      "1       en                          0      False                 0\n",
      "2       en                         17      False                 0\n",
      "3       en                          1      False                 0\n",
      "4       en                          0      False                 0\n",
      "5       en                          1      False                 0\n",
      "6       en                          0      False                 0\n",
      "  original_tweet_userid original_tweet_username in_reply_to_status_id\n",
      "1                     0                                  0.000000e+00\n",
      "2                     0                                  0.000000e+00\n",
      "3                     0                                  0.000000e+00\n",
      "4                     0                                  0.000000e+00\n",
      "5                     0                                  0.000000e+00\n",
      "6                     0                                  1.627907e+18\n",
      "  in_reply_to_user_id in_reply_to_screen_name is_quote_status quoted_status_id\n",
      "1                   0                                   False                0\n",
      "2                   0                                   False                0\n",
      "3                   0                                   False                0\n",
      "4                   0                                   False                0\n",
      "5                   0                                   False                0\n",
      "6            25780320                ipaulFFR           False                0\n",
      "  quoted_status_userid quoted_status_username                extractedts\n",
      "1                    0                        2023-02-25 03:20:23.868980\n",
      "2                    0                        2023-02-25 03:35:24.344444\n",
      "3                    0                        2023-02-25 01:04:28.227870\n",
      "4                    0                        2023-02-25 10:30:34.636131\n",
      "5                    0                        2023-02-25 01:40:31.336026\n",
      "6                    0                        2023-02-25 03:20:23.860330\n",
      "  sentiment     score\n",
      "1       neu 0.4167015\n",
      "2       neu 0.6790848\n",
      "3       neg 0.8845392\n",
      "4       neg 0.7156049\n",
      "5       neu 0.8405280\n",
      "6       neu 0.5675581\n"
     ]
    }
   ],
   "source": [
    "library(dplyr)\n",
    "library(lubridate)  # Per lavorare facilmente con date e orari\n",
    "\n",
    "# Assumendo che la colonna sia già in formato \"anno-mese-giorno ore:minuti:secondi\"\n",
    "# Verifico che la colonna sia di tipo POSIXct\n",
    "if (!inherits(df$tweetcreatedts, \"POSIXct\")) {\n",
    "  dff <- df %>%\n",
    "    mutate(tweetcreatedts = as.POSIXct(tweetcreatedts, format = \"%Y-%m-%d %H:%M:%S\"))\n",
    "}\n",
    "\n",
    "# Calcolo l'intervallo temporale (primi 30 minuti)\n",
    "start_time <- min(dff$tweetcreatedts, na.rm = TRUE)  # Primo timestamp\n",
    "end_time <- start_time + minutes(30)  # Aggiungi 30 minuti\n",
    "\n",
    "# Filtro i dati nel range specificato\n",
    "df_30min <- dff %>%\n",
    "  filter(tweetcreatedts >= start_time & tweetcreatedts < end_time)\n",
    "\n",
    "# Numero di tweet generati\n",
    "num_tweets <- nrow(df_30min)\n",
    "\n",
    "# Tweet con time series minima e massima\n",
    "min_tweet <- df_30min %>% filter(tweetcreatedts == min(tweetcreatedts))\n",
    "max_tweet <- df_30min %>% filter(tweetcreatedts == max(tweetcreatedts))\n",
    "\n",
    "# Stampo i risultati\n",
    "cat(\"Numero di tweet generati nei primi 30 minuti:\", num_tweets, \"\\n\")\n",
    "cat(\"Tweet con la time series minima:\\n\")\n",
    "print(min_tweet)\n",
    "cat(\"Tweet con la time series massima:\\n\")\n",
    "print(max_tweet)"
   ]
  },
  {
   "cell_type": "markdown",
   "id": "61657eb9-e02e-4ad0-aee3-7aabec6ef711",
   "metadata": {},
   "source": [
    "# 3 Stima puntuale"
   ]
  },
  {
   "cell_type": "markdown",
   "id": "c11666fe-14fa-4b73-9d18-6f5df46da86b",
   "metadata": {},
   "source": [
    "## 3.1 Stampa numero di tweet con sentiment negativi"
   ]
  },
  {
   "cell_type": "code",
   "execution_count": 4,
   "id": "2bc3c13e-9e09-48d6-8c3e-ee53318f8382",
   "metadata": {},
   "outputs": [
    {
     "name": "stdout",
     "output_type": "stream",
     "text": [
      "Numero di tweet positivi nei primi 30 minuti: 429 \n",
      "Numero di tweet totali nei primi 30 minuti: 751 \n",
      "\n",
      "Probabilità 'campionaria' relativa ai sentiment negativi: 0.5712383 \n"
     ]
    }
   ],
   "source": [
    "library(dplyr)\n",
    "\n",
    "# Estraggo solo i tweet con sentiment positivo\n",
    "df_30min_neg <- df_30min %>% filter(sentiment==\"neg\")\n",
    "\n",
    "# Numero di tweet generati\n",
    "num_tweets_neg <- nrow(df_30min_neg)\n",
    "\n",
    "cat(\"Numero di tweet positivi nei primi 30 minuti:\", num_tweets_neg, \"\\n\")\n",
    "cat(\"Numero di tweet totali nei primi 30 minuti:\", num_tweets, \"\\n\\n\")\n",
    "cat(\"Probabilità 'campionaria' relativa ai sentiment negativi:\", num_tweets_neg/num_tweets, \"\\n\")"
   ]
  },
  {
   "cell_type": "markdown",
   "id": "4d279bd4-b916-4b3e-afef-9fc66a734a35",
   "metadata": {},
   "source": [
    "# 4 Intervallo di confidenza"
   ]
  },
  {
   "cell_type": "markdown",
   "id": "48649559-ac3a-4106-8010-44f970f8adee",
   "metadata": {},
   "source": [
    "## 4.1 Verifico se la distribuzione segue una normale approssimativa"
   ]
  },
  {
   "cell_type": "markdown",
   "id": "a567894f-1000-4ba9-a420-8eb9e9f4a975",
   "metadata": {},
   "source": [
    "Per far sì che si approssima alla normale è necessario che np^>5 e che n(1-p^)>5 dove:\n",
    "- n: numero tweet\n",
    "- p^: proporzione tweet negativi\n",
    "- 1-p^: proporzione tweet non negativi"
   ]
  },
  {
   "cell_type": "code",
   "execution_count": 5,
   "id": "9701a348-956f-4e5f-82c0-63dfbd604e66",
   "metadata": {},
   "outputs": [
    {
     "name": "stdout",
     "output_type": "stream",
     "text": [
      "np = 429 \n",
      "n(1-p) = 322 \n",
      "La distribuzione dei tweet è un'approssimazione della normale\n"
     ]
    }
   ],
   "source": [
    "# Ricavo la proporzione\n",
    "p <- num_tweets_neg/num_tweets\n",
    "\n",
    "# Ricavo gli elementi di verifica\n",
    "np <- num_tweets*p\n",
    "np_neg <- num_tweets*(1-p)\n",
    "\n",
    "# Stampa degli elementi di verifica\n",
    "cat(\"np =\", np, \"\\nn(1-p) =\", np_neg, \"\\n\")\n",
    "\n",
    "# Verifica della distribuzione\n",
    "if (np > 5 && np_neg > 5) {\n",
    "  cat(\"La distribuzione dei tweet è un'approssimazione della normale\\n\")\n",
    "} else {\n",
    "  cat(\"La distribuzione dei tweet NON è un'approssimazione della normale\\n\")\n",
    "}\n"
   ]
  },
  {
   "cell_type": "markdown",
   "id": "3c921bc0-621f-48ee-a177-464352b0ae91",
   "metadata": {},
   "source": [
    "## 4.2 Stampa del plot che verifica tale affermazione"
   ]
  },
  {
   "cell_type": "code",
   "execution_count": 6,
   "id": "81c4e8c0-e584-40eb-99ba-fbdb80149b9c",
   "metadata": {},
   "outputs": [
    {
     "name": "stderr",
     "output_type": "stream",
     "text": [
      "Warning message:\n",
      "\"\u001b[1m\u001b[22mUsing `size` aesthetic for lines was deprecated in ggplot2 3.4.0.\n",
      "\u001b[36mi\u001b[39m Please use `linewidth` instead.\"\n"
     ]
    },
    {
     "data": {
      "image/png": "[encoded data removed]",
      "text/plain": [
       "plot without title"
      ]
     },
     "metadata": {
      "image/png": {
       "height": 420,
       "width": 420
      }
     },
     "output_type": "display_data"
    }
   ],
   "source": [
    "library(ggplot2)\n",
    "\n",
    "# Calcolo dei valori attesi dalla distribuzione normale\n",
    "x <- 0:num_tweets_neg  # Possibili valori di tweet \"negativi\"\n",
    "mu <- num_tweets_neg * p  # Media della distribuzione binomiale [E(X) = np]\n",
    "sigma <- sqrt(num_tweets_neg * p * (1 - p))  # Deviazione standard della distribuzione binomiale [sqrt(VAR(X) = sqrt(kp(1-p)]\n",
    "\n",
    "y_binom <- dbinom(x, size = num_tweets_neg, prob = p)  # Probabilità binomiale\n",
    "y_norm <- dnorm(x, mean = mu, sd = sigma)  # Probabilità della normale approssimata\n",
    "\n",
    "# Creazione del dataframe per il plot\n",
    "data_plot <- data.frame(\n",
    "  x = x,\n",
    "  Binomiale = y_binom,\n",
    "  Normale = y_norm\n",
    ")\n",
    "\n",
    "# Plot delle due distribuzioni\n",
    "ggplot(data_plot, aes(x = x)) +\n",
    "  geom_line(aes(y = Binomiale, color = \"Binomiale\"), size = 1) +\n",
    "  geom_line(aes(y = Normale, color = \"Normale\"), linetype = \"dashed\", size = 1) +\n",
    "  labs(title = \"Confronto tra distribuzione Binomiale e Normale\",\n",
    "       x = \"Numero di tweet negativi\",\n",
    "       y = \"Probabilità\",\n",
    "       color = \"Distribuzione\") +\n",
    "  theme_minimal()\n"
   ]
  },
  {
   "cell_type": "markdown",
   "id": "1db23bbb-b5c7-4c9f-8918-49ae624da851",
   "metadata": {},
   "source": [
    "## 4.3 Calcolo dell'intervallo di confidenza"
   ]
  },
  {
   "cell_type": "markdown",
   "id": "bd8a1d2f-8e80-4b61-bc48-4d53d9b89cff",
   "metadata": {},
   "source": [
    "fonti: intervallo di confidenza per grandi campioni - binomiale"
   ]
  },
  {
   "cell_type": "code",
   "execution_count": 7,
   "id": "e7773c64-8e6e-4228-94e6-fd9f9d681377",
   "metadata": {},
   "outputs": [
    {
     "name": "stdout",
     "output_type": "stream",
     "text": [
      "Valore critico della normale standard:  1.959964 \n",
      "Intervallo di confidenza al 95% per la proporzione: \n",
      "Inferiore: 0.5358431 \n",
      "Superiore: 0.6066336 \n"
     ]
    }
   ],
   "source": [
    "# Stima dei parametri\n",
    "p_hat <- num_tweets_neg / num_tweets  # Proporzione stimata\n",
    "mu_hat <- num_tweets * p_hat          # Media stimata\n",
    "sigma_hat <- sqrt(num_tweets * p_hat * (1 - p_hat))  # Deviazione standard stimata\n",
    "\n",
    "# Intervallo di confidenza\n",
    "alpha <- 0.05  # Livello di significatività (per il 95% CI)\n",
    "z_alpha <- qnorm(1 - alpha / 2, mean=0, sd=1)  # Valore critico della normale standard\n",
    "\n",
    "cat(\"Valore critico della normale standard: \",z_alpha,\"\\n\");\n",
    "\n",
    "ci_lower <- p_hat - z_alpha * sqrt(p_hat * (1 - p_hat) / num_tweets)\n",
    "ci_upper <- p_hat + z_alpha * sqrt(p_hat * (1 - p_hat) / num_tweets)\n",
    "\n",
    "cat(\"Intervallo di confidenza al 95% per la proporzione:\", \"\\n\")\n",
    "cat(\"Inferiore:\", ci_lower, \"\\nSuperiore:\", ci_upper, \"\\n\")\n"
   ]
  },
  {
   "cell_type": "code",
   "execution_count": 10,
   "id": "5c5bad24-23c1-47d6-9a1e-d9b8ffbbcca7",
   "metadata": {},
   "outputs": [
    {
     "name": "stdout",
     "output_type": "stream",
     "text": [
      "Intervallo di confidenza con soluzione quadratica:\n",
      "Inferiore: 0.5355689 \n",
      "Superiore: 0.6061827 \n",
      "Intervallo di confidenza con approssimazione normale:\n",
      "Inferiore: 0.5358431 \n",
      "Superiore: 0.6066336 \n"
     ]
    }
   ],
   "source": [
    "p_hat <- num_tweets_neg / num_tweets\n",
    "\n",
    "alpha <- 0.05\n",
    "zalpha <- qnorm(1 - alpha/2, mean=0, sd=1)\n",
    "n <- num_tweets\n",
    "lanci <- 1 # Importante: lanci = 1 in questo contesto num_tweets\n",
    "\n",
    "a2 <- lanci*(n*lanci + zalpha^2)\n",
    "a1 <- -lanci*(2*n*p_hat + zalpha^2)\n",
    "a0 <- n*(p_hat)^2\n",
    "\n",
    "radici <- polyroot(c(a0, a1, a2))\n",
    "ci_lower_quad <- min(Re(radici)) # Prendo la parte reale e il minimo\n",
    "ci_upper_quad <- max(Re(radici)) # Prendo la parte reale e il massimo\n",
    "\n",
    "\n",
    "cat(\"Intervallo di confidenza con soluzione quadratica:\\n\")\n",
    "cat(\"Inferiore:\", ci_lower_quad, \"\\nSuperiore:\", ci_upper_quad, \"\\n\")\n",
    "\n",
    "ci_lower <- p_hat - zalpha * sqrt(p_hat * (1 - p_hat) / num_tweets)\n",
    "ci_upper <- p_hat + zalpha * sqrt(p_hat * (1 - p_hat) / num_tweets)\n",
    "\n",
    "cat(\"Intervallo di confidenza con approssimazione normale:\\n\")\n",
    "cat(\"Inferiore:\", ci_lower, \"\\nSuperiore:\", ci_upper, \"\\n\")"
   ]
  },
  {
   "cell_type": "markdown",
   "id": "547603ca-92c4-49c6-9588-5da4f77df2c1",
   "metadata": {},
   "source": [
    "# 5 Ipotesi e test"
   ]
  },
  {
   "cell_type": "markdown",
   "id": "86cb0577-a9f3-4ac4-ab4f-a698844a1d80",
   "metadata": {},
   "source": [
    "Formulazione delle ipotesi:\n",
    "- 𝐻0: 𝑝 = 0.5712383\n",
    "- H0: p != 0.5712383"
   ]
  },
  {
   "cell_type": "code",
   "execution_count": 16,
   "id": "d9c33752-f645-45f7-88ba-95b5eb99e2de",
   "metadata": {},
   "outputs": [
    {
     "name": "stdout",
     "output_type": "stream",
     "text": [
      "Approssimazione Normale:\n",
      "Statistica test z: -1.949557 \n",
      "Valore critico z: 1.959964 \n",
      "P-value: 0.05122894 \n",
      "Non rifiuto H0\n",
      "\n",
      "Soluzione Quadratica:\n",
      "Intervallo di Confidenza: ( 0.5355689 , 0.6061827 )\n",
      "Non rifiuto H0\n"
     ]
    }
   ],
   "source": [
    "p0 <- 0.606\n",
    "alpha <- 0.05\n",
    "\n",
    "# Approssimazione Normale\n",
    "z <- (p_hat - p0) / sqrt(p0 * (1 - p0) / n)\n",
    "z_crit <- qnorm(1 - alpha/2)\n",
    "p_value <- 2 * (1 - pnorm(abs(z)))\n",
    "\n",
    "cat(\"Approssimazione Normale:\\n\")\n",
    "cat(\"Statistica test z:\", z, \"\\n\")\n",
    "cat(\"Valore critico z:\", z_crit, \"\\n\")\n",
    "cat(\"P-value:\", p_value, \"\\n\")\n",
    "\n",
    "if (abs(z) > z_crit) {\n",
    "  cat(\"Rifiuto H0\\n\")\n",
    "} else {\n",
    "  cat(\"Non rifiuto H0\\n\")\n",
    "}\n",
    "\n",
    "# Soluzione Quadratica\n",
    "a2 <- n + z_crit^2\n",
    "a1 <- -2 * n * p_hat - z_crit^2\n",
    "a0 <- n * p_hat^2\n",
    "\n",
    "radici <- polyroot(c(a0, a1, a2))\n",
    "ci_lower_quad <- min(Re(radici))\n",
    "ci_upper_quad <- max(Re(radici))\n",
    "\n",
    "cat(\"\\nSoluzione Quadratica:\\n\")\n",
    "cat(\"Intervallo di Confidenza: (\", ci_lower_quad, \",\", ci_upper_quad, \")\\n\")\n",
    "\n",
    "if (p0 < ci_lower_quad || p0 > ci_upper_quad) {\n",
    "  cat(\"Rifiuto H0\\n\")\n",
    "} else {\n",
    "  cat(\"Non rifiuto H0\\n\")\n",
    "}"
   ]
  },
  {
   "cell_type": "markdown",
   "id": "7ca4b7ea-040d-4c4d-b1c2-abd6fe70a4b8",
   "metadata": {},
   "source": [
    "# 6 Test del chi-quadrato"
   ]
  },
  {
   "cell_type": "code",
   "execution_count": 27,
   "id": "e67bd276-3e6e-4fb3-b257-29155da7c349",
   "metadata": {},
   "outputs": [
    {
     "name": "stdout",
     "output_type": "stream",
     "text": [
      "   neg    neu    pos \n",
      "467532 208415 100642 \n"
     ]
    }
   ],
   "source": [
    "# Estraggo il numero di sentiment da df\n",
    "sentiment_table <- table(df$sentiment)\n",
    "sentiment_vector <- as.vector(sentiment_table)\n",
    "names(sentiment_vector) <- names(sentiment_table) # Mantieni i nomi per chiarezza\n",
    "\n",
    "print(sentiment_vector)"
   ]
  },
  {
   "cell_type": "code",
   "execution_count": 26,
   "id": "6f172692-3b92-4c27-bb74-99f9fe9e900c",
   "metadata": {},
   "outputs": [
    {
     "name": "stdout",
     "output_type": "stream",
     "text": [
      "neg neu pos \n",
      "429 234  88 \n"
     ]
    }
   ],
   "source": [
    "# Estraggo il numero di sentiment da df\n",
    "sentiment_table_30min <- table(df_30min$sentiment)\n",
    "sentiment_vector_30min <- as.vector(sentiment_table_30min)\n",
    "names(sentiment_vector_30min) <- names(sentiment_table_30min) # Mantieni i nomi per chiarezza\n",
    "\n",
    "print(sentiment_vector_30min)"
   ]
  },
  {
   "cell_type": "code",
   "execution_count": 30,
   "id": "b49470b7-f2bd-4799-84f2-a594603c5a08",
   "metadata": {},
   "outputs": [
    {
     "name": "stdout",
     "output_type": "stream",
     "text": [
      "Statistica test chi-quadrato: 775087.7 \n",
      "Gradi di libertà: 2 \n",
      "Valore critico: 5.991465 \n",
      "P-value: 0 \n",
      "Rifiuto l'ipotesi nulla: il campione non è rappresentativo della popolazione.\n",
      "Rifiuto l'ipotesi nulla (basato sul p-value).\n"
     ]
    }
   ],
   "source": [
    "# Verifica che i nomi siano gli stessi e nello stesso ordine (ESSENZIALE!)\n",
    "if(!identical(names(sentiment_vector), names(sentiment_vector_30min))) {\n",
    "  stop(\"Errore: I nomi dei vettori non corrispondono. Assicurati che le categorie siano le stesse e nello stesso ordine.\")\n",
    "}\n",
    "\n",
    "# Calcolo del chi-quadrato\n",
    "chi2 <- sum((sentiment_vector - sentiment_vector_30min)^2 / sentiment_vector)\n",
    "\n",
    "# Gradi di libertà\n",
    "df <- length(sentiment_vector) - 1\n",
    "\n",
    "# Livello di significatività\n",
    "alpha <- 0.05\n",
    "\n",
    "# Valore critico\n",
    "valore_critico <- qchisq(1 - alpha, df)\n",
    "\n",
    "# P-value\n",
    "p_value <- 1 - pchisq(chi2, df)\n",
    "\n",
    "cat(\"Statistica test chi-quadrato:\", chi2, \"\\n\")\n",
    "cat(\"Gradi di libertà:\", df, \"\\n\")\n",
    "cat(\"Valore critico:\", valore_critico, \"\\n\")\n",
    "cat(\"P-value:\", p_value, \"\\n\")\n",
    "\n",
    "if (chi2 > valore_critico) {\n",
    "  cat(\"Rifiuto l'ipotesi nulla: il campione non è rappresentativo della popolazione.\\n\")\n",
    "} else {\n",
    "  cat(\"Non rifiuto l'ipotesi nulla: il campione potrebbe essere rappresentativo della popolazione.\\n\")\n",
    "}\n",
    "\n",
    "if (p_value < alpha) {\n",
    "  cat(\"Rifiuto l'ipotesi nulla (basato sul p-value).\\n\")\n",
    "} else {\n",
    "  cat(\"Non rifiuto l'ipotesi nulla (basato sul p-value).\\n\")\n",
    "}"
   ]
  },
  {
   "cell_type": "markdown",
   "id": "d808492a-b47c-4fe6-b8d1-bb2e3009927e",
   "metadata": {},
   "source": [
    "# 7 Conclusioni"
   ]
  },
  {
   "cell_type": "markdown",
   "id": "6b1fb58d-31d0-4656-a0ae-69e40951f922",
   "metadata": {},
   "source": [
    "Il campione di 30 minuti è troppo piccolo per rappresentare un dataset di 7 giorni"
   ]
  },
  {
   "cell_type": "markdown",
   "id": "bd889b5f-e228-4c02-b0da-066410fd8f10",
   "metadata": {},
   "source": [
    "# 8 Ricavo il minimo campione più rappresnetativo"
   ]
  },
  {
   "cell_type": "markdown",
   "id": "1bfcd1fa-4578-44d0-87f1-bb1a15511c44",
   "metadata": {},
   "source": [
    "### 8.1.1 Estrazione dataset"
   ]
  },
  {
   "cell_type": "code",
   "execution_count": 47,
   "id": "a445366a-61ec-4acc-9cb6-e843fb98ad6c",
   "metadata": {},
   "outputs": [
    {
     "name": "stdout",
     "output_type": "stream",
     "text": [
      "Il file è stato trovato: ../Dataset/Sentiment_en_tweet_2023.csv \n",
      "Contenuto del file CSV:\n",
      "        userid        username\n",
      "1 2.224061e+07   AlArabiya_Eng\n",
      "2 1.252283e+08     apple2hotel\n",
      "3 1.365269e+18 TerryTheTipste1\n",
      "4 1.295405e+18 MayadeenEnglish\n",
      "5 1.508116e+18   FloranceOlman\n",
      "6 1.616511e+18  NUHerbalHealth\n",
      "                                                                                                                                                   acctdesc\n",
      "1                                                                                             The Arab worldâ\\200\\231s leading source of global news and opinion.\n",
      "2                                    Travel bookings can be made online through a travel  website through a traditional travel agent.\\n#travel #travelbuddy\n",
      "3            Sports Nut, Tipping Enthusiast. 80s music addict who loves betting on horses and all sport. Follow for FREE Betting Tips on variety of Sports.\n",
      "4                                                                                                  The official Twitter page of Al Mayadeen English Website\n",
      "5                                                  ð\\235\\231\\201ð\\235\\231\\215ð\\235\\231\\200ð\\235\\231\\200 ð\\235\\231Žð\\235\\231‹ð\\235\\231„ð\\235\\231‰ð\\235\\231Ž ð\\235\\230¾ð\\235\\231Šð\\235\\231„ð\\235\\231‰ ð\\235\\231\\210ð\\235\\230¼ð\\235\\231Žð\\235\\231\\217ð\\235\\231\\200ð\\235\\231\\215\\nhttps://t.co/tXeaFea755\n",
      "6 Nu Herbal Health is a herbal supplement company based in Atlanta, \\nGeorgia. Our focus is to supplement our customers with products \\nthat will help them\n",
      "                  location following followers totaltweets       usercreatedts\n",
      "1                    Dubai        46    927188      337714 2009-02-28 08:31:32\n",
      "2 United States of America        93        36         335 2010-03-22 04:00:31\n",
      "3             South Africa      4122      1973       23131 2021-02-26 11:55:09\n",
      "4                                  7     18833       40331 2020-08-17 17:01:18\n",
      "5                                 75     29350        8148 2022-03-27 16:20:00\n",
      "6            United States         9         1          18 2023-01-20 19:00:51\n",
      "      tweetid      tweetcreatedts retweetcount\n",
      "1 1.62927e+18 2023-02-25 00:00:01            2\n",
      "2 1.62927e+18 2023-02-25 00:00:01            0\n",
      "3 1.62927e+18 2023-02-25 00:00:01            0\n",
      "4 1.62927e+18 2023-02-25 00:00:01            4\n",
      "5 1.62927e+18 2023-02-25 00:00:02            0\n",
      "6 1.62927e+18 2023-02-25 00:00:02            0\n",
      "                                                                                                                                                                                                                                                                                                                      text\n",
      "1                                        ICYMI: Former Russian President Dmitry Medvedev says that the only way for #Moscow to ensure a lasting peace with Ukraine was to push back the borders of hostile states as far as possible, even if that meant the frontiers of #NATO member #Poland.\\n\\nhttps://t.co/X6UUkw4rbx\n",
      "2                                                                                                                                                                                                     Explore the History and Culture of Moskva, Russia.\\n#Moskva #Russia\\nhttps://t.co/gqFzH951af https://t.co/dz55XUPOxa\n",
      "3                                                                                   NHL\\nWINNIPEG JETS 1.41\\nbeat\\nCOLORADO AVALANCHE\\nHollywoodbets https://t.co/8oX1W4SWBY    \\n\\n#Gamblingtwitter #BNB #ETH #Bitcoin #BTC #loveisland #BBTaitans #Crypto #Horses #NFT #Ukraine #Russia  #sports https://t.co/CcqrLJ5NUA\n",
      "4                                                                                         On the one-year anniversary of the start of the #Ukraine war, #French right-wing leader Marine Le Pen suggested in a letter that her country should host a peace conference between Ukraine and #Russia. https://t.co/hqKhUpMjC1\n",
      "5 GIVEAWAY Free 125K Spins ðŸŽ‰\\nIt's 100% working\\n\\n1- Comment ( spin )\\n2- Retweet Post\\n3- Like\\n4- Collect Here:  https://t.co/hUJNUZk4j3\\n\\n#coinmaster #coinmasterfreespins #coinmasterfreespinslink #CoinMasterspins #coinmasterofficial #coinmasters #coinmasterrewards #USA #uk #Germany https://t.co/EMdsaFu0RJ\n",
      "6               Optimize is synthesized utilizing grass-fed collagen peptides from healthy cows and provides nutrient-rich type I and III collagen peptides.\\nShop Now: https://t.co/xaDTMwK4cE\\n#heartattack #UkraineRussianWar #Pikachu #NewCoke #NewCoke #Pikachu #health #healthfoodie #health https://t.co/ny82tMoM0G\n",
      "                                                                                                                                                                                                                                                                                                                                                                                                                                                                                                                                                                              hashtags\n",
      "1                                                                                                                                                                                                                                                                                                                                                                                                                                                        [{'text': 'Moscow', 'indices': [75, 82]}, {'text': 'NATO', 'indices': [225, 230]}, {'text': 'Poland', 'indices': [238, 245]}]\n",
      "2                                                                                                                                                                                                                                                                                                                                                                                                                                                                                                   [{'text': 'Moskva', 'indices': [51, 58]}, {'text': 'Russia', 'indices': [59, 66]}]\n",
      "3 [{'text': 'Gamblingtwitter', 'indices': [90, 106]}, {'text': 'BNB', 'indices': [107, 111]}, {'text': 'ETH', 'indices': [112, 116]}, {'text': 'Bitcoin', 'indices': [117, 125]}, {'text': 'BTC', 'indices': [126, 130]}, {'text': 'loveisland', 'indices': [131, 142]}, {'text': 'BBTaitans', 'indices': [143, 153]}, {'text': 'Crypto', 'indices': [154, 161]}, {'text': 'Horses', 'indices': [162, 169]}, {'text': 'NFT', 'indices': [170, 174]}, {'text': 'Ukraine', 'indices': [175, 183]}, {'text': 'Russia', 'indices': [184, 191]}, {'text': 'sports', 'indices': [193, 200]}]\n",
      "4                                                                                                                                                                                                                                                                                                                                                                                                                                                       [{'text': 'Ukraine', 'indices': [48, 56]}, {'text': 'French', 'indices': [62, 69]}, {'text': 'Russia', 'indices': [192, 199]}]\n",
      "5                                                                      [{'text': 'coinmaster', 'indices': [133, 144]}, {'text': 'coinmasterfreespins', 'indices': [145, 165]}, {'text': 'coinmasterfreespinslink', 'indices': [166, 190]}, {'text': 'CoinMasterspins', 'indices': [191, 207]}, {'text': 'coinmasterofficial', 'indices': [208, 227]}, {'text': 'coinmasters', 'indices': [228, 240]}, {'text': 'coinmasterrewards', 'indices': [241, 259]}, {'text': 'USA', 'indices': [260, 264]}, {'text': 'uk', 'indices': [265, 268]}, {'text': 'Germany', 'indices': [269, 277]}]\n",
      "6                                                                                                                                                        [{'text': 'heartattack', 'indices': [175, 187]}, {'text': 'UkraineRussianWar', 'indices': [188, 206]}, {'text': 'Pikachu', 'indices': [207, 215]}, {'text': 'NewCoke', 'indices': [216, 224]}, {'text': 'NewCoke', 'indices': [225, 233]}, {'text': 'Pikachu', 'indices': [234, 242]}, {'text': 'health', 'indices': [243, 250]}, {'text': 'healthfoodie', 'indices': [251, 264]}, {'text': 'health', 'indices': [265, 272]}]\n",
      "  language coordinates favorite_count is_retweet original_tweet_id\n",
      "1       en                          4      False                 0\n",
      "2       en                          0      False                 0\n",
      "3       en                          3      False                 0\n",
      "4       en                          4      False                 0\n",
      "5       en                          0      False                 0\n",
      "6       en                          0      False                 0\n",
      "  original_tweet_userid original_tweet_username in_reply_to_status_id\n",
      "1                     0                                             0\n",
      "2                     0                                             0\n",
      "3                     0                                             0\n",
      "4                     0                                             0\n",
      "5                     0                                             0\n",
      "6                     0                                             0\n",
      "  in_reply_to_user_id in_reply_to_screen_name is_quote_status quoted_status_id\n",
      "1                   0                                   False                0\n",
      "2                   0                                   False                0\n",
      "3                   0                                   False                0\n",
      "4                   0                                   False                0\n",
      "5                   0                                   False                0\n",
      "6                   0                                   False                0\n",
      "  quoted_status_userid quoted_status_username                extractedts\n",
      "1                    0                        2023-02-25 04:10:46.294831\n",
      "2                    0                        2023-02-25 04:35:32.939981\n",
      "3                    0                        2023-02-25 04:35:32.930885\n",
      "4                    0                        2023-02-25 04:35:32.912346\n",
      "5                    0                        2023-02-25 00:36:59.975706\n",
      "6                    0                        2023-02-25 07:05:49.179112\n",
      "  sentiment     score\n",
      "1       neu 0.4416097\n",
      "2       neu 0.8274779\n",
      "3       neu 0.8024696\n",
      "4       neu 0.5783824\n",
      "5       neu 0.7964669\n",
      "6       neu 0.5695367\n"
     ]
    }
   ],
   "source": [
    "df <- load_csv_file(\"../Dataset/Sentiment_en_tweet_2023.csv\")"
   ]
  },
  {
   "cell_type": "markdown",
   "id": "526c5cbf-bb0f-424b-84e0-a7ecbb940caa",
   "metadata": {},
   "source": [
    "### 8.1.2 funzione per generare campioni"
   ]
  },
  {
   "cell_type": "code",
   "execution_count": 76,
   "id": "ee36cf19-fe09-4084-b2bd-7dfb03a6fbe7",
   "metadata": {},
   "outputs": [
    {
     "name": "stdout",
     "output_type": "stream",
     "text": [
      "[1] \"Dataframe con 200000 elementi casuali:\\n\"\n",
      "[1] 50000\n"
     ]
    }
   ],
   "source": [
    "estrai_elementi_casuali <- function(df, numero_elementi, restituisci_indici = FALSE) {\n",
    "  # Verifico che df sia un dataframe\n",
    "  if (!is.data.frame(df)) {\n",
    "    stop(\"Errore: 'df' deve essere un dataframe.\")\n",
    "  }\n",
    "\n",
    "  # Verifico che numero_elementi sia un numero intero positivo\n",
    "  if (!is.numeric(numero_elementi) || numero_elementi < 1 || numero_elementi != as.integer(numero_elementi)) {\n",
    "    stop(\"Errore: 'numero_elementi' deve essere un numero intero positivo.\")\n",
    "  }\n",
    "    \n",
    "    #Verifico che il numero di elementi richiesti non sia maggiore del numero di righe del dataframe\n",
    "    if (numero_elementi > nrow(df)){\n",
    "        stop(\"Errore: 'numero_elementi' non può essere maggiore del numero di righe del dataframe.\")\n",
    "    }\n",
    "\n",
    "  # Estraggo indici casuali\n",
    "  indici_casuali <- sample(1:nrow(df), numero_elementi, replace = FALSE)\n",
    "\n",
    "  if (restituisci_indici) {\n",
    "    return(indici_casuali)\n",
    "  } else {\n",
    "    # Estraggo le righe corrispondenti agli indici casuali\n",
    "    df_casuale <- df[indici_casuali, ]\n",
    "    return(df_casuale)\n",
    "  }\n",
    "}\n",
    "\n",
    "# Estraggo 3 elementi casuali\n",
    "df_campione <- estrai_elementi_casuali(df, 50000)\n",
    "print(\"Dataframe con 200000 elementi casuali:\\n\")\n",
    "print(nrow(df_campione))"
   ]
  },
  {
   "cell_type": "markdown",
   "id": "f60edb32-e694-4199-8949-23b386820cee",
   "metadata": {},
   "source": [
    "# 9 Test del chi-quadrato"
   ]
  },
  {
   "cell_type": "markdown",
   "id": "0695fd67-acdf-4ead-ac4b-17df69b8fc6b",
   "metadata": {},
   "source": [
    "Ipotesi nulla (𝐻0): La distribuzione del sentiment nel campione è uguale alla distribuzione del sentiment nella popolazione."
   ]
  },
  {
   "cell_type": "code",
   "execution_count": 77,
   "id": "d9f57a71-77ad-446e-a445-aa396d0d2719",
   "metadata": {},
   "outputs": [
    {
     "name": "stdout",
     "output_type": "stream",
     "text": [
      "Chi-quadro: 5.898956 \n",
      "Gradi di libertà: 2 \n",
      "P-valore: 0.05236703 \n",
      "Il risultato non è significativo: non rifiutiamo l'ipotesi nulla.\n"
     ]
    }
   ],
   "source": [
    "# Frequenze osservate nel campione\n",
    "frequenze_osservate <- table(df_campione$sentiment)\n",
    "\n",
    "# Frequenze attese nella popolazione (calcolate come proporzioni della popolazione)\n",
    "frequenze_attese <- prop.table(table(df$sentiment))\n",
    "\n",
    "# Calcolo le frequenze attese effettive per il campione\n",
    "frequenze_attese_completate <- frequenze_attese * length(df_campione$sentiment)\n",
    "\n",
    "# Applico il test chi-quadro\n",
    "test_chi2 <- chisq.test(frequenze_osservate, p = frequenze_attese_completate / sum(frequenze_attese_completate))\n",
    "\n",
    "# Definisco una soglia di significatività\n",
    "alpha <- 0.05   #ho scelto 0.05 perché risulta un ottimo bilanciamento dai tipi di errore I e II\n",
    "\n",
    "# Visualizzo i risultati\n",
    "cat(\"Chi-quadro:\", test_chi2$statistic, \"\\n\")\n",
    "cat(\"Gradi di libertà:\", test_chi2$parameter, \"\\n\")\n",
    "cat(\"P-valore:\", test_chi2$p.value, \"\\n\")\n",
    "\n",
    "# Confronto con la soglia\n",
    "if (test_chi2$p.value < alpha) {\n",
    "  cat(\"Il risultato è significativo: rifiutiamo l'ipotesi nulla.\\n\")\n",
    "} else {\n",
    "  cat(\"Il risultato non è significativo: non rifiutiamo l'ipotesi nulla.\\n\")\n",
    "}"
   ]
  },
  {
   "cell_type": "code",
   "execution_count": 87,
   "id": "ab706549-74b9-46c9-bdaf-70cf4ed90df5",
   "metadata": {},
   "outputs": [
    {
     "name": "stdout",
     "output_type": "stream",
     "text": [
      "\n",
      "      neg       neu       pos \n",
      "30101.637 13418.617  6479.747 \n"
     ]
    }
   ],
   "source": [
    "print(frequenze_attese * length(df_campione$sentiment))"
   ]
  },
  {
   "cell_type": "markdown",
   "id": "0fba5bd8-2a51-432e-a955-4b9432e7f602",
   "metadata": {},
   "source": [
    "# 10 Stima puntuale"
   ]
  },
  {
   "cell_type": "code",
   "execution_count": 79,
   "id": "c1be5e2e-1582-468b-a84c-dc627c34ee96",
   "metadata": {},
   "outputs": [
    {
     "name": "stdout",
     "output_type": "stream",
     "text": [
      "\n",
      "    neg     neu     pos \n",
      "0.59978 0.27280 0.12742 \n"
     ]
    }
   ],
   "source": [
    "# Calcolo la stima puntuale per ciascun sentiment (proporzioni)\n",
    "proporzioni_sentiment <- prop.table(table(df_campione$sentiment))\n",
    "\n",
    "# Visualizzo i risultati\n",
    "print(proporzioni_sentiment)"
   ]
  },
  {
   "cell_type": "markdown",
   "id": "a240fbff-4254-4153-af71-1e8dfbb20997",
   "metadata": {},
   "source": [
    "# 11 Intervalli di confidenza"
   ]
  },
  {
   "cell_type": "code",
   "execution_count": 80,
   "id": "c5909e5d-ffa9-4d38-8b7a-eab162931316",
   "metadata": {},
   "outputs": [
    {
     "name": "stdout",
     "output_type": "stream",
     "text": [
      "            neg      neu       pos\n",
      "lower 0.5954855 0.268896 0.1244973\n",
      "upper 0.6040745 0.276704 0.1303427\n"
     ]
    }
   ],
   "source": [
    "# Calcolare la proporzione di ciascun sentiment nel campione\n",
    "proporzioni_sentiment <- prop.table(table(df_campione$sentiment))\n",
    "\n",
    "# Funzione per calcolare l'intervallo di confidenza per una proporzione\n",
    "calcola_ic <- function(p, n, conf_level = 0.95) {\n",
    "  Z <- qnorm(1 - (1 - conf_level) / 2)  # Valore Z per il livello di confidenza (95% -> Z = 1.96)\n",
    "  errore_standard <- sqrt(p * (1 - p) / n)\n",
    "  margine_errore <- Z * errore_standard\n",
    "  ic_lower <- p - margine_errore\n",
    "  ic_upper <- p + margine_errore\n",
    "  return(c(lower = ic_lower, upper = ic_upper))\n",
    "}\n",
    "\n",
    "# Calcolare l'intervallo di confidenza per ciascuna proporzione\n",
    "n <- length(df_campione$sentiment)  # Dimensione del campione\n",
    "ic_sentiment <- sapply(proporzioni_sentiment, calcola_ic, n = n)\n",
    "\n",
    "# Visualizzare gli intervalli di confidenza\n",
    "print(ic_sentiment)\n"
   ]
  },
  {
   "cell_type": "markdown",
   "id": "aee15958-fa9c-4037-9f4c-608f07dde88d",
   "metadata": {},
   "source": [
    "## 11.1 Verifica della validità degli intervalli di confidenza"
   ]
  },
  {
   "cell_type": "code",
   "execution_count": 81,
   "id": "51d8d692-6cdc-4d66-844a-8728802be00c",
   "metadata": {},
   "outputs": [
    {
     "name": "stdout",
     "output_type": "stream",
     "text": [
      "\n",
      "      neg       neu       pos \n",
      "0.6020327 0.2683723 0.1295949 \n"
     ]
    }
   ],
   "source": [
    "# Calcolare la stima puntuale per ciascun sentiment (proporzioni)\n",
    "proporzioni_sentiment <- prop.table(table(df$sentiment))\n",
    "\n",
    "# Visualizzare i risultati\n",
    "print(proporzioni_sentiment)"
   ]
  },
  {
   "cell_type": "markdown",
   "id": "4ba601cd-1b41-4b1f-9827-cefb453ca9df",
   "metadata": {},
   "source": [
    "# 12 test di ipotesi"
   ]
  },
  {
   "cell_type": "markdown",
   "id": "c001ede8-cb7f-4670-9ab7-1541afbe2539",
   "metadata": {},
   "source": [
    "Ipotesi nulla e alternativa:\n",
    "\n",
    "- Ipotesi nulla (H0): La proporzione dei sentiment positivi del campione è uguale a una proporzione attesa p0 = 0.1295949)\n",
    "- Ipotesi alternativa (H1): La proporzione dei sentiment positivi del campione è significativamente diversa da p0 = 0.1295949)"
   ]
  },
  {
   "cell_type": "code",
   "execution_count": 83,
   "id": "d6e73eeb-159e-49b0-a28c-6aaf96ea3b6a",
   "metadata": {},
   "outputs": [
    {
     "name": "stdout",
     "output_type": "stream",
     "text": [
      "Statistica Z: -1.448004 \n",
      "P-value: 0.1476161 \n",
      "Non rifiutiamo l'ipotesi nulla: non c'è evidenza sufficiente per dire che la proporzione di sentiment 'pos' è diversa da  0.1295949 .\n"
     ]
    }
   ],
   "source": [
    "# Definire la proporzione attesa (ipotesi nulla)\n",
    "p_0 <- 0.1295949\n",
    "\n",
    "# Calcolare la proporzione osservata nel campione per sentiment \"pos\"\n",
    "p_hat <- prop.table(table(df_campione$sentiment))[\"pos\"]\n",
    "\n",
    "# Calcolare la dimensione del campione\n",
    "n <- length(df_campione$sentiment)\n",
    "\n",
    "# Calcolare la statistica Z\n",
    "z_stat <- (p_hat - p_0) / sqrt((p_0 * (1 - p_0)) / n)\n",
    "\n",
    "# Calcolare il p-value per il test a due code\n",
    "p_value <- 2 * (1 - pnorm(abs(z_stat)))  # Test a due code\n",
    "\n",
    "# Visualizzare i risultati\n",
    "cat(\"Statistica Z:\", z_stat, \"\\n\")\n",
    "cat(\"P-value:\", p_value, \"\\n\")\n",
    "\n",
    "# Conclusione del test\n",
    "if (p_value < 0.05) {\n",
    "  cat(\"Rifiutiamo l'ipotesi nulla: la proporzione di sentiment 'pos' è significativamente diversa da \", p_0,\".\\n\")\n",
    "} else {\n",
    "  cat(\"Non rifiutiamo l'ipotesi nulla: non c'è evidenza sufficiente per dire che la proporzione di sentiment 'pos' è diversa da \", p_0,\".\\n\")\n",
    "}\n"
   ]
  },
  {
   "cell_type": "markdown",
   "id": "ec94f58a-5051-4d4e-97f5-39892fbebcbf",
   "metadata": {},
   "source": [
    "# 13 Risposta alla domanda di ricerca"
   ]
  },
  {
   "cell_type": "markdown",
   "id": "19ad5483-005d-40d5-b474-d9deef8d3063",
   "metadata": {},
   "source": [
    "## 13.1 Definizione del modello"
   ]
  },
  {
   "cell_type": "markdown",
   "id": "b677b7c4-ae2e-4a78-98b9-d9f9958f64b9",
   "metadata": {},
   "source": [
    "La distribuzione di Poisson è usata per modellare il numero di eventi (in questo caso sentiment, ad esempio neg, neu, pos) che si verificano in un intervallo di tempo o spazio, assumendo che:\n",
    "\n",
    "- Gli eventi siano indipendenti.\n",
    "- La probabilità di un evento in un intervallo è proporzionale alla lunghezza dell'intervallo.\n",
    "- La probabilità di due o più eventi nello stesso intervallo è trascurabile."
   ]
  },
  {
   "cell_type": "markdown",
   "id": "c80a6c13-9ad1-42d5-b09e-2335bf1caec1",
   "metadata": {},
   "source": [
    "Vogliamo:\n",
    "- Stimare il parametro 𝜆 : il tasso medio di sentiment osservati nell'intervallo 𝛾\n",
    "- Confrontare il numero osservato di sentiment con quanto atteso da una distribuzione di Poisson.\n",
    "- Testare l'adattamento dei dati alla distribuzione di Poisson."
   ]
  },
  {
   "cell_type": "markdown",
   "id": "43d6f448-f6ba-429b-9f41-97c36aadb705",
   "metadata": {},
   "source": [
    "## 13.2 Definizione degli intervalli"
   ]
  },
  {
   "cell_type": "code",
   "execution_count": 5,
   "id": "d9b6f97c-dfc7-4e31-a4ce-2422fdcc7017",
   "metadata": {},
   "outputs": [],
   "source": [
    "library(dplyr)\n",
    "\n",
    "# Converto la colonna timestamp in un formato data-ora\n",
    "df$timestamp <- as.POSIXct(df$tweetcreatedts)\n",
    "\n",
    "# Creo una colonna con l'ora di pubblicazione (puoi scegliere altri intervalli, come il giorno)\n",
    "df$ora <- format(df$timestamp, \"%H\")  # Ora come intervallo"
   ]
  },
  {
   "cell_type": "code",
   "execution_count": 6,
   "id": "6a930a72-9509-4909-a4cd-4a23a6d63ee8",
   "metadata": {},
   "outputs": [
    {
     "name": "stderr",
     "output_type": "stream",
     "text": [
      "\u001b[1m\u001b[22m`summarise()` has grouped output by 'ora'. You can override using the `.groups` argument.\n"
     ]
    },
    {
     "name": "stdout",
     "output_type": "stream",
     "text": [
      "\u001b[90m# A tibble: 72 x 3\u001b[39m\n",
      "\u001b[90m# Groups:   ora [24]\u001b[39m\n",
      "   ora   sentiment conteggio\n",
      "   \u001b[3m\u001b[90m<chr>\u001b[39m\u001b[23m \u001b[3m\u001b[90m<chr>\u001b[39m\u001b[23m         \u001b[3m\u001b[90m<int>\u001b[39m\u001b[23m\n",
      "\u001b[90m 1\u001b[39m 00    neg           \u001b[4m1\u001b[24m\u001b[4m5\u001b[24m886\n",
      "\u001b[90m 2\u001b[39m 00    neu            \u001b[4m6\u001b[24m289\n",
      "\u001b[90m 3\u001b[39m 00    pos            \u001b[4m2\u001b[24m984\n",
      "\u001b[90m 4\u001b[39m 01    neg           \u001b[4m1\u001b[24m\u001b[4m4\u001b[24m136\n",
      "\u001b[90m 5\u001b[39m 01    neu            \u001b[4m5\u001b[24m831\n",
      "\u001b[90m 6\u001b[39m 01    pos            \u001b[4m2\u001b[24m792\n",
      "\u001b[90m 7\u001b[39m 02    neg           \u001b[4m1\u001b[24m\u001b[4m4\u001b[24m076\n",
      "\u001b[90m 8\u001b[39m 02    neu            \u001b[4m5\u001b[24m614\n",
      "\u001b[90m 9\u001b[39m 02    pos            \u001b[4m2\u001b[24m727\n",
      "\u001b[90m10\u001b[39m 03    neg           \u001b[4m1\u001b[24m\u001b[4m5\u001b[24m141\n",
      "\u001b[90m# i 62 more rows\u001b[39m\n"
     ]
    }
   ],
   "source": [
    "# Conto i sentimenti per ogni intervallo di tempo (ora)\n",
    "conteggio_sentiment <- df %>%\n",
    "  group_by(ora, sentiment) %>%\n",
    "  summarise(conteggio = n())\n",
    "\n",
    "# Visualizzo i conteggi\n",
    "print(conteggio_sentiment)\n"
   ]
  },
  {
   "cell_type": "markdown",
   "id": "735ce338-bbc6-4d8c-bc5c-1e038ce51d2a",
   "metadata": {},
   "source": [
    "## 13.3 Calcolo del tasso di eventi (lambda) per la disribuzione di Poisson"
   ]
  },
  {
   "cell_type": "code",
   "execution_count": 123,
   "id": "cba6cb55-96c8-42f0-b15c-570b79c24e72",
   "metadata": {},
   "outputs": [
    {
     "name": "stdout",
     "output_type": "stream",
     "text": [
      "Tasso medio per sentiment pos: 4193.417 \n",
      "Tasso medio per sentiment neu: 8683.958 \n",
      "Tasso medio per sentiment neg: 19480.5 \n"
     ]
    }
   ],
   "source": [
    "# Calcolo il tasso medio (lambda) di sentiment per ogni intervallo di tempo\n",
    "lambda_pos <- mean(conteggio_sentiment$conteggio[conteggio_sentiment$sentiment == \"pos\"])\n",
    "lambda_neu <- mean(conteggio_sentiment$conteggio[conteggio_sentiment$sentiment == \"neu\"])\n",
    "lambda_neg <- mean(conteggio_sentiment$conteggio[conteggio_sentiment$sentiment == \"neg\"])\n",
    "\n",
    "cat(\"Tasso medio per sentiment pos:\", lambda_pos, \"\\n\")\n",
    "cat(\"Tasso medio per sentiment neu:\", lambda_neu, \"\\n\")\n",
    "cat(\"Tasso medio per sentiment neg:\", lambda_neg, \"\\n\")\n"
   ]
  },
  {
   "cell_type": "markdown",
   "id": "f664a26e-2329-40b3-9076-64100562c245",
   "metadata": {},
   "source": [
    "## 13.4 Applicare la distribuzione di Poisson"
   ]
  },
  {
   "cell_type": "code",
   "execution_count": 121,
   "id": "180193a1-0dfd-4ea9-bcda-a4cee9e0993b",
   "metadata": {},
   "outputs": [
    {
     "data": {
      "image/png": "[encoded data removed]",
      "text/plain": [
       "plot without title"
      ]
     },
     "metadata": {
      "image/png": {
       "height": 420,
       "width": 420
      }
     },
     "output_type": "display_data"
    }
   ],
   "source": [
    "library(ggplot2)\n",
    "\n",
    "# Numero massimo di tweet che vogliamo considerare\n",
    "k_max <- 20000  # Numero massimo di tweet per il grafico\n",
    "\n",
    "# Creo una sequenza di valori di k\n",
    "k_values <- 0:k_max\n",
    "\n",
    "# Calcolo la probabilità cumulativa di Poisson per ciascun sentiment (pos, neu, neg)\n",
    "prob_pos <- ppois(k_values, lambda_pos)\n",
    "prob_neu <- ppois(k_values, lambda_neu)\n",
    "prob_neg <- ppois(k_values, lambda_neg)\n",
    "\n",
    "# Creo un dataframe per il grafico\n",
    "df_prob <- data.frame(\n",
    "  k = rep(k_values, 3),\n",
    "  prob = c(prob_pos, prob_neu, prob_neg),\n",
    "  sentiment = rep(c(\"Positivo\", \"Neutro\", \"Negativo\"), each = length(k_values))\n",
    ")\n",
    "\n",
    "# Creo il grafico con ggplot2\n",
    "ggplot(df_prob, aes(x = k, y = prob, color = sentiment)) + \n",
    "  geom_line(size = 1) + \n",
    "  labs(title = \"Probabilità cumulativa di Poisson per sentiment\",\n",
    "       x = \"Numero di tweet\",\n",
    "       y = \"Probabilità\",\n",
    "       color = \"Sentiment\") + \n",
    "  theme_minimal() + \n",
    "  scale_color_manual(values = c(\"Positivo\" = \"green\", \"Neutro\" = \"blue\", \"Negativo\" = \"red\"))\n"
   ]
  },
  {
   "cell_type": "markdown",
   "id": "3926f1c8-f8fb-4910-94c8-652cdc213ffa",
   "metadata": {},
   "source": [
    "## 13.5 Test di adattamento alla distribuzione di Poisson (usando solo pos)"
   ]
  },
  {
   "cell_type": "code",
   "execution_count": 10,
   "id": "02bc2b2d-d666-4a26-baa8-7bb44b2c83f9",
   "metadata": {},
   "outputs": [
    {
     "name": "stdout",
     "output_type": "stream",
     "text": [
      "Quantile inferiore: 11.68855 \n",
      "Quantile superiore: 38.07563 \n",
      "Statistica chi-quadrato: 8.200984e+207 \n",
      "Rifiutiamo l'ipotesi nulla: la distribuzione delle occorrenze non segue una distribuzione di Poisson.\n"
     ]
    }
   ],
   "source": [
    "# Sentimenti positivi per ogni ora\n",
    "camppois <- conteggio_sentiment$conteggio[conteggio_sentiment$sentiment == \"pos\"]\n",
    "\n",
    "# Numero totale di eventi (sentimenti positivi)\n",
    "n <- length(camppois)\n",
    "\n",
    "# Frequenze osservate per ogni conteggio (tabella delle frequenze)\n",
    "freq <- table(camppois)\n",
    "\n",
    "# Stima di lambda (media degli eventi per ora)\n",
    "stimalambda <- mean(camppois)\n",
    "\n",
    "# Valori unici dei conteggi osservati\n",
    "valori <- as.numeric(names(freq))\n",
    "\n",
    "# Calcolo delle probabilità teoriche di Poisson\n",
    "prob_poisson <- dpois(valori, lambda = stimalambda)\n",
    "\n",
    "# Calcolo delle frequenze attese\n",
    "frequenze_attese <- sum(freq) * prob_poisson\n",
    "\n",
    "# Calcolo la statistica chi-quadrato\n",
    "chi2 <- sum((freq - frequenze_attese)^2 / frequenze_attese)\n",
    "\n",
    "# Gradi di libertà (numero di categorie - 1)\n",
    "df <- length(valori) - 1\n",
    "alpha <- 0.05\n",
    "\n",
    "# Calcolo i quantili per la soglia di accettazione\n",
    "q1 <- qchisq(alpha / 2, df = df)\n",
    "q2 <- qchisq(1 - alpha / 2, df = df)\n",
    "\n",
    "# Stampa dei risultati\n",
    "cat(\"Quantile inferiore:\", q1, \"\\n\")\n",
    "cat(\"Quantile superiore:\", q2, \"\\n\")\n",
    "cat(\"Statistica chi-quadrato:\", chi2, \"\\n\")\n",
    "\n",
    "# Confronta la statistica chi-quadrato con i quantili\n",
    "if (chi2 < q1 | chi2 > q2) {\n",
    "  cat(\"Rifiutiamo l'ipotesi nulla: la distribuzione delle occorrenze non segue una distribuzione di Poisson.\\n\")\n",
    "} else {\n",
    "  cat(\"Non rifiutiamo l'ipotesi nulla: la distribuzione delle occorrenze segue una distribuzione di Poisson.\\n\")\n",
    "}\n"
   ]
  },
  {
   "cell_type": "markdown",
   "id": "7fbe8eca-3b5d-4565-88f6-cf3adda0dc77",
   "metadata": {},
   "source": [
    "## 13.7 Conclusioni"
   ]
  },
  {
   "cell_type": "markdown",
   "id": "70b4a1e6-7ffc-4456-bd17-ffb6f2b0eb72",
   "metadata": {},
   "source": [
    "Quando la statistica del chi-quadrato tende all'infinito, significa che c'è una grande discrepanza tra le frequenze osservate e \n",
    "le frequenze attese. In altre parole, i dati osservati non si adattano bene al modello teorico, che in questo caso è la distribuzione di Poisson."
   ]
  },
  {
   "cell_type": "markdown",
   "id": "e8ed9068-28dc-40fa-96b0-041c2756dd9e",
   "metadata": {},
   "source": [
    "## 13.8 Verifica distribuzione"
   ]
  },
  {
   "cell_type": "code",
   "execution_count": 6,
   "id": "844499b3-7e20-47eb-b636-35fbeb29347a",
   "metadata": {},
   "outputs": [
    {
     "data": {
      "image/png": "[encoded data removed]",
      "text/plain": [
       "plot without title"
      ]
     },
     "metadata": {
      "image/png": {
       "height": 420,
       "width": 420
      }
     },
     "output_type": "display_data"
    }
   ],
   "source": [
    "library(ggplot2)\n",
    "\n",
    "ggplot(conteggio_sentiment, aes(x = ora, y = conteggio, fill = sentiment)) +\n",
    "  geom_bar(stat = \"identity\", position = \"dodge\") +\n",
    "  labs(title = \"Conteggio dei sentiment per ora\", x = \"Ora\", y = \"Conteggio\") +\n",
    "  theme_minimal() +\n",
    "  scale_fill_viridis_d(name = \"Sentiment\")\n"
   ]
  },
  {
   "cell_type": "code",
   "execution_count": 7,
   "id": "5e990e55-5376-483b-a62d-e136ee91a0b2",
   "metadata": {},
   "outputs": [
    {
     "name": "stderr",
     "output_type": "stream",
     "text": [
      "Warning message:\n",
      "\"\u001b[1m\u001b[22mUsing `size` aesthetic for lines was deprecated in ggplot2 3.4.0.\n",
      "\u001b[36mi\u001b[39m Please use `linewidth` instead.\"\n"
     ]
    },
    {
     "data": {
      "image/png": "[encoded data removed]",
      "text/plain": [
       "plot without title"
      ]
     },
     "metadata": {
      "image/png": {
       "height": 420,
       "width": 420
      }
     },
     "output_type": "display_data"
    },
    {
     "data": {
      "image/png": "[encoded data removed]",
      "text/plain": [
       "plot without title"
      ]
     },
     "metadata": {
      "image/png": {
       "height": 420,
       "width": 420
      }
     },
     "output_type": "display_data"
    }
   ],
   "source": [
    "# Sommare i conteggi per ogni ora\n",
    "data_tot <- aggregate(conteggio ~ ora, data = conteggio_sentiment, sum)\n",
    "\n",
    "# Grafico a linee\n",
    "ggplot(data_tot, aes(x = as.numeric(ora), y = conteggio)) +\n",
    "  geom_line(size = 1, color = \"blue\") +\n",
    "  geom_point(size = 2, color = \"red\") +\n",
    "  labs(title = \"Andamento dei conteggi totali per ora\", x = \"Ora\", y = \"Conteggio Totale\") +\n",
    "  theme_minimal()\n",
    "\n",
    "# Istogramma\n",
    "ggplot(data_tot, aes(x = conteggio)) +\n",
    "  geom_histogram(binwidth = 2000, fill = \"skyblue\", color = \"black\", alpha = 0.7) +\n",
    "  labs(title = \"Istogramma dei conteggi totali\", x = \"Conteggio Totale\", y = \"Frequenza\") +\n",
    "  theme_minimal()\n"
   ]
  },
  {
   "cell_type": "markdown",
   "id": "af0b693d-e6d1-47a8-8150-b20e0c8b9d00",
   "metadata": {},
   "source": [
    "## 13.9 Verifica distribuzione che più si affina ai dati"
   ]
  },
  {
   "cell_type": "code",
   "execution_count": 14,
   "id": "63ae0a79-7921-4579-bd54-794f4bfe107c",
   "metadata": {},
   "outputs": [
    {
     "name": "stdout",
     "output_type": "stream",
     "text": [
      "\n",
      "  C'è una versione binaria disponibile, ma la versione con le sorgenti\n",
      "  è successiva:\n",
      "             binary source needs_compilation\n",
      "fitdistrplus  1.1-8  1.2-1             FALSE\n",
      "\n"
     ]
    },
    {
     "name": "stderr",
     "output_type": "stream",
     "text": [
      "installazione pacchetto sorgenti 'fitdistrplus'\n",
      "\n",
      "\n"
     ]
    }
   ],
   "source": [
    "install.packages(\"fitdistrplus\")"
   ]
  },
  {
   "cell_type": "code",
   "execution_count": 30,
   "id": "96792590-9522-405a-b8dd-f34e10fe1091",
   "metadata": {},
   "outputs": [
    {
     "name": "stdout",
     "output_type": "stream",
     "text": [
      "La distribuzione migliore è: weibull con un AIC di: 496.0852 \n"
     ]
    },
    {
     "ename": "ERROR",
     "evalue": "Error in hist.default(data, freq = FALSE, xlab = \"Data\", ylim = c(0, ymax), : l'argomento formale \"main\" corrisponde con multipli argomenti passati\n",
     "output_type": "error",
     "traceback": [
      "Error in hist.default(data, freq = FALSE, xlab = \"Data\", ylim = c(0, ymax), : l'argomento formale \"main\" corrisponde con multipli argomenti passati\nTraceback:\n",
      "1. plot(fit_norm, main = \"Normale\")",
      "2. plot.fitdist(fit_norm, main = \"Normale\")",
      "3. plotdist(data = x$data, distr = x$distname, para = c(as.list(x$estimate), \n .     as.list(x$fix.arg)), breaks = breaks, discrete = x$discrete, \n .     ...)",
      "4. hist(data, freq = FALSE, xlab = \"Data\", ylim = c(0, ymax), breaks = h$breaks, \n .     main = paste(\"Empirical and theoretical dens.\"), ...)"
     ]
    }
   ],
   "source": [
    "library(fitdistrplus)\n",
    "\n",
    "# Fit delle distribuzioni\n",
    "fit_norm <- fitdist(data_tot$conteggio, \"norm\")\n",
    "fit_pois <- fitdist(data_tot$conteggio, \"pois\")\n",
    "fit_lognorm <- fitdist(data_tot$conteggio, \"lnorm\")\n",
    "fit_weibull <- fitdist(data_tot$conteggio, \"weibull\")\n",
    "fit_nbinom <- fitdist(data_tot$conteggio, \"nbinom\")\n",
    "\n",
    "# Creazione di un vettore con gli AIC di ciascun fit\n",
    "aic_values <- c(\n",
    "  norm = fit_norm$aic,\n",
    "  pois = fit_pois$aic,\n",
    "  lognorm = fit_lognorm$aic,\n",
    "  weibull = fit_weibull$aic,\n",
    "  nbinom = fit_nbinom$aic\n",
    ")\n",
    "\n",
    "# Identificazione della distribuzione con il miglior AIC\n",
    "best_dist <- names(aic_values)[which.min(aic_values)]\n",
    "best_aic <- min(aic_values)\n",
    "\n",
    "# Stampa del risultato\n",
    "cat(\"La distribuzione migliore è:\", best_dist, \"con un AIC di:\", best_aic, \"\\n\")\n",
    "\n",
    "# Visualizzazione dei grafici\n",
    "par(mfrow = c(3, 3))  # Layout dei grafici (9)\n",
    "plot(fit_norm, main = \"Normale\")\n",
    "plot(fit_pois, main = \"Poisson\")\n",
    "plot(fit_lognorm, main = \"Lognormale\")\n",
    "plot(fit_weibull, main = \"Weibull\")\n",
    "plot(fit_nbinom, main = \"Binomiale Negativa\")\n",
    "par(mfrow = c(1, 1))  # Reset layout\n"
   ]
  },
  {
   "cell_type": "markdown",
   "id": "0f3fe4d6-a4ef-4695-ba4b-6dc75db648c9",
   "metadata": {},
   "source": [
    "### 13.8.1 Stampa della distribuzione di weillbul"
   ]
  },
  {
   "cell_type": "code",
   "execution_count": 32,
   "id": "daa43a8c-49f2-4be3-a969-701f6007fead",
   "metadata": {},
   "outputs": [
    {
     "data": {
      "text/plain": [
       "Fitting of the distribution ' weibull ' by maximum likelihood \n",
       "Parameters : \n",
       "          estimate   Std. Error\n",
       "shape     5.495081    0.9124878\n",
       "scale 35155.939887 1370.2812582\n",
       "Loglikelihood:  -246.0426   AIC:  496.0852   BIC:  498.4413 \n",
       "Correlation matrix:\n",
       "          shape     scale\n",
       "shape 1.0000000 0.3113664\n",
       "scale 0.3113664 1.0000000\n"
      ]
     },
     "metadata": {},
     "output_type": "display_data"
    },
    {
     "data": {
      "image/png": "[encoded data removed]",
      "text/plain": [
       "Plot with title \"Distribuzione Weibull\n",
       "Shape = 5.5 , Scale = 35155.94\""
      ]
     },
     "metadata": {
      "image/png": {
       "height": 420,
       "width": 420
      }
     },
     "output_type": "display_data"
    }
   ],
   "source": [
    "# Fit della distribuzione Weibull\n",
    "fit_weibull <- fitdist(data_tot$conteggio, \"weibull\")\n",
    "\n",
    "# Stampa un riepilogo del modello Weibull\n",
    "summary(fit_weibull)\n",
    "\n",
    "# Visualizzazione della distribuzione adattata\n",
    "# Rimuoviamo il 'main' dal plot per evitare conflitti\n",
    "plot(fit_weibull)\n",
    "\n",
    "# Aggiungiamo la curva della distribuzione Weibull alla visualizzazione\n",
    "curve(dweibull(x, shape = fit_weibull$estimate[1], scale = fit_weibull$estimate[2]), \n",
    "      from = 0, to = max(data_tot$conteggio), col = \"blue\", lwd = 2, add = TRUE)\n",
    "\n",
    "# Titolo informativo per la curva Weibull adattata\n",
    "title(main = paste(\"Distribuzione Weibull\\nShape =\", round(fit_weibull$estimate[1], 2),\n",
    "                   \", Scale =\", round(fit_weibull$estimate[2], 2)))\n"
   ]
  },
  {
   "cell_type": "code",
   "execution_count": null,
   "id": "378ed160-124e-44f8-923f-92d741d6bbc6",
   "metadata": {},
   "outputs": [],
   "source": []
  }
 ],
 "metadata": {
  "kernelspec": {
   "display_name": "R",
   "language": "R",
   "name": "ir"
  },
  "language_info": {
   "codemirror_mode": "r",
   "file_extension": ".r",
   "mimetype": "text/x-r-source",
   "name": "R",
   "pygments_lexer": "r",
   "version": "4.1.3"
  }
 },
 "nbformat": 4,
 "nbformat_minor": 5
}
